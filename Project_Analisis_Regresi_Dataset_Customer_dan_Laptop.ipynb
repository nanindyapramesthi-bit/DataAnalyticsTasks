{
  "nbformat": 4,
  "nbformat_minor": 0,
  "metadata": {
    "colab": {
      "provenance": [],
      "authorship_tag": "ABX9TyMr+WmsTqiuEptmaqQaZUFW",
      "include_colab_link": true
    },
    "kernelspec": {
      "name": "python3",
      "display_name": "Python 3"
    },
    "language_info": {
      "name": "python"
    }
  },
  "cells": [
    {
      "cell_type": "markdown",
      "metadata": {
        "id": "view-in-github",
        "colab_type": "text"
      },
      "source": [
        "<a href=\"https://colab.research.google.com/github/nanindyapramesthi-bit/DataAnalyticsTasks/blob/main/Project_Analisis_Regresi_Dataset_Customer_dan_Laptop.ipynb\" target=\"_parent\"><img src=\"https://colab.research.google.com/assets/colab-badge.svg\" alt=\"Open In Colab\"/></a>"
      ]
    },
    {
      "cell_type": "code",
      "execution_count": null,
      "metadata": {
        "id": "eEpr8uNwn84o"
      },
      "outputs": [],
      "source": [
        "# Mengimpor library yang diperlukan\n",
        "from pprint import pprint\n",
        "from time import time\n",
        "\n",
        "import matplotlib.pyplot as plt\n",
        "import numpy as np\n",
        "import pandas as pd\n",
        "import seaborn as sns\n",
        "from sklearn.cluster import KMeans, MiniBatchKMeans\n",
        "from sklearn.metrics import silhouette_score\n",
        "from sklearn.preprocessing import StandardScaler, OneHotEncoder\n",
        "from datetime import datetime\n",
        "from sklearn.preprocessing import LabelEncoder\n",
        "from sklearn.pipeline import Pipeline\n",
        "from sklearn.compose import ColumnTransformer\n",
        "from sklearn.preprocessing import StandardScaler,PolynomialFeatures\n",
        "from sklearn.linear_model import LinearRegression\n",
        "from sklearn.model_selection import train_test_split\n",
        "import statsmodels.api as sa\n",
        "import statsmodels.formula.api as sm\n",
        "%matplotlib inline"
      ]
    },
    {
      "cell_type": "markdown",
      "source": [
        "Load and Explore data"
      ],
      "metadata": {
        "id": "FFRPiy_C4i8v"
      }
    },
    {
      "cell_type": "code",
      "source": [
        "# Upload dataset dari lokal ke Google Colab\n",
        "from google.colab import files\n",
        "uploaded = files.upload()"
      ],
      "metadata": {
        "colab": {
          "base_uri": "https://localhost:8080/",
          "height": 108
        },
        "id": "KvbDCWxZo3sY",
        "outputId": "d6ba895e-81e1-460c-d57b-17009a2318ac"
      },
      "execution_count": null,
      "outputs": [
        {
          "output_type": "display_data",
          "data": {
            "text/plain": [
              "<IPython.core.display.HTML object>"
            ],
            "text/html": [
              "\n",
              "     <input type=\"file\" id=\"files-f7d51f4f-d5e3-4fd1-8c91-7feca16f9b19\" name=\"files[]\" multiple disabled\n",
              "        style=\"border:none\" />\n",
              "     <output id=\"result-f7d51f4f-d5e3-4fd1-8c91-7feca16f9b19\">\n",
              "      Upload widget is only available when the cell has been executed in the\n",
              "      current browser session. Please rerun this cell to enable.\n",
              "      </output>\n",
              "      <script>// Copyright 2017 Google LLC\n",
              "//\n",
              "// Licensed under the Apache License, Version 2.0 (the \"License\");\n",
              "// you may not use this file except in compliance with the License.\n",
              "// You may obtain a copy of the License at\n",
              "//\n",
              "//      http://www.apache.org/licenses/LICENSE-2.0\n",
              "//\n",
              "// Unless required by applicable law or agreed to in writing, software\n",
              "// distributed under the License is distributed on an \"AS IS\" BASIS,\n",
              "// WITHOUT WARRANTIES OR CONDITIONS OF ANY KIND, either express or implied.\n",
              "// See the License for the specific language governing permissions and\n",
              "// limitations under the License.\n",
              "\n",
              "/**\n",
              " * @fileoverview Helpers for google.colab Python module.\n",
              " */\n",
              "(function(scope) {\n",
              "function span(text, styleAttributes = {}) {\n",
              "  const element = document.createElement('span');\n",
              "  element.textContent = text;\n",
              "  for (const key of Object.keys(styleAttributes)) {\n",
              "    element.style[key] = styleAttributes[key];\n",
              "  }\n",
              "  return element;\n",
              "}\n",
              "\n",
              "// Max number of bytes which will be uploaded at a time.\n",
              "const MAX_PAYLOAD_SIZE = 100 * 1024;\n",
              "\n",
              "function _uploadFiles(inputId, outputId) {\n",
              "  const steps = uploadFilesStep(inputId, outputId);\n",
              "  const outputElement = document.getElementById(outputId);\n",
              "  // Cache steps on the outputElement to make it available for the next call\n",
              "  // to uploadFilesContinue from Python.\n",
              "  outputElement.steps = steps;\n",
              "\n",
              "  return _uploadFilesContinue(outputId);\n",
              "}\n",
              "\n",
              "// This is roughly an async generator (not supported in the browser yet),\n",
              "// where there are multiple asynchronous steps and the Python side is going\n",
              "// to poll for completion of each step.\n",
              "// This uses a Promise to block the python side on completion of each step,\n",
              "// then passes the result of the previous step as the input to the next step.\n",
              "function _uploadFilesContinue(outputId) {\n",
              "  const outputElement = document.getElementById(outputId);\n",
              "  const steps = outputElement.steps;\n",
              "\n",
              "  const next = steps.next(outputElement.lastPromiseValue);\n",
              "  return Promise.resolve(next.value.promise).then((value) => {\n",
              "    // Cache the last promise value to make it available to the next\n",
              "    // step of the generator.\n",
              "    outputElement.lastPromiseValue = value;\n",
              "    return next.value.response;\n",
              "  });\n",
              "}\n",
              "\n",
              "/**\n",
              " * Generator function which is called between each async step of the upload\n",
              " * process.\n",
              " * @param {string} inputId Element ID of the input file picker element.\n",
              " * @param {string} outputId Element ID of the output display.\n",
              " * @return {!Iterable<!Object>} Iterable of next steps.\n",
              " */\n",
              "function* uploadFilesStep(inputId, outputId) {\n",
              "  const inputElement = document.getElementById(inputId);\n",
              "  inputElement.disabled = false;\n",
              "\n",
              "  const outputElement = document.getElementById(outputId);\n",
              "  outputElement.innerHTML = '';\n",
              "\n",
              "  const pickedPromise = new Promise((resolve) => {\n",
              "    inputElement.addEventListener('change', (e) => {\n",
              "      resolve(e.target.files);\n",
              "    });\n",
              "  });\n",
              "\n",
              "  const cancel = document.createElement('button');\n",
              "  inputElement.parentElement.appendChild(cancel);\n",
              "  cancel.textContent = 'Cancel upload';\n",
              "  const cancelPromise = new Promise((resolve) => {\n",
              "    cancel.onclick = () => {\n",
              "      resolve(null);\n",
              "    };\n",
              "  });\n",
              "\n",
              "  // Wait for the user to pick the files.\n",
              "  const files = yield {\n",
              "    promise: Promise.race([pickedPromise, cancelPromise]),\n",
              "    response: {\n",
              "      action: 'starting',\n",
              "    }\n",
              "  };\n",
              "\n",
              "  cancel.remove();\n",
              "\n",
              "  // Disable the input element since further picks are not allowed.\n",
              "  inputElement.disabled = true;\n",
              "\n",
              "  if (!files) {\n",
              "    return {\n",
              "      response: {\n",
              "        action: 'complete',\n",
              "      }\n",
              "    };\n",
              "  }\n",
              "\n",
              "  for (const file of files) {\n",
              "    const li = document.createElement('li');\n",
              "    li.append(span(file.name, {fontWeight: 'bold'}));\n",
              "    li.append(span(\n",
              "        `(${file.type || 'n/a'}) - ${file.size} bytes, ` +\n",
              "        `last modified: ${\n",
              "            file.lastModifiedDate ? file.lastModifiedDate.toLocaleDateString() :\n",
              "                                    'n/a'} - `));\n",
              "    const percent = span('0% done');\n",
              "    li.appendChild(percent);\n",
              "\n",
              "    outputElement.appendChild(li);\n",
              "\n",
              "    const fileDataPromise = new Promise((resolve) => {\n",
              "      const reader = new FileReader();\n",
              "      reader.onload = (e) => {\n",
              "        resolve(e.target.result);\n",
              "      };\n",
              "      reader.readAsArrayBuffer(file);\n",
              "    });\n",
              "    // Wait for the data to be ready.\n",
              "    let fileData = yield {\n",
              "      promise: fileDataPromise,\n",
              "      response: {\n",
              "        action: 'continue',\n",
              "      }\n",
              "    };\n",
              "\n",
              "    // Use a chunked sending to avoid message size limits. See b/62115660.\n",
              "    let position = 0;\n",
              "    do {\n",
              "      const length = Math.min(fileData.byteLength - position, MAX_PAYLOAD_SIZE);\n",
              "      const chunk = new Uint8Array(fileData, position, length);\n",
              "      position += length;\n",
              "\n",
              "      const base64 = btoa(String.fromCharCode.apply(null, chunk));\n",
              "      yield {\n",
              "        response: {\n",
              "          action: 'append',\n",
              "          file: file.name,\n",
              "          data: base64,\n",
              "        },\n",
              "      };\n",
              "\n",
              "      let percentDone = fileData.byteLength === 0 ?\n",
              "          100 :\n",
              "          Math.round((position / fileData.byteLength) * 100);\n",
              "      percent.textContent = `${percentDone}% done`;\n",
              "\n",
              "    } while (position < fileData.byteLength);\n",
              "  }\n",
              "\n",
              "  // All done.\n",
              "  yield {\n",
              "    response: {\n",
              "      action: 'complete',\n",
              "    }\n",
              "  };\n",
              "}\n",
              "\n",
              "scope.google = scope.google || {};\n",
              "scope.google.colab = scope.google.colab || {};\n",
              "scope.google.colab._files = {\n",
              "  _uploadFiles,\n",
              "  _uploadFilesContinue,\n",
              "};\n",
              "})(self);\n",
              "</script> "
            ]
          },
          "metadata": {}
        },
        {
          "output_type": "stream",
          "name": "stdout",
          "text": [
            "Saving customer_data.csv to customer_data.csv\n",
            "Saving laptop_data.csv to laptop_data.csv\n"
          ]
        }
      ]
    },
    {
      "cell_type": "code",
      "source": [
        "# Membaca dataset dari file Excel\n",
        "start = time()\n",
        "data_customer = pd.read_csv('customer_data.csv')\n",
        "data_laptop = pd.read_csv('laptop_data.csv')\n",
        "end = time()\n",
        "print(\"Done loading all datasets in {:.3f}s\".format(end-start))"
      ],
      "metadata": {
        "colab": {
          "base_uri": "https://localhost:8080/"
        },
        "id": "TSUs8yFsqkrB",
        "outputId": "a2c69e6f-a4ad-4e21-bd98-98351f604595"
      },
      "execution_count": null,
      "outputs": [
        {
          "output_type": "stream",
          "name": "stdout",
          "text": [
            "Done loading all datasets in 0.018s\n"
          ]
        }
      ]
    },
    {
      "cell_type": "code",
      "source": [
        "with pd.option_context(\"display.max_columns\", None):\n",
        "    display(data_customer.head())"
      ],
      "metadata": {
        "colab": {
          "base_uri": "https://localhost:8080/",
          "height": 206
        },
        "id": "stl3CYAz0JLy",
        "outputId": "2f7bc10a-d3f7-4e16-fd46-ac0c998b4e8c"
      },
      "execution_count": null,
      "outputs": [
        {
          "output_type": "display_data",
          "data": {
            "text/plain": [
              "     ID  Year_Birth   Education   Income Dt_Customer  Recency  \\\n",
              "0  5524        1957  Graduation  58138.0    9/4/2012       58   \n",
              "1  2174        1954  Graduation  46344.0    3/8/2014       38   \n",
              "2  4141        1965  Graduation  71613.0   8/21/2013       26   \n",
              "3  6182        1984  Graduation  26646.0   2/10/2014       26   \n",
              "4  5324        1981         PhD  58293.0   1/19/2014       94   \n",
              "\n",
              "   NumWebPurchases  NumStorePurchases  NumWebVisitsMonth  \n",
              "0                8                  4                  7  \n",
              "1                1                  2                  5  \n",
              "2                8                 10                  4  \n",
              "3                2                  4                  6  \n",
              "4                5                  6                  5  "
            ],
            "text/html": [
              "\n",
              "  <div id=\"df-6cb1fffa-c23d-4bb9-84e8-b5d6c93750da\" class=\"colab-df-container\">\n",
              "    <div>\n",
              "<style scoped>\n",
              "    .dataframe tbody tr th:only-of-type {\n",
              "        vertical-align: middle;\n",
              "    }\n",
              "\n",
              "    .dataframe tbody tr th {\n",
              "        vertical-align: top;\n",
              "    }\n",
              "\n",
              "    .dataframe thead th {\n",
              "        text-align: right;\n",
              "    }\n",
              "</style>\n",
              "<table border=\"1\" class=\"dataframe\">\n",
              "  <thead>\n",
              "    <tr style=\"text-align: right;\">\n",
              "      <th></th>\n",
              "      <th>ID</th>\n",
              "      <th>Year_Birth</th>\n",
              "      <th>Education</th>\n",
              "      <th>Income</th>\n",
              "      <th>Dt_Customer</th>\n",
              "      <th>Recency</th>\n",
              "      <th>NumWebPurchases</th>\n",
              "      <th>NumStorePurchases</th>\n",
              "      <th>NumWebVisitsMonth</th>\n",
              "    </tr>\n",
              "  </thead>\n",
              "  <tbody>\n",
              "    <tr>\n",
              "      <th>0</th>\n",
              "      <td>5524</td>\n",
              "      <td>1957</td>\n",
              "      <td>Graduation</td>\n",
              "      <td>58138.0</td>\n",
              "      <td>9/4/2012</td>\n",
              "      <td>58</td>\n",
              "      <td>8</td>\n",
              "      <td>4</td>\n",
              "      <td>7</td>\n",
              "    </tr>\n",
              "    <tr>\n",
              "      <th>1</th>\n",
              "      <td>2174</td>\n",
              "      <td>1954</td>\n",
              "      <td>Graduation</td>\n",
              "      <td>46344.0</td>\n",
              "      <td>3/8/2014</td>\n",
              "      <td>38</td>\n",
              "      <td>1</td>\n",
              "      <td>2</td>\n",
              "      <td>5</td>\n",
              "    </tr>\n",
              "    <tr>\n",
              "      <th>2</th>\n",
              "      <td>4141</td>\n",
              "      <td>1965</td>\n",
              "      <td>Graduation</td>\n",
              "      <td>71613.0</td>\n",
              "      <td>8/21/2013</td>\n",
              "      <td>26</td>\n",
              "      <td>8</td>\n",
              "      <td>10</td>\n",
              "      <td>4</td>\n",
              "    </tr>\n",
              "    <tr>\n",
              "      <th>3</th>\n",
              "      <td>6182</td>\n",
              "      <td>1984</td>\n",
              "      <td>Graduation</td>\n",
              "      <td>26646.0</td>\n",
              "      <td>2/10/2014</td>\n",
              "      <td>26</td>\n",
              "      <td>2</td>\n",
              "      <td>4</td>\n",
              "      <td>6</td>\n",
              "    </tr>\n",
              "    <tr>\n",
              "      <th>4</th>\n",
              "      <td>5324</td>\n",
              "      <td>1981</td>\n",
              "      <td>PhD</td>\n",
              "      <td>58293.0</td>\n",
              "      <td>1/19/2014</td>\n",
              "      <td>94</td>\n",
              "      <td>5</td>\n",
              "      <td>6</td>\n",
              "      <td>5</td>\n",
              "    </tr>\n",
              "  </tbody>\n",
              "</table>\n",
              "</div>\n",
              "    <div class=\"colab-df-buttons\">\n",
              "\n",
              "  <div class=\"colab-df-container\">\n",
              "    <button class=\"colab-df-convert\" onclick=\"convertToInteractive('df-6cb1fffa-c23d-4bb9-84e8-b5d6c93750da')\"\n",
              "            title=\"Convert this dataframe to an interactive table.\"\n",
              "            style=\"display:none;\">\n",
              "\n",
              "  <svg xmlns=\"http://www.w3.org/2000/svg\" height=\"24px\" viewBox=\"0 -960 960 960\">\n",
              "    <path d=\"M120-120v-720h720v720H120Zm60-500h600v-160H180v160Zm220 220h160v-160H400v160Zm0 220h160v-160H400v160ZM180-400h160v-160H180v160Zm440 0h160v-160H620v160ZM180-180h160v-160H180v160Zm440 0h160v-160H620v160Z\"/>\n",
              "  </svg>\n",
              "    </button>\n",
              "\n",
              "  <style>\n",
              "    .colab-df-container {\n",
              "      display:flex;\n",
              "      gap: 12px;\n",
              "    }\n",
              "\n",
              "    .colab-df-convert {\n",
              "      background-color: #E8F0FE;\n",
              "      border: none;\n",
              "      border-radius: 50%;\n",
              "      cursor: pointer;\n",
              "      display: none;\n",
              "      fill: #1967D2;\n",
              "      height: 32px;\n",
              "      padding: 0 0 0 0;\n",
              "      width: 32px;\n",
              "    }\n",
              "\n",
              "    .colab-df-convert:hover {\n",
              "      background-color: #E2EBFA;\n",
              "      box-shadow: 0px 1px 2px rgba(60, 64, 67, 0.3), 0px 1px 3px 1px rgba(60, 64, 67, 0.15);\n",
              "      fill: #174EA6;\n",
              "    }\n",
              "\n",
              "    .colab-df-buttons div {\n",
              "      margin-bottom: 4px;\n",
              "    }\n",
              "\n",
              "    [theme=dark] .colab-df-convert {\n",
              "      background-color: #3B4455;\n",
              "      fill: #D2E3FC;\n",
              "    }\n",
              "\n",
              "    [theme=dark] .colab-df-convert:hover {\n",
              "      background-color: #434B5C;\n",
              "      box-shadow: 0px 1px 3px 1px rgba(0, 0, 0, 0.15);\n",
              "      filter: drop-shadow(0px 1px 2px rgba(0, 0, 0, 0.3));\n",
              "      fill: #FFFFFF;\n",
              "    }\n",
              "  </style>\n",
              "\n",
              "    <script>\n",
              "      const buttonEl =\n",
              "        document.querySelector('#df-6cb1fffa-c23d-4bb9-84e8-b5d6c93750da button.colab-df-convert');\n",
              "      buttonEl.style.display =\n",
              "        google.colab.kernel.accessAllowed ? 'block' : 'none';\n",
              "\n",
              "      async function convertToInteractive(key) {\n",
              "        const element = document.querySelector('#df-6cb1fffa-c23d-4bb9-84e8-b5d6c93750da');\n",
              "        const dataTable =\n",
              "          await google.colab.kernel.invokeFunction('convertToInteractive',\n",
              "                                                    [key], {});\n",
              "        if (!dataTable) return;\n",
              "\n",
              "        const docLinkHtml = 'Like what you see? Visit the ' +\n",
              "          '<a target=\"_blank\" href=https://colab.research.google.com/notebooks/data_table.ipynb>data table notebook</a>'\n",
              "          + ' to learn more about interactive tables.';\n",
              "        element.innerHTML = '';\n",
              "        dataTable['output_type'] = 'display_data';\n",
              "        await google.colab.output.renderOutput(dataTable, element);\n",
              "        const docLink = document.createElement('div');\n",
              "        docLink.innerHTML = docLinkHtml;\n",
              "        element.appendChild(docLink);\n",
              "      }\n",
              "    </script>\n",
              "  </div>\n",
              "\n",
              "\n",
              "<div id=\"df-43ce4267-8bfe-4939-b1e4-6fbaab0adfe1\">\n",
              "  <button class=\"colab-df-quickchart\" onclick=\"quickchart('df-43ce4267-8bfe-4939-b1e4-6fbaab0adfe1')\"\n",
              "            title=\"Suggest charts\"\n",
              "            style=\"display:none;\">\n",
              "\n",
              "<svg xmlns=\"http://www.w3.org/2000/svg\" height=\"24px\"viewBox=\"0 0 24 24\"\n",
              "     width=\"24px\">\n",
              "    <g>\n",
              "        <path d=\"M19 3H5c-1.1 0-2 .9-2 2v14c0 1.1.9 2 2 2h14c1.1 0 2-.9 2-2V5c0-1.1-.9-2-2-2zM9 17H7v-7h2v7zm4 0h-2V7h2v10zm4 0h-2v-4h2v4z\"/>\n",
              "    </g>\n",
              "</svg>\n",
              "  </button>\n",
              "\n",
              "<style>\n",
              "  .colab-df-quickchart {\n",
              "      --bg-color: #E8F0FE;\n",
              "      --fill-color: #1967D2;\n",
              "      --hover-bg-color: #E2EBFA;\n",
              "      --hover-fill-color: #174EA6;\n",
              "      --disabled-fill-color: #AAA;\n",
              "      --disabled-bg-color: #DDD;\n",
              "  }\n",
              "\n",
              "  [theme=dark] .colab-df-quickchart {\n",
              "      --bg-color: #3B4455;\n",
              "      --fill-color: #D2E3FC;\n",
              "      --hover-bg-color: #434B5C;\n",
              "      --hover-fill-color: #FFFFFF;\n",
              "      --disabled-bg-color: #3B4455;\n",
              "      --disabled-fill-color: #666;\n",
              "  }\n",
              "\n",
              "  .colab-df-quickchart {\n",
              "    background-color: var(--bg-color);\n",
              "    border: none;\n",
              "    border-radius: 50%;\n",
              "    cursor: pointer;\n",
              "    display: none;\n",
              "    fill: var(--fill-color);\n",
              "    height: 32px;\n",
              "    padding: 0;\n",
              "    width: 32px;\n",
              "  }\n",
              "\n",
              "  .colab-df-quickchart:hover {\n",
              "    background-color: var(--hover-bg-color);\n",
              "    box-shadow: 0 1px 2px rgba(60, 64, 67, 0.3), 0 1px 3px 1px rgba(60, 64, 67, 0.15);\n",
              "    fill: var(--button-hover-fill-color);\n",
              "  }\n",
              "\n",
              "  .colab-df-quickchart-complete:disabled,\n",
              "  .colab-df-quickchart-complete:disabled:hover {\n",
              "    background-color: var(--disabled-bg-color);\n",
              "    fill: var(--disabled-fill-color);\n",
              "    box-shadow: none;\n",
              "  }\n",
              "\n",
              "  .colab-df-spinner {\n",
              "    border: 2px solid var(--fill-color);\n",
              "    border-color: transparent;\n",
              "    border-bottom-color: var(--fill-color);\n",
              "    animation:\n",
              "      spin 1s steps(1) infinite;\n",
              "  }\n",
              "\n",
              "  @keyframes spin {\n",
              "    0% {\n",
              "      border-color: transparent;\n",
              "      border-bottom-color: var(--fill-color);\n",
              "      border-left-color: var(--fill-color);\n",
              "    }\n",
              "    20% {\n",
              "      border-color: transparent;\n",
              "      border-left-color: var(--fill-color);\n",
              "      border-top-color: var(--fill-color);\n",
              "    }\n",
              "    30% {\n",
              "      border-color: transparent;\n",
              "      border-left-color: var(--fill-color);\n",
              "      border-top-color: var(--fill-color);\n",
              "      border-right-color: var(--fill-color);\n",
              "    }\n",
              "    40% {\n",
              "      border-color: transparent;\n",
              "      border-right-color: var(--fill-color);\n",
              "      border-top-color: var(--fill-color);\n",
              "    }\n",
              "    60% {\n",
              "      border-color: transparent;\n",
              "      border-right-color: var(--fill-color);\n",
              "    }\n",
              "    80% {\n",
              "      border-color: transparent;\n",
              "      border-right-color: var(--fill-color);\n",
              "      border-bottom-color: var(--fill-color);\n",
              "    }\n",
              "    90% {\n",
              "      border-color: transparent;\n",
              "      border-bottom-color: var(--fill-color);\n",
              "    }\n",
              "  }\n",
              "</style>\n",
              "\n",
              "  <script>\n",
              "    async function quickchart(key) {\n",
              "      const quickchartButtonEl =\n",
              "        document.querySelector('#' + key + ' button');\n",
              "      quickchartButtonEl.disabled = true;  // To prevent multiple clicks.\n",
              "      quickchartButtonEl.classList.add('colab-df-spinner');\n",
              "      try {\n",
              "        const charts = await google.colab.kernel.invokeFunction(\n",
              "            'suggestCharts', [key], {});\n",
              "      } catch (error) {\n",
              "        console.error('Error during call to suggestCharts:', error);\n",
              "      }\n",
              "      quickchartButtonEl.classList.remove('colab-df-spinner');\n",
              "      quickchartButtonEl.classList.add('colab-df-quickchart-complete');\n",
              "    }\n",
              "    (() => {\n",
              "      let quickchartButtonEl =\n",
              "        document.querySelector('#df-43ce4267-8bfe-4939-b1e4-6fbaab0adfe1 button');\n",
              "      quickchartButtonEl.style.display =\n",
              "        google.colab.kernel.accessAllowed ? 'block' : 'none';\n",
              "    })();\n",
              "  </script>\n",
              "</div>\n",
              "    </div>\n",
              "  </div>\n"
            ],
            "application/vnd.google.colaboratory.intrinsic+json": {
              "type": "dataframe",
              "summary": "{\n  \"name\": \"    display(data_customer\",\n  \"rows\": 5,\n  \"fields\": [\n    {\n      \"column\": \"ID\",\n      \"properties\": {\n        \"dtype\": \"number\",\n        \"std\": 1577,\n        \"min\": 2174,\n        \"max\": 6182,\n        \"num_unique_values\": 5,\n        \"samples\": [\n          2174,\n          5324,\n          4141\n        ],\n        \"semantic_type\": \"\",\n        \"description\": \"\"\n      }\n    },\n    {\n      \"column\": \"Year_Birth\",\n      \"properties\": {\n        \"dtype\": \"number\",\n        \"std\": 13,\n        \"min\": 1954,\n        \"max\": 1984,\n        \"num_unique_values\": 5,\n        \"samples\": [\n          1954,\n          1981,\n          1965\n        ],\n        \"semantic_type\": \"\",\n        \"description\": \"\"\n      }\n    },\n    {\n      \"column\": \"Education\",\n      \"properties\": {\n        \"dtype\": \"category\",\n        \"num_unique_values\": 2,\n        \"samples\": [\n          \"PhD\",\n          \"Graduation\"\n        ],\n        \"semantic_type\": \"\",\n        \"description\": \"\"\n      }\n    },\n    {\n      \"column\": \"Income\",\n      \"properties\": {\n        \"dtype\": \"number\",\n        \"std\": 16856.36736369969,\n        \"min\": 26646.0,\n        \"max\": 71613.0,\n        \"num_unique_values\": 5,\n        \"samples\": [\n          46344.0,\n          58293.0\n        ],\n        \"semantic_type\": \"\",\n        \"description\": \"\"\n      }\n    },\n    {\n      \"column\": \"Dt_Customer\",\n      \"properties\": {\n        \"dtype\": \"object\",\n        \"num_unique_values\": 5,\n        \"samples\": [\n          \"3/8/2014\",\n          \"1/19/2014\"\n        ],\n        \"semantic_type\": \"\",\n        \"description\": \"\"\n      }\n    },\n    {\n      \"column\": \"Recency\",\n      \"properties\": {\n        \"dtype\": \"number\",\n        \"std\": 28,\n        \"min\": 26,\n        \"max\": 94,\n        \"num_unique_values\": 4,\n        \"samples\": [\n          38,\n          94\n        ],\n        \"semantic_type\": \"\",\n        \"description\": \"\"\n      }\n    },\n    {\n      \"column\": \"NumWebPurchases\",\n      \"properties\": {\n        \"dtype\": \"number\",\n        \"std\": 3,\n        \"min\": 1,\n        \"max\": 8,\n        \"num_unique_values\": 4,\n        \"samples\": [\n          1,\n          5\n        ],\n        \"semantic_type\": \"\",\n        \"description\": \"\"\n      }\n    },\n    {\n      \"column\": \"NumStorePurchases\",\n      \"properties\": {\n        \"dtype\": \"number\",\n        \"std\": 3,\n        \"min\": 2,\n        \"max\": 10,\n        \"num_unique_values\": 4,\n        \"samples\": [\n          2,\n          6\n        ],\n        \"semantic_type\": \"\",\n        \"description\": \"\"\n      }\n    },\n    {\n      \"column\": \"NumWebVisitsMonth\",\n      \"properties\": {\n        \"dtype\": \"number\",\n        \"std\": 1,\n        \"min\": 4,\n        \"max\": 7,\n        \"num_unique_values\": 4,\n        \"samples\": [\n          5,\n          6\n        ],\n        \"semantic_type\": \"\",\n        \"description\": \"\"\n      }\n    }\n  ]\n}"
            }
          },
          "metadata": {}
        }
      ]
    },
    {
      "cell_type": "code",
      "source": [
        "with pd.option_context(\"display.max_columns\", None):\n",
        "    display(data_laptop.head())"
      ],
      "metadata": {
        "colab": {
          "base_uri": "https://localhost:8080/",
          "height": 206
        },
        "id": "WlPB0wEK0KO5",
        "outputId": "af7d298e-f460-4116-d2ab-95895ad73652"
      },
      "execution_count": null,
      "outputs": [
        {
          "output_type": "display_data",
          "data": {
            "text/plain": [
              "  Company   TypeName  Ram  Weight      Price  TouchScreen  Ips         Ppi  \\\n",
              "0   Apple  Ultrabook    8    1.37  11.175755            0    1  226.983005   \n",
              "1   Apple  Ultrabook    8    1.34  10.776777            0    0  127.677940   \n",
              "2      HP   Notebook    8    1.86  10.329931            0    0  141.211998   \n",
              "3   Apple  Ultrabook   16    1.83  11.814476            0    1  220.534624   \n",
              "4   Apple  Ultrabook    8    1.37  11.473101            0    1  226.983005   \n",
              "\n",
              "       Cpu_brand  HDD  SSD Gpu_brand      Os  \n",
              "0  Intel Core i5    0  128     Intel     Mac  \n",
              "1  Intel Core i5    0    0     Intel     Mac  \n",
              "2  Intel Core i5    0  256     Intel  Others  \n",
              "3  Intel Core i7    0  512       AMD     Mac  \n",
              "4  Intel Core i5    0  256     Intel     Mac  "
            ],
            "text/html": [
              "\n",
              "  <div id=\"df-ee86647a-6528-4305-b754-728c8f995236\" class=\"colab-df-container\">\n",
              "    <div>\n",
              "<style scoped>\n",
              "    .dataframe tbody tr th:only-of-type {\n",
              "        vertical-align: middle;\n",
              "    }\n",
              "\n",
              "    .dataframe tbody tr th {\n",
              "        vertical-align: top;\n",
              "    }\n",
              "\n",
              "    .dataframe thead th {\n",
              "        text-align: right;\n",
              "    }\n",
              "</style>\n",
              "<table border=\"1\" class=\"dataframe\">\n",
              "  <thead>\n",
              "    <tr style=\"text-align: right;\">\n",
              "      <th></th>\n",
              "      <th>Company</th>\n",
              "      <th>TypeName</th>\n",
              "      <th>Ram</th>\n",
              "      <th>Weight</th>\n",
              "      <th>Price</th>\n",
              "      <th>TouchScreen</th>\n",
              "      <th>Ips</th>\n",
              "      <th>Ppi</th>\n",
              "      <th>Cpu_brand</th>\n",
              "      <th>HDD</th>\n",
              "      <th>SSD</th>\n",
              "      <th>Gpu_brand</th>\n",
              "      <th>Os</th>\n",
              "    </tr>\n",
              "  </thead>\n",
              "  <tbody>\n",
              "    <tr>\n",
              "      <th>0</th>\n",
              "      <td>Apple</td>\n",
              "      <td>Ultrabook</td>\n",
              "      <td>8</td>\n",
              "      <td>1.37</td>\n",
              "      <td>11.175755</td>\n",
              "      <td>0</td>\n",
              "      <td>1</td>\n",
              "      <td>226.983005</td>\n",
              "      <td>Intel Core i5</td>\n",
              "      <td>0</td>\n",
              "      <td>128</td>\n",
              "      <td>Intel</td>\n",
              "      <td>Mac</td>\n",
              "    </tr>\n",
              "    <tr>\n",
              "      <th>1</th>\n",
              "      <td>Apple</td>\n",
              "      <td>Ultrabook</td>\n",
              "      <td>8</td>\n",
              "      <td>1.34</td>\n",
              "      <td>10.776777</td>\n",
              "      <td>0</td>\n",
              "      <td>0</td>\n",
              "      <td>127.677940</td>\n",
              "      <td>Intel Core i5</td>\n",
              "      <td>0</td>\n",
              "      <td>0</td>\n",
              "      <td>Intel</td>\n",
              "      <td>Mac</td>\n",
              "    </tr>\n",
              "    <tr>\n",
              "      <th>2</th>\n",
              "      <td>HP</td>\n",
              "      <td>Notebook</td>\n",
              "      <td>8</td>\n",
              "      <td>1.86</td>\n",
              "      <td>10.329931</td>\n",
              "      <td>0</td>\n",
              "      <td>0</td>\n",
              "      <td>141.211998</td>\n",
              "      <td>Intel Core i5</td>\n",
              "      <td>0</td>\n",
              "      <td>256</td>\n",
              "      <td>Intel</td>\n",
              "      <td>Others</td>\n",
              "    </tr>\n",
              "    <tr>\n",
              "      <th>3</th>\n",
              "      <td>Apple</td>\n",
              "      <td>Ultrabook</td>\n",
              "      <td>16</td>\n",
              "      <td>1.83</td>\n",
              "      <td>11.814476</td>\n",
              "      <td>0</td>\n",
              "      <td>1</td>\n",
              "      <td>220.534624</td>\n",
              "      <td>Intel Core i7</td>\n",
              "      <td>0</td>\n",
              "      <td>512</td>\n",
              "      <td>AMD</td>\n",
              "      <td>Mac</td>\n",
              "    </tr>\n",
              "    <tr>\n",
              "      <th>4</th>\n",
              "      <td>Apple</td>\n",
              "      <td>Ultrabook</td>\n",
              "      <td>8</td>\n",
              "      <td>1.37</td>\n",
              "      <td>11.473101</td>\n",
              "      <td>0</td>\n",
              "      <td>1</td>\n",
              "      <td>226.983005</td>\n",
              "      <td>Intel Core i5</td>\n",
              "      <td>0</td>\n",
              "      <td>256</td>\n",
              "      <td>Intel</td>\n",
              "      <td>Mac</td>\n",
              "    </tr>\n",
              "  </tbody>\n",
              "</table>\n",
              "</div>\n",
              "    <div class=\"colab-df-buttons\">\n",
              "\n",
              "  <div class=\"colab-df-container\">\n",
              "    <button class=\"colab-df-convert\" onclick=\"convertToInteractive('df-ee86647a-6528-4305-b754-728c8f995236')\"\n",
              "            title=\"Convert this dataframe to an interactive table.\"\n",
              "            style=\"display:none;\">\n",
              "\n",
              "  <svg xmlns=\"http://www.w3.org/2000/svg\" height=\"24px\" viewBox=\"0 -960 960 960\">\n",
              "    <path d=\"M120-120v-720h720v720H120Zm60-500h600v-160H180v160Zm220 220h160v-160H400v160Zm0 220h160v-160H400v160ZM180-400h160v-160H180v160Zm440 0h160v-160H620v160ZM180-180h160v-160H180v160Zm440 0h160v-160H620v160Z\"/>\n",
              "  </svg>\n",
              "    </button>\n",
              "\n",
              "  <style>\n",
              "    .colab-df-container {\n",
              "      display:flex;\n",
              "      gap: 12px;\n",
              "    }\n",
              "\n",
              "    .colab-df-convert {\n",
              "      background-color: #E8F0FE;\n",
              "      border: none;\n",
              "      border-radius: 50%;\n",
              "      cursor: pointer;\n",
              "      display: none;\n",
              "      fill: #1967D2;\n",
              "      height: 32px;\n",
              "      padding: 0 0 0 0;\n",
              "      width: 32px;\n",
              "    }\n",
              "\n",
              "    .colab-df-convert:hover {\n",
              "      background-color: #E2EBFA;\n",
              "      box-shadow: 0px 1px 2px rgba(60, 64, 67, 0.3), 0px 1px 3px 1px rgba(60, 64, 67, 0.15);\n",
              "      fill: #174EA6;\n",
              "    }\n",
              "\n",
              "    .colab-df-buttons div {\n",
              "      margin-bottom: 4px;\n",
              "    }\n",
              "\n",
              "    [theme=dark] .colab-df-convert {\n",
              "      background-color: #3B4455;\n",
              "      fill: #D2E3FC;\n",
              "    }\n",
              "\n",
              "    [theme=dark] .colab-df-convert:hover {\n",
              "      background-color: #434B5C;\n",
              "      box-shadow: 0px 1px 3px 1px rgba(0, 0, 0, 0.15);\n",
              "      filter: drop-shadow(0px 1px 2px rgba(0, 0, 0, 0.3));\n",
              "      fill: #FFFFFF;\n",
              "    }\n",
              "  </style>\n",
              "\n",
              "    <script>\n",
              "      const buttonEl =\n",
              "        document.querySelector('#df-ee86647a-6528-4305-b754-728c8f995236 button.colab-df-convert');\n",
              "      buttonEl.style.display =\n",
              "        google.colab.kernel.accessAllowed ? 'block' : 'none';\n",
              "\n",
              "      async function convertToInteractive(key) {\n",
              "        const element = document.querySelector('#df-ee86647a-6528-4305-b754-728c8f995236');\n",
              "        const dataTable =\n",
              "          await google.colab.kernel.invokeFunction('convertToInteractive',\n",
              "                                                    [key], {});\n",
              "        if (!dataTable) return;\n",
              "\n",
              "        const docLinkHtml = 'Like what you see? Visit the ' +\n",
              "          '<a target=\"_blank\" href=https://colab.research.google.com/notebooks/data_table.ipynb>data table notebook</a>'\n",
              "          + ' to learn more about interactive tables.';\n",
              "        element.innerHTML = '';\n",
              "        dataTable['output_type'] = 'display_data';\n",
              "        await google.colab.output.renderOutput(dataTable, element);\n",
              "        const docLink = document.createElement('div');\n",
              "        docLink.innerHTML = docLinkHtml;\n",
              "        element.appendChild(docLink);\n",
              "      }\n",
              "    </script>\n",
              "  </div>\n",
              "\n",
              "\n",
              "<div id=\"df-7d0921a4-421a-46e7-af4c-1c9ac7337197\">\n",
              "  <button class=\"colab-df-quickchart\" onclick=\"quickchart('df-7d0921a4-421a-46e7-af4c-1c9ac7337197')\"\n",
              "            title=\"Suggest charts\"\n",
              "            style=\"display:none;\">\n",
              "\n",
              "<svg xmlns=\"http://www.w3.org/2000/svg\" height=\"24px\"viewBox=\"0 0 24 24\"\n",
              "     width=\"24px\">\n",
              "    <g>\n",
              "        <path d=\"M19 3H5c-1.1 0-2 .9-2 2v14c0 1.1.9 2 2 2h14c1.1 0 2-.9 2-2V5c0-1.1-.9-2-2-2zM9 17H7v-7h2v7zm4 0h-2V7h2v10zm4 0h-2v-4h2v4z\"/>\n",
              "    </g>\n",
              "</svg>\n",
              "  </button>\n",
              "\n",
              "<style>\n",
              "  .colab-df-quickchart {\n",
              "      --bg-color: #E8F0FE;\n",
              "      --fill-color: #1967D2;\n",
              "      --hover-bg-color: #E2EBFA;\n",
              "      --hover-fill-color: #174EA6;\n",
              "      --disabled-fill-color: #AAA;\n",
              "      --disabled-bg-color: #DDD;\n",
              "  }\n",
              "\n",
              "  [theme=dark] .colab-df-quickchart {\n",
              "      --bg-color: #3B4455;\n",
              "      --fill-color: #D2E3FC;\n",
              "      --hover-bg-color: #434B5C;\n",
              "      --hover-fill-color: #FFFFFF;\n",
              "      --disabled-bg-color: #3B4455;\n",
              "      --disabled-fill-color: #666;\n",
              "  }\n",
              "\n",
              "  .colab-df-quickchart {\n",
              "    background-color: var(--bg-color);\n",
              "    border: none;\n",
              "    border-radius: 50%;\n",
              "    cursor: pointer;\n",
              "    display: none;\n",
              "    fill: var(--fill-color);\n",
              "    height: 32px;\n",
              "    padding: 0;\n",
              "    width: 32px;\n",
              "  }\n",
              "\n",
              "  .colab-df-quickchart:hover {\n",
              "    background-color: var(--hover-bg-color);\n",
              "    box-shadow: 0 1px 2px rgba(60, 64, 67, 0.3), 0 1px 3px 1px rgba(60, 64, 67, 0.15);\n",
              "    fill: var(--button-hover-fill-color);\n",
              "  }\n",
              "\n",
              "  .colab-df-quickchart-complete:disabled,\n",
              "  .colab-df-quickchart-complete:disabled:hover {\n",
              "    background-color: var(--disabled-bg-color);\n",
              "    fill: var(--disabled-fill-color);\n",
              "    box-shadow: none;\n",
              "  }\n",
              "\n",
              "  .colab-df-spinner {\n",
              "    border: 2px solid var(--fill-color);\n",
              "    border-color: transparent;\n",
              "    border-bottom-color: var(--fill-color);\n",
              "    animation:\n",
              "      spin 1s steps(1) infinite;\n",
              "  }\n",
              "\n",
              "  @keyframes spin {\n",
              "    0% {\n",
              "      border-color: transparent;\n",
              "      border-bottom-color: var(--fill-color);\n",
              "      border-left-color: var(--fill-color);\n",
              "    }\n",
              "    20% {\n",
              "      border-color: transparent;\n",
              "      border-left-color: var(--fill-color);\n",
              "      border-top-color: var(--fill-color);\n",
              "    }\n",
              "    30% {\n",
              "      border-color: transparent;\n",
              "      border-left-color: var(--fill-color);\n",
              "      border-top-color: var(--fill-color);\n",
              "      border-right-color: var(--fill-color);\n",
              "    }\n",
              "    40% {\n",
              "      border-color: transparent;\n",
              "      border-right-color: var(--fill-color);\n",
              "      border-top-color: var(--fill-color);\n",
              "    }\n",
              "    60% {\n",
              "      border-color: transparent;\n",
              "      border-right-color: var(--fill-color);\n",
              "    }\n",
              "    80% {\n",
              "      border-color: transparent;\n",
              "      border-right-color: var(--fill-color);\n",
              "      border-bottom-color: var(--fill-color);\n",
              "    }\n",
              "    90% {\n",
              "      border-color: transparent;\n",
              "      border-bottom-color: var(--fill-color);\n",
              "    }\n",
              "  }\n",
              "</style>\n",
              "\n",
              "  <script>\n",
              "    async function quickchart(key) {\n",
              "      const quickchartButtonEl =\n",
              "        document.querySelector('#' + key + ' button');\n",
              "      quickchartButtonEl.disabled = true;  // To prevent multiple clicks.\n",
              "      quickchartButtonEl.classList.add('colab-df-spinner');\n",
              "      try {\n",
              "        const charts = await google.colab.kernel.invokeFunction(\n",
              "            'suggestCharts', [key], {});\n",
              "      } catch (error) {\n",
              "        console.error('Error during call to suggestCharts:', error);\n",
              "      }\n",
              "      quickchartButtonEl.classList.remove('colab-df-spinner');\n",
              "      quickchartButtonEl.classList.add('colab-df-quickchart-complete');\n",
              "    }\n",
              "    (() => {\n",
              "      let quickchartButtonEl =\n",
              "        document.querySelector('#df-7d0921a4-421a-46e7-af4c-1c9ac7337197 button');\n",
              "      quickchartButtonEl.style.display =\n",
              "        google.colab.kernel.accessAllowed ? 'block' : 'none';\n",
              "    })();\n",
              "  </script>\n",
              "</div>\n",
              "    </div>\n",
              "  </div>\n"
            ],
            "application/vnd.google.colaboratory.intrinsic+json": {
              "type": "dataframe",
              "summary": "{\n  \"name\": \"    display(data_laptop\",\n  \"rows\": 5,\n  \"fields\": [\n    {\n      \"column\": \"Company\",\n      \"properties\": {\n        \"dtype\": \"category\",\n        \"num_unique_values\": 2,\n        \"samples\": [\n          \"HP\",\n          \"Apple\"\n        ],\n        \"semantic_type\": \"\",\n        \"description\": \"\"\n      }\n    },\n    {\n      \"column\": \"TypeName\",\n      \"properties\": {\n        \"dtype\": \"category\",\n        \"num_unique_values\": 2,\n        \"samples\": [\n          \"Notebook\",\n          \"Ultrabook\"\n        ],\n        \"semantic_type\": \"\",\n        \"description\": \"\"\n      }\n    },\n    {\n      \"column\": \"Ram\",\n      \"properties\": {\n        \"dtype\": \"number\",\n        \"std\": 3,\n        \"min\": 8,\n        \"max\": 16,\n        \"num_unique_values\": 2,\n        \"samples\": [\n          16,\n          8\n        ],\n        \"semantic_type\": \"\",\n        \"description\": \"\"\n      }\n    },\n    {\n      \"column\": \"Weight\",\n      \"properties\": {\n        \"dtype\": \"number\",\n        \"std\": 0.2661390613946025,\n        \"min\": 1.34,\n        \"max\": 1.86,\n        \"num_unique_values\": 4,\n        \"samples\": [\n          1.34,\n          1.83\n        ],\n        \"semantic_type\": \"\",\n        \"description\": \"\"\n      }\n    },\n    {\n      \"column\": \"Price\",\n      \"properties\": {\n        \"dtype\": \"number\",\n        \"std\": 0.5813598092554184,\n        \"min\": 10.329931067029484,\n        \"max\": 11.814475944954545,\n        \"num_unique_values\": 5,\n        \"samples\": [\n          10.77677731765335,\n          11.473100972779063\n        ],\n        \"semantic_type\": \"\",\n        \"description\": \"\"\n      }\n    },\n    {\n      \"column\": \"TouchScreen\",\n      \"properties\": {\n        \"dtype\": \"number\",\n        \"std\": 0,\n        \"min\": 0,\n        \"max\": 0,\n        \"num_unique_values\": 1,\n        \"samples\": [\n          0\n        ],\n        \"semantic_type\": \"\",\n        \"description\": \"\"\n      }\n    },\n    {\n      \"column\": \"Ips\",\n      \"properties\": {\n        \"dtype\": \"number\",\n        \"std\": 0,\n        \"min\": 0,\n        \"max\": 1,\n        \"num_unique_values\": 2,\n        \"samples\": [\n          0\n        ],\n        \"semantic_type\": \"\",\n        \"description\": \"\"\n      }\n    },\n    {\n      \"column\": \"Ppi\",\n      \"properties\": {\n        \"dtype\": \"number\",\n        \"std\": 49.80818179061967,\n        \"min\": 127.67794013309688,\n        \"max\": 226.98300468106115,\n        \"num_unique_values\": 4,\n        \"samples\": [\n          127.67794013309688\n        ],\n        \"semantic_type\": \"\",\n        \"description\": \"\"\n      }\n    },\n    {\n      \"column\": \"Cpu_brand\",\n      \"properties\": {\n        \"dtype\": \"category\",\n        \"num_unique_values\": 2,\n        \"samples\": [\n          \"Intel Core i7\"\n        ],\n        \"semantic_type\": \"\",\n        \"description\": \"\"\n      }\n    },\n    {\n      \"column\": \"HDD\",\n      \"properties\": {\n        \"dtype\": \"number\",\n        \"std\": 0,\n        \"min\": 0,\n        \"max\": 0,\n        \"num_unique_values\": 1,\n        \"samples\": [\n          0\n        ],\n        \"semantic_type\": \"\",\n        \"description\": \"\"\n      }\n    },\n    {\n      \"column\": \"SSD\",\n      \"properties\": {\n        \"dtype\": \"number\",\n        \"std\": 189,\n        \"min\": 0,\n        \"max\": 512,\n        \"num_unique_values\": 4,\n        \"samples\": [\n          0\n        ],\n        \"semantic_type\": \"\",\n        \"description\": \"\"\n      }\n    },\n    {\n      \"column\": \"Gpu_brand\",\n      \"properties\": {\n        \"dtype\": \"category\",\n        \"num_unique_values\": 2,\n        \"samples\": [\n          \"AMD\"\n        ],\n        \"semantic_type\": \"\",\n        \"description\": \"\"\n      }\n    },\n    {\n      \"column\": \"Os\",\n      \"properties\": {\n        \"dtype\": \"category\",\n        \"num_unique_values\": 2,\n        \"samples\": [\n          \"Others\"\n        ],\n        \"semantic_type\": \"\",\n        \"description\": \"\"\n      }\n    }\n  ]\n}"
            }
          },
          "metadata": {}
        }
      ]
    },
    {
      "cell_type": "code",
      "source": [
        "print(\"num of customer:\", data_customer.shape[0])\n",
        "print(\"num of laptop:\", data_laptop.shape[0])"
      ],
      "metadata": {
        "colab": {
          "base_uri": "https://localhost:8080/"
        },
        "id": "omkzolCQ0aAH",
        "outputId": "4c2ada4e-91c9-4800-f94b-458f48a8cf99"
      },
      "execution_count": null,
      "outputs": [
        {
          "output_type": "stream",
          "name": "stdout",
          "text": [
            "num of customer: 2240\n",
            "num of laptop: 1273\n"
          ]
        }
      ]
    },
    {
      "cell_type": "code",
      "source": [
        "##memperlihatkan info data untuk tiap field yang ada\n",
        "data_customer.info()"
      ],
      "metadata": {
        "colab": {
          "base_uri": "https://localhost:8080/"
        },
        "id": "Y_OMKHJbsnzT",
        "outputId": "7d92e613-99c3-48be-ee8c-3a06cf285aaa"
      },
      "execution_count": null,
      "outputs": [
        {
          "output_type": "stream",
          "name": "stdout",
          "text": [
            "<class 'pandas.core.frame.DataFrame'>\n",
            "RangeIndex: 2240 entries, 0 to 2239\n",
            "Data columns (total 9 columns):\n",
            " #   Column             Non-Null Count  Dtype  \n",
            "---  ------             --------------  -----  \n",
            " 0   ID                 2240 non-null   int64  \n",
            " 1   Year_Birth         2240 non-null   int64  \n",
            " 2   Education          2240 non-null   object \n",
            " 3   Income             2216 non-null   float64\n",
            " 4   Dt_Customer        2240 non-null   object \n",
            " 5   Recency            2240 non-null   int64  \n",
            " 6   NumWebPurchases    2240 non-null   int64  \n",
            " 7   NumStorePurchases  2240 non-null   int64  \n",
            " 8   NumWebVisitsMonth  2240 non-null   int64  \n",
            "dtypes: float64(1), int64(6), object(2)\n",
            "memory usage: 157.6+ KB\n"
          ]
        }
      ]
    },
    {
      "cell_type": "code",
      "source": [
        "data_customer.describe()"
      ],
      "metadata": {
        "colab": {
          "base_uri": "https://localhost:8080/",
          "height": 300
        },
        "id": "tdJ6akD45pk_",
        "outputId": "4b676d29-4b77-4019-b5e0-e2b84680cf3a"
      },
      "execution_count": null,
      "outputs": [
        {
          "output_type": "execute_result",
          "data": {
            "text/plain": [
              "                 ID   Year_Birth         Income      Recency  NumWebPurchases  \\\n",
              "count   2240.000000  2240.000000    2216.000000  2240.000000      2240.000000   \n",
              "mean    5592.159821  1968.805804   52247.251354    49.109375         4.084821   \n",
              "std     3246.662198    11.984069   25173.076661    28.962453         2.778714   \n",
              "min        0.000000  1893.000000    1730.000000     0.000000         0.000000   \n",
              "25%     2828.250000  1959.000000   35303.000000    24.000000         2.000000   \n",
              "50%     5458.500000  1970.000000   51381.500000    49.000000         4.000000   \n",
              "75%     8427.750000  1977.000000   68522.000000    74.000000         6.000000   \n",
              "max    11191.000000  1996.000000  666666.000000    99.000000        27.000000   \n",
              "\n",
              "       NumStorePurchases  NumWebVisitsMonth  \n",
              "count        2240.000000        2240.000000  \n",
              "mean            5.790179           5.316518  \n",
              "std             3.250958           2.426645  \n",
              "min             0.000000           0.000000  \n",
              "25%             3.000000           3.000000  \n",
              "50%             5.000000           6.000000  \n",
              "75%             8.000000           7.000000  \n",
              "max            13.000000          20.000000  "
            ],
            "text/html": [
              "\n",
              "  <div id=\"df-d80a5241-1a94-4653-8f8b-cbb7571d5514\" class=\"colab-df-container\">\n",
              "    <div>\n",
              "<style scoped>\n",
              "    .dataframe tbody tr th:only-of-type {\n",
              "        vertical-align: middle;\n",
              "    }\n",
              "\n",
              "    .dataframe tbody tr th {\n",
              "        vertical-align: top;\n",
              "    }\n",
              "\n",
              "    .dataframe thead th {\n",
              "        text-align: right;\n",
              "    }\n",
              "</style>\n",
              "<table border=\"1\" class=\"dataframe\">\n",
              "  <thead>\n",
              "    <tr style=\"text-align: right;\">\n",
              "      <th></th>\n",
              "      <th>ID</th>\n",
              "      <th>Year_Birth</th>\n",
              "      <th>Income</th>\n",
              "      <th>Recency</th>\n",
              "      <th>NumWebPurchases</th>\n",
              "      <th>NumStorePurchases</th>\n",
              "      <th>NumWebVisitsMonth</th>\n",
              "    </tr>\n",
              "  </thead>\n",
              "  <tbody>\n",
              "    <tr>\n",
              "      <th>count</th>\n",
              "      <td>2240.000000</td>\n",
              "      <td>2240.000000</td>\n",
              "      <td>2216.000000</td>\n",
              "      <td>2240.000000</td>\n",
              "      <td>2240.000000</td>\n",
              "      <td>2240.000000</td>\n",
              "      <td>2240.000000</td>\n",
              "    </tr>\n",
              "    <tr>\n",
              "      <th>mean</th>\n",
              "      <td>5592.159821</td>\n",
              "      <td>1968.805804</td>\n",
              "      <td>52247.251354</td>\n",
              "      <td>49.109375</td>\n",
              "      <td>4.084821</td>\n",
              "      <td>5.790179</td>\n",
              "      <td>5.316518</td>\n",
              "    </tr>\n",
              "    <tr>\n",
              "      <th>std</th>\n",
              "      <td>3246.662198</td>\n",
              "      <td>11.984069</td>\n",
              "      <td>25173.076661</td>\n",
              "      <td>28.962453</td>\n",
              "      <td>2.778714</td>\n",
              "      <td>3.250958</td>\n",
              "      <td>2.426645</td>\n",
              "    </tr>\n",
              "    <tr>\n",
              "      <th>min</th>\n",
              "      <td>0.000000</td>\n",
              "      <td>1893.000000</td>\n",
              "      <td>1730.000000</td>\n",
              "      <td>0.000000</td>\n",
              "      <td>0.000000</td>\n",
              "      <td>0.000000</td>\n",
              "      <td>0.000000</td>\n",
              "    </tr>\n",
              "    <tr>\n",
              "      <th>25%</th>\n",
              "      <td>2828.250000</td>\n",
              "      <td>1959.000000</td>\n",
              "      <td>35303.000000</td>\n",
              "      <td>24.000000</td>\n",
              "      <td>2.000000</td>\n",
              "      <td>3.000000</td>\n",
              "      <td>3.000000</td>\n",
              "    </tr>\n",
              "    <tr>\n",
              "      <th>50%</th>\n",
              "      <td>5458.500000</td>\n",
              "      <td>1970.000000</td>\n",
              "      <td>51381.500000</td>\n",
              "      <td>49.000000</td>\n",
              "      <td>4.000000</td>\n",
              "      <td>5.000000</td>\n",
              "      <td>6.000000</td>\n",
              "    </tr>\n",
              "    <tr>\n",
              "      <th>75%</th>\n",
              "      <td>8427.750000</td>\n",
              "      <td>1977.000000</td>\n",
              "      <td>68522.000000</td>\n",
              "      <td>74.000000</td>\n",
              "      <td>6.000000</td>\n",
              "      <td>8.000000</td>\n",
              "      <td>7.000000</td>\n",
              "    </tr>\n",
              "    <tr>\n",
              "      <th>max</th>\n",
              "      <td>11191.000000</td>\n",
              "      <td>1996.000000</td>\n",
              "      <td>666666.000000</td>\n",
              "      <td>99.000000</td>\n",
              "      <td>27.000000</td>\n",
              "      <td>13.000000</td>\n",
              "      <td>20.000000</td>\n",
              "    </tr>\n",
              "  </tbody>\n",
              "</table>\n",
              "</div>\n",
              "    <div class=\"colab-df-buttons\">\n",
              "\n",
              "  <div class=\"colab-df-container\">\n",
              "    <button class=\"colab-df-convert\" onclick=\"convertToInteractive('df-d80a5241-1a94-4653-8f8b-cbb7571d5514')\"\n",
              "            title=\"Convert this dataframe to an interactive table.\"\n",
              "            style=\"display:none;\">\n",
              "\n",
              "  <svg xmlns=\"http://www.w3.org/2000/svg\" height=\"24px\" viewBox=\"0 -960 960 960\">\n",
              "    <path d=\"M120-120v-720h720v720H120Zm60-500h600v-160H180v160Zm220 220h160v-160H400v160Zm0 220h160v-160H400v160ZM180-400h160v-160H180v160Zm440 0h160v-160H620v160ZM180-180h160v-160H180v160Zm440 0h160v-160H620v160Z\"/>\n",
              "  </svg>\n",
              "    </button>\n",
              "\n",
              "  <style>\n",
              "    .colab-df-container {\n",
              "      display:flex;\n",
              "      gap: 12px;\n",
              "    }\n",
              "\n",
              "    .colab-df-convert {\n",
              "      background-color: #E8F0FE;\n",
              "      border: none;\n",
              "      border-radius: 50%;\n",
              "      cursor: pointer;\n",
              "      display: none;\n",
              "      fill: #1967D2;\n",
              "      height: 32px;\n",
              "      padding: 0 0 0 0;\n",
              "      width: 32px;\n",
              "    }\n",
              "\n",
              "    .colab-df-convert:hover {\n",
              "      background-color: #E2EBFA;\n",
              "      box-shadow: 0px 1px 2px rgba(60, 64, 67, 0.3), 0px 1px 3px 1px rgba(60, 64, 67, 0.15);\n",
              "      fill: #174EA6;\n",
              "    }\n",
              "\n",
              "    .colab-df-buttons div {\n",
              "      margin-bottom: 4px;\n",
              "    }\n",
              "\n",
              "    [theme=dark] .colab-df-convert {\n",
              "      background-color: #3B4455;\n",
              "      fill: #D2E3FC;\n",
              "    }\n",
              "\n",
              "    [theme=dark] .colab-df-convert:hover {\n",
              "      background-color: #434B5C;\n",
              "      box-shadow: 0px 1px 3px 1px rgba(0, 0, 0, 0.15);\n",
              "      filter: drop-shadow(0px 1px 2px rgba(0, 0, 0, 0.3));\n",
              "      fill: #FFFFFF;\n",
              "    }\n",
              "  </style>\n",
              "\n",
              "    <script>\n",
              "      const buttonEl =\n",
              "        document.querySelector('#df-d80a5241-1a94-4653-8f8b-cbb7571d5514 button.colab-df-convert');\n",
              "      buttonEl.style.display =\n",
              "        google.colab.kernel.accessAllowed ? 'block' : 'none';\n",
              "\n",
              "      async function convertToInteractive(key) {\n",
              "        const element = document.querySelector('#df-d80a5241-1a94-4653-8f8b-cbb7571d5514');\n",
              "        const dataTable =\n",
              "          await google.colab.kernel.invokeFunction('convertToInteractive',\n",
              "                                                    [key], {});\n",
              "        if (!dataTable) return;\n",
              "\n",
              "        const docLinkHtml = 'Like what you see? Visit the ' +\n",
              "          '<a target=\"_blank\" href=https://colab.research.google.com/notebooks/data_table.ipynb>data table notebook</a>'\n",
              "          + ' to learn more about interactive tables.';\n",
              "        element.innerHTML = '';\n",
              "        dataTable['output_type'] = 'display_data';\n",
              "        await google.colab.output.renderOutput(dataTable, element);\n",
              "        const docLink = document.createElement('div');\n",
              "        docLink.innerHTML = docLinkHtml;\n",
              "        element.appendChild(docLink);\n",
              "      }\n",
              "    </script>\n",
              "  </div>\n",
              "\n",
              "\n",
              "<div id=\"df-5fc9fd08-affc-4d56-bdf8-8d07d9d2fcb8\">\n",
              "  <button class=\"colab-df-quickchart\" onclick=\"quickchart('df-5fc9fd08-affc-4d56-bdf8-8d07d9d2fcb8')\"\n",
              "            title=\"Suggest charts\"\n",
              "            style=\"display:none;\">\n",
              "\n",
              "<svg xmlns=\"http://www.w3.org/2000/svg\" height=\"24px\"viewBox=\"0 0 24 24\"\n",
              "     width=\"24px\">\n",
              "    <g>\n",
              "        <path d=\"M19 3H5c-1.1 0-2 .9-2 2v14c0 1.1.9 2 2 2h14c1.1 0 2-.9 2-2V5c0-1.1-.9-2-2-2zM9 17H7v-7h2v7zm4 0h-2V7h2v10zm4 0h-2v-4h2v4z\"/>\n",
              "    </g>\n",
              "</svg>\n",
              "  </button>\n",
              "\n",
              "<style>\n",
              "  .colab-df-quickchart {\n",
              "      --bg-color: #E8F0FE;\n",
              "      --fill-color: #1967D2;\n",
              "      --hover-bg-color: #E2EBFA;\n",
              "      --hover-fill-color: #174EA6;\n",
              "      --disabled-fill-color: #AAA;\n",
              "      --disabled-bg-color: #DDD;\n",
              "  }\n",
              "\n",
              "  [theme=dark] .colab-df-quickchart {\n",
              "      --bg-color: #3B4455;\n",
              "      --fill-color: #D2E3FC;\n",
              "      --hover-bg-color: #434B5C;\n",
              "      --hover-fill-color: #FFFFFF;\n",
              "      --disabled-bg-color: #3B4455;\n",
              "      --disabled-fill-color: #666;\n",
              "  }\n",
              "\n",
              "  .colab-df-quickchart {\n",
              "    background-color: var(--bg-color);\n",
              "    border: none;\n",
              "    border-radius: 50%;\n",
              "    cursor: pointer;\n",
              "    display: none;\n",
              "    fill: var(--fill-color);\n",
              "    height: 32px;\n",
              "    padding: 0;\n",
              "    width: 32px;\n",
              "  }\n",
              "\n",
              "  .colab-df-quickchart:hover {\n",
              "    background-color: var(--hover-bg-color);\n",
              "    box-shadow: 0 1px 2px rgba(60, 64, 67, 0.3), 0 1px 3px 1px rgba(60, 64, 67, 0.15);\n",
              "    fill: var(--button-hover-fill-color);\n",
              "  }\n",
              "\n",
              "  .colab-df-quickchart-complete:disabled,\n",
              "  .colab-df-quickchart-complete:disabled:hover {\n",
              "    background-color: var(--disabled-bg-color);\n",
              "    fill: var(--disabled-fill-color);\n",
              "    box-shadow: none;\n",
              "  }\n",
              "\n",
              "  .colab-df-spinner {\n",
              "    border: 2px solid var(--fill-color);\n",
              "    border-color: transparent;\n",
              "    border-bottom-color: var(--fill-color);\n",
              "    animation:\n",
              "      spin 1s steps(1) infinite;\n",
              "  }\n",
              "\n",
              "  @keyframes spin {\n",
              "    0% {\n",
              "      border-color: transparent;\n",
              "      border-bottom-color: var(--fill-color);\n",
              "      border-left-color: var(--fill-color);\n",
              "    }\n",
              "    20% {\n",
              "      border-color: transparent;\n",
              "      border-left-color: var(--fill-color);\n",
              "      border-top-color: var(--fill-color);\n",
              "    }\n",
              "    30% {\n",
              "      border-color: transparent;\n",
              "      border-left-color: var(--fill-color);\n",
              "      border-top-color: var(--fill-color);\n",
              "      border-right-color: var(--fill-color);\n",
              "    }\n",
              "    40% {\n",
              "      border-color: transparent;\n",
              "      border-right-color: var(--fill-color);\n",
              "      border-top-color: var(--fill-color);\n",
              "    }\n",
              "    60% {\n",
              "      border-color: transparent;\n",
              "      border-right-color: var(--fill-color);\n",
              "    }\n",
              "    80% {\n",
              "      border-color: transparent;\n",
              "      border-right-color: var(--fill-color);\n",
              "      border-bottom-color: var(--fill-color);\n",
              "    }\n",
              "    90% {\n",
              "      border-color: transparent;\n",
              "      border-bottom-color: var(--fill-color);\n",
              "    }\n",
              "  }\n",
              "</style>\n",
              "\n",
              "  <script>\n",
              "    async function quickchart(key) {\n",
              "      const quickchartButtonEl =\n",
              "        document.querySelector('#' + key + ' button');\n",
              "      quickchartButtonEl.disabled = true;  // To prevent multiple clicks.\n",
              "      quickchartButtonEl.classList.add('colab-df-spinner');\n",
              "      try {\n",
              "        const charts = await google.colab.kernel.invokeFunction(\n",
              "            'suggestCharts', [key], {});\n",
              "      } catch (error) {\n",
              "        console.error('Error during call to suggestCharts:', error);\n",
              "      }\n",
              "      quickchartButtonEl.classList.remove('colab-df-spinner');\n",
              "      quickchartButtonEl.classList.add('colab-df-quickchart-complete');\n",
              "    }\n",
              "    (() => {\n",
              "      let quickchartButtonEl =\n",
              "        document.querySelector('#df-5fc9fd08-affc-4d56-bdf8-8d07d9d2fcb8 button');\n",
              "      quickchartButtonEl.style.display =\n",
              "        google.colab.kernel.accessAllowed ? 'block' : 'none';\n",
              "    })();\n",
              "  </script>\n",
              "</div>\n",
              "    </div>\n",
              "  </div>\n"
            ],
            "application/vnd.google.colaboratory.intrinsic+json": {
              "type": "dataframe",
              "summary": "{\n  \"name\": \"data_customer\",\n  \"rows\": 8,\n  \"fields\": [\n    {\n      \"column\": \"ID\",\n      \"properties\": {\n        \"dtype\": \"number\",\n        \"std\": 3603.92975709307,\n        \"min\": 0.0,\n        \"max\": 11191.0,\n        \"num_unique_values\": 8,\n        \"samples\": [\n          5592.159821428571,\n          5458.5,\n          2240.0\n        ],\n        \"semantic_type\": \"\",\n        \"description\": \"\"\n      }\n    },\n    {\n      \"column\": \"Year_Birth\",\n      \"properties\": {\n        \"dtype\": \"number\",\n        \"std\": 710.4545013567929,\n        \"min\": 11.984069456885829,\n        \"max\": 2240.0,\n        \"num_unique_values\": 8,\n        \"samples\": [\n          1968.8058035714287,\n          1970.0,\n          2240.0\n        ],\n        \"semantic_type\": \"\",\n        \"description\": \"\"\n      }\n    },\n    {\n      \"column\": \"Income\",\n      \"properties\": {\n        \"dtype\": \"number\",\n        \"std\": 225013.17277492964,\n        \"min\": 1730.0,\n        \"max\": 666666.0,\n        \"num_unique_values\": 8,\n        \"samples\": [\n          52247.25135379061,\n          51381.5,\n          2216.0\n        ],\n        \"semantic_type\": \"\",\n        \"description\": \"\"\n      }\n    },\n    {\n      \"column\": \"Recency\",\n      \"properties\": {\n        \"dtype\": \"number\",\n        \"std\": 776.1900091486706,\n        \"min\": 0.0,\n        \"max\": 2240.0,\n        \"num_unique_values\": 8,\n        \"samples\": [\n          49.109375,\n          49.0,\n          2240.0\n        ],\n        \"semantic_type\": \"\",\n        \"description\": \"\"\n      }\n    },\n    {\n      \"column\": \"NumWebPurchases\",\n      \"properties\": {\n        \"dtype\": \"number\",\n        \"std\": 789.6891697830897,\n        \"min\": 0.0,\n        \"max\": 2240.0,\n        \"num_unique_values\": 8,\n        \"samples\": [\n          4.084821428571429,\n          4.0,\n          2240.0\n        ],\n        \"semantic_type\": \"\",\n        \"description\": \"\"\n      }\n    },\n    {\n      \"column\": \"NumStorePurchases\",\n      \"properties\": {\n        \"dtype\": \"number\",\n        \"std\": 790.0476628772682,\n        \"min\": 0.0,\n        \"max\": 2240.0,\n        \"num_unique_values\": 8,\n        \"samples\": [\n          5.790178571428571,\n          5.0,\n          2240.0\n        ],\n        \"semantic_type\": \"\",\n        \"description\": \"\"\n      }\n    },\n    {\n      \"column\": \"NumWebVisitsMonth\",\n      \"properties\": {\n        \"dtype\": \"number\",\n        \"std\": 789.773276663769,\n        \"min\": 0.0,\n        \"max\": 2240.0,\n        \"num_unique_values\": 8,\n        \"samples\": [\n          5.316517857142857,\n          6.0,\n          2240.0\n        ],\n        \"semantic_type\": \"\",\n        \"description\": \"\"\n      }\n    }\n  ]\n}"
            }
          },
          "metadata": {},
          "execution_count": 238
        }
      ]
    },
    {
      "cell_type": "code",
      "source": [
        "data_laptop.info()"
      ],
      "metadata": {
        "colab": {
          "base_uri": "https://localhost:8080/"
        },
        "id": "T-sBDk930s25",
        "outputId": "763082d2-8b97-41b1-a7d6-d012e5d80256"
      },
      "execution_count": null,
      "outputs": [
        {
          "output_type": "stream",
          "name": "stdout",
          "text": [
            "<class 'pandas.core.frame.DataFrame'>\n",
            "RangeIndex: 1273 entries, 0 to 1272\n",
            "Data columns (total 13 columns):\n",
            " #   Column       Non-Null Count  Dtype  \n",
            "---  ------       --------------  -----  \n",
            " 0   Company      1273 non-null   object \n",
            " 1   TypeName     1273 non-null   object \n",
            " 2   Ram          1273 non-null   int64  \n",
            " 3   Weight       1273 non-null   float64\n",
            " 4   Price        1273 non-null   float64\n",
            " 5   TouchScreen  1273 non-null   int64  \n",
            " 6   Ips          1273 non-null   int64  \n",
            " 7   Ppi          1273 non-null   float64\n",
            " 8   Cpu_brand    1273 non-null   object \n",
            " 9   HDD          1273 non-null   int64  \n",
            " 10  SSD          1273 non-null   int64  \n",
            " 11  Gpu_brand    1273 non-null   object \n",
            " 12  Os           1273 non-null   object \n",
            "dtypes: float64(3), int64(5), object(5)\n",
            "memory usage: 129.4+ KB\n"
          ]
        }
      ]
    },
    {
      "cell_type": "code",
      "source": [
        "data_laptop.describe()"
      ],
      "metadata": {
        "colab": {
          "base_uri": "https://localhost:8080/",
          "height": 300
        },
        "id": "pkyhZkAX1YE2",
        "outputId": "e8cf1f58-2caa-4132-ce84-4fb386f07a8f"
      },
      "execution_count": null,
      "outputs": [
        {
          "output_type": "execute_result",
          "data": {
            "text/plain": [
              "               Ram       Weight        Price  TouchScreen          Ips  \\\n",
              "count  1273.000000  1273.000000  1273.000000  1273.000000  1273.000000   \n",
              "mean      8.447761     2.041100    10.828218     0.146897     0.279654   \n",
              "std       5.098771     0.669241     0.619565     0.354142     0.449006   \n",
              "min       2.000000     0.690000     9.134616     0.000000     0.000000   \n",
              "25%       4.000000     1.500000    10.387379     0.000000     0.000000   \n",
              "50%       8.000000     2.040000    10.872255     0.000000     0.000000   \n",
              "75%       8.000000     2.310000    11.287447     0.000000     1.000000   \n",
              "max      64.000000     4.700000    12.691441     1.000000     1.000000   \n",
              "\n",
              "               Ppi          HDD          SSD  \n",
              "count  1273.000000  1273.000000  1273.000000  \n",
              "mean    146.950812   413.715632   186.252946  \n",
              "std      42.926775   518.054486   186.531571  \n",
              "min      90.583402     0.000000     0.000000  \n",
              "25%     127.335675     0.000000     0.000000  \n",
              "50%     141.211998     0.000000   256.000000  \n",
              "75%     157.350512  1000.000000   256.000000  \n",
              "max     352.465147  2000.000000  1024.000000  "
            ],
            "text/html": [
              "\n",
              "  <div id=\"df-de2f0c15-7cc4-4e44-ab06-c97016e75fe5\" class=\"colab-df-container\">\n",
              "    <div>\n",
              "<style scoped>\n",
              "    .dataframe tbody tr th:only-of-type {\n",
              "        vertical-align: middle;\n",
              "    }\n",
              "\n",
              "    .dataframe tbody tr th {\n",
              "        vertical-align: top;\n",
              "    }\n",
              "\n",
              "    .dataframe thead th {\n",
              "        text-align: right;\n",
              "    }\n",
              "</style>\n",
              "<table border=\"1\" class=\"dataframe\">\n",
              "  <thead>\n",
              "    <tr style=\"text-align: right;\">\n",
              "      <th></th>\n",
              "      <th>Ram</th>\n",
              "      <th>Weight</th>\n",
              "      <th>Price</th>\n",
              "      <th>TouchScreen</th>\n",
              "      <th>Ips</th>\n",
              "      <th>Ppi</th>\n",
              "      <th>HDD</th>\n",
              "      <th>SSD</th>\n",
              "    </tr>\n",
              "  </thead>\n",
              "  <tbody>\n",
              "    <tr>\n",
              "      <th>count</th>\n",
              "      <td>1273.000000</td>\n",
              "      <td>1273.000000</td>\n",
              "      <td>1273.000000</td>\n",
              "      <td>1273.000000</td>\n",
              "      <td>1273.000000</td>\n",
              "      <td>1273.000000</td>\n",
              "      <td>1273.000000</td>\n",
              "      <td>1273.000000</td>\n",
              "    </tr>\n",
              "    <tr>\n",
              "      <th>mean</th>\n",
              "      <td>8.447761</td>\n",
              "      <td>2.041100</td>\n",
              "      <td>10.828218</td>\n",
              "      <td>0.146897</td>\n",
              "      <td>0.279654</td>\n",
              "      <td>146.950812</td>\n",
              "      <td>413.715632</td>\n",
              "      <td>186.252946</td>\n",
              "    </tr>\n",
              "    <tr>\n",
              "      <th>std</th>\n",
              "      <td>5.098771</td>\n",
              "      <td>0.669241</td>\n",
              "      <td>0.619565</td>\n",
              "      <td>0.354142</td>\n",
              "      <td>0.449006</td>\n",
              "      <td>42.926775</td>\n",
              "      <td>518.054486</td>\n",
              "      <td>186.531571</td>\n",
              "    </tr>\n",
              "    <tr>\n",
              "      <th>min</th>\n",
              "      <td>2.000000</td>\n",
              "      <td>0.690000</td>\n",
              "      <td>9.134616</td>\n",
              "      <td>0.000000</td>\n",
              "      <td>0.000000</td>\n",
              "      <td>90.583402</td>\n",
              "      <td>0.000000</td>\n",
              "      <td>0.000000</td>\n",
              "    </tr>\n",
              "    <tr>\n",
              "      <th>25%</th>\n",
              "      <td>4.000000</td>\n",
              "      <td>1.500000</td>\n",
              "      <td>10.387379</td>\n",
              "      <td>0.000000</td>\n",
              "      <td>0.000000</td>\n",
              "      <td>127.335675</td>\n",
              "      <td>0.000000</td>\n",
              "      <td>0.000000</td>\n",
              "    </tr>\n",
              "    <tr>\n",
              "      <th>50%</th>\n",
              "      <td>8.000000</td>\n",
              "      <td>2.040000</td>\n",
              "      <td>10.872255</td>\n",
              "      <td>0.000000</td>\n",
              "      <td>0.000000</td>\n",
              "      <td>141.211998</td>\n",
              "      <td>0.000000</td>\n",
              "      <td>256.000000</td>\n",
              "    </tr>\n",
              "    <tr>\n",
              "      <th>75%</th>\n",
              "      <td>8.000000</td>\n",
              "      <td>2.310000</td>\n",
              "      <td>11.287447</td>\n",
              "      <td>0.000000</td>\n",
              "      <td>1.000000</td>\n",
              "      <td>157.350512</td>\n",
              "      <td>1000.000000</td>\n",
              "      <td>256.000000</td>\n",
              "    </tr>\n",
              "    <tr>\n",
              "      <th>max</th>\n",
              "      <td>64.000000</td>\n",
              "      <td>4.700000</td>\n",
              "      <td>12.691441</td>\n",
              "      <td>1.000000</td>\n",
              "      <td>1.000000</td>\n",
              "      <td>352.465147</td>\n",
              "      <td>2000.000000</td>\n",
              "      <td>1024.000000</td>\n",
              "    </tr>\n",
              "  </tbody>\n",
              "</table>\n",
              "</div>\n",
              "    <div class=\"colab-df-buttons\">\n",
              "\n",
              "  <div class=\"colab-df-container\">\n",
              "    <button class=\"colab-df-convert\" onclick=\"convertToInteractive('df-de2f0c15-7cc4-4e44-ab06-c97016e75fe5')\"\n",
              "            title=\"Convert this dataframe to an interactive table.\"\n",
              "            style=\"display:none;\">\n",
              "\n",
              "  <svg xmlns=\"http://www.w3.org/2000/svg\" height=\"24px\" viewBox=\"0 -960 960 960\">\n",
              "    <path d=\"M120-120v-720h720v720H120Zm60-500h600v-160H180v160Zm220 220h160v-160H400v160Zm0 220h160v-160H400v160ZM180-400h160v-160H180v160Zm440 0h160v-160H620v160ZM180-180h160v-160H180v160Zm440 0h160v-160H620v160Z\"/>\n",
              "  </svg>\n",
              "    </button>\n",
              "\n",
              "  <style>\n",
              "    .colab-df-container {\n",
              "      display:flex;\n",
              "      gap: 12px;\n",
              "    }\n",
              "\n",
              "    .colab-df-convert {\n",
              "      background-color: #E8F0FE;\n",
              "      border: none;\n",
              "      border-radius: 50%;\n",
              "      cursor: pointer;\n",
              "      display: none;\n",
              "      fill: #1967D2;\n",
              "      height: 32px;\n",
              "      padding: 0 0 0 0;\n",
              "      width: 32px;\n",
              "    }\n",
              "\n",
              "    .colab-df-convert:hover {\n",
              "      background-color: #E2EBFA;\n",
              "      box-shadow: 0px 1px 2px rgba(60, 64, 67, 0.3), 0px 1px 3px 1px rgba(60, 64, 67, 0.15);\n",
              "      fill: #174EA6;\n",
              "    }\n",
              "\n",
              "    .colab-df-buttons div {\n",
              "      margin-bottom: 4px;\n",
              "    }\n",
              "\n",
              "    [theme=dark] .colab-df-convert {\n",
              "      background-color: #3B4455;\n",
              "      fill: #D2E3FC;\n",
              "    }\n",
              "\n",
              "    [theme=dark] .colab-df-convert:hover {\n",
              "      background-color: #434B5C;\n",
              "      box-shadow: 0px 1px 3px 1px rgba(0, 0, 0, 0.15);\n",
              "      filter: drop-shadow(0px 1px 2px rgba(0, 0, 0, 0.3));\n",
              "      fill: #FFFFFF;\n",
              "    }\n",
              "  </style>\n",
              "\n",
              "    <script>\n",
              "      const buttonEl =\n",
              "        document.querySelector('#df-de2f0c15-7cc4-4e44-ab06-c97016e75fe5 button.colab-df-convert');\n",
              "      buttonEl.style.display =\n",
              "        google.colab.kernel.accessAllowed ? 'block' : 'none';\n",
              "\n",
              "      async function convertToInteractive(key) {\n",
              "        const element = document.querySelector('#df-de2f0c15-7cc4-4e44-ab06-c97016e75fe5');\n",
              "        const dataTable =\n",
              "          await google.colab.kernel.invokeFunction('convertToInteractive',\n",
              "                                                    [key], {});\n",
              "        if (!dataTable) return;\n",
              "\n",
              "        const docLinkHtml = 'Like what you see? Visit the ' +\n",
              "          '<a target=\"_blank\" href=https://colab.research.google.com/notebooks/data_table.ipynb>data table notebook</a>'\n",
              "          + ' to learn more about interactive tables.';\n",
              "        element.innerHTML = '';\n",
              "        dataTable['output_type'] = 'display_data';\n",
              "        await google.colab.output.renderOutput(dataTable, element);\n",
              "        const docLink = document.createElement('div');\n",
              "        docLink.innerHTML = docLinkHtml;\n",
              "        element.appendChild(docLink);\n",
              "      }\n",
              "    </script>\n",
              "  </div>\n",
              "\n",
              "\n",
              "<div id=\"df-f0063879-002c-4c3e-9bf6-68d3d1797693\">\n",
              "  <button class=\"colab-df-quickchart\" onclick=\"quickchart('df-f0063879-002c-4c3e-9bf6-68d3d1797693')\"\n",
              "            title=\"Suggest charts\"\n",
              "            style=\"display:none;\">\n",
              "\n",
              "<svg xmlns=\"http://www.w3.org/2000/svg\" height=\"24px\"viewBox=\"0 0 24 24\"\n",
              "     width=\"24px\">\n",
              "    <g>\n",
              "        <path d=\"M19 3H5c-1.1 0-2 .9-2 2v14c0 1.1.9 2 2 2h14c1.1 0 2-.9 2-2V5c0-1.1-.9-2-2-2zM9 17H7v-7h2v7zm4 0h-2V7h2v10zm4 0h-2v-4h2v4z\"/>\n",
              "    </g>\n",
              "</svg>\n",
              "  </button>\n",
              "\n",
              "<style>\n",
              "  .colab-df-quickchart {\n",
              "      --bg-color: #E8F0FE;\n",
              "      --fill-color: #1967D2;\n",
              "      --hover-bg-color: #E2EBFA;\n",
              "      --hover-fill-color: #174EA6;\n",
              "      --disabled-fill-color: #AAA;\n",
              "      --disabled-bg-color: #DDD;\n",
              "  }\n",
              "\n",
              "  [theme=dark] .colab-df-quickchart {\n",
              "      --bg-color: #3B4455;\n",
              "      --fill-color: #D2E3FC;\n",
              "      --hover-bg-color: #434B5C;\n",
              "      --hover-fill-color: #FFFFFF;\n",
              "      --disabled-bg-color: #3B4455;\n",
              "      --disabled-fill-color: #666;\n",
              "  }\n",
              "\n",
              "  .colab-df-quickchart {\n",
              "    background-color: var(--bg-color);\n",
              "    border: none;\n",
              "    border-radius: 50%;\n",
              "    cursor: pointer;\n",
              "    display: none;\n",
              "    fill: var(--fill-color);\n",
              "    height: 32px;\n",
              "    padding: 0;\n",
              "    width: 32px;\n",
              "  }\n",
              "\n",
              "  .colab-df-quickchart:hover {\n",
              "    background-color: var(--hover-bg-color);\n",
              "    box-shadow: 0 1px 2px rgba(60, 64, 67, 0.3), 0 1px 3px 1px rgba(60, 64, 67, 0.15);\n",
              "    fill: var(--button-hover-fill-color);\n",
              "  }\n",
              "\n",
              "  .colab-df-quickchart-complete:disabled,\n",
              "  .colab-df-quickchart-complete:disabled:hover {\n",
              "    background-color: var(--disabled-bg-color);\n",
              "    fill: var(--disabled-fill-color);\n",
              "    box-shadow: none;\n",
              "  }\n",
              "\n",
              "  .colab-df-spinner {\n",
              "    border: 2px solid var(--fill-color);\n",
              "    border-color: transparent;\n",
              "    border-bottom-color: var(--fill-color);\n",
              "    animation:\n",
              "      spin 1s steps(1) infinite;\n",
              "  }\n",
              "\n",
              "  @keyframes spin {\n",
              "    0% {\n",
              "      border-color: transparent;\n",
              "      border-bottom-color: var(--fill-color);\n",
              "      border-left-color: var(--fill-color);\n",
              "    }\n",
              "    20% {\n",
              "      border-color: transparent;\n",
              "      border-left-color: var(--fill-color);\n",
              "      border-top-color: var(--fill-color);\n",
              "    }\n",
              "    30% {\n",
              "      border-color: transparent;\n",
              "      border-left-color: var(--fill-color);\n",
              "      border-top-color: var(--fill-color);\n",
              "      border-right-color: var(--fill-color);\n",
              "    }\n",
              "    40% {\n",
              "      border-color: transparent;\n",
              "      border-right-color: var(--fill-color);\n",
              "      border-top-color: var(--fill-color);\n",
              "    }\n",
              "    60% {\n",
              "      border-color: transparent;\n",
              "      border-right-color: var(--fill-color);\n",
              "    }\n",
              "    80% {\n",
              "      border-color: transparent;\n",
              "      border-right-color: var(--fill-color);\n",
              "      border-bottom-color: var(--fill-color);\n",
              "    }\n",
              "    90% {\n",
              "      border-color: transparent;\n",
              "      border-bottom-color: var(--fill-color);\n",
              "    }\n",
              "  }\n",
              "</style>\n",
              "\n",
              "  <script>\n",
              "    async function quickchart(key) {\n",
              "      const quickchartButtonEl =\n",
              "        document.querySelector('#' + key + ' button');\n",
              "      quickchartButtonEl.disabled = true;  // To prevent multiple clicks.\n",
              "      quickchartButtonEl.classList.add('colab-df-spinner');\n",
              "      try {\n",
              "        const charts = await google.colab.kernel.invokeFunction(\n",
              "            'suggestCharts', [key], {});\n",
              "      } catch (error) {\n",
              "        console.error('Error during call to suggestCharts:', error);\n",
              "      }\n",
              "      quickchartButtonEl.classList.remove('colab-df-spinner');\n",
              "      quickchartButtonEl.classList.add('colab-df-quickchart-complete');\n",
              "    }\n",
              "    (() => {\n",
              "      let quickchartButtonEl =\n",
              "        document.querySelector('#df-f0063879-002c-4c3e-9bf6-68d3d1797693 button');\n",
              "      quickchartButtonEl.style.display =\n",
              "        google.colab.kernel.accessAllowed ? 'block' : 'none';\n",
              "    })();\n",
              "  </script>\n",
              "</div>\n",
              "    </div>\n",
              "  </div>\n"
            ],
            "application/vnd.google.colaboratory.intrinsic+json": {
              "type": "dataframe",
              "summary": "{\n  \"name\": \"data_laptop\",\n  \"rows\": 8,\n  \"fields\": [\n    {\n      \"column\": \"Ram\",\n      \"properties\": {\n        \"dtype\": \"number\",\n        \"std\": 445.514929084786,\n        \"min\": 2.0,\n        \"max\": 1273.0,\n        \"num_unique_values\": 7,\n        \"samples\": [\n          1273.0,\n          8.447761194029852,\n          8.0\n        ],\n        \"semantic_type\": \"\",\n        \"description\": \"\"\n      }\n    },\n    {\n      \"column\": \"Weight\",\n      \"properties\": {\n        \"dtype\": \"number\",\n        \"std\": 449.37063612864785,\n        \"min\": 0.669241062186102,\n        \"max\": 1273.0,\n        \"num_unique_values\": 8,\n        \"samples\": [\n          2.041099764336214,\n          2.04,\n          1273.0\n        ],\n        \"semantic_type\": \"\",\n        \"description\": \"\"\n      }\n    },\n    {\n      \"column\": \"Price\",\n      \"properties\": {\n        \"dtype\": \"number\",\n        \"std\": 446.76447538808395,\n        \"min\": 0.6195650221746966,\n        \"max\": 1273.0,\n        \"num_unique_values\": 8,\n        \"samples\": [\n          10.828218230869608,\n          10.872255357854844,\n          1273.0\n        ],\n        \"semantic_type\": \"\",\n        \"description\": \"\"\n      }\n    },\n    {\n      \"column\": \"TouchScreen\",\n      \"properties\": {\n        \"dtype\": \"number\",\n        \"std\": 449.9977832530299,\n        \"min\": 0.0,\n        \"max\": 1273.0,\n        \"num_unique_values\": 5,\n        \"samples\": [\n          0.14689709347996857,\n          1.0,\n          0.35414242630983184\n        ],\n        \"semantic_type\": \"\",\n        \"description\": \"\"\n      }\n    },\n    {\n      \"column\": \"Ips\",\n      \"properties\": {\n        \"dtype\": \"number\",\n        \"std\": 449.9358411456868,\n        \"min\": 0.0,\n        \"max\": 1273.0,\n        \"num_unique_values\": 5,\n        \"samples\": [\n          0.27965435978004716,\n          1.0,\n          0.4490057569197679\n        ],\n        \"semantic_type\": \"\",\n        \"description\": \"\"\n      }\n    },\n    {\n      \"column\": \"Ppi\",\n      \"properties\": {\n        \"dtype\": \"number\",\n        \"std\": 406.66625221324324,\n        \"min\": 42.92677535578157,\n        \"max\": 1273.0,\n        \"num_unique_values\": 8,\n        \"samples\": [\n          146.95081224719442,\n          141.21199808219862,\n          1273.0\n        ],\n        \"semantic_type\": \"\",\n        \"description\": \"\"\n      }\n    },\n    {\n      \"column\": \"HDD\",\n      \"properties\": {\n        \"dtype\": \"number\",\n        \"std\": 724.4570456345074,\n        \"min\": 0.0,\n        \"max\": 2000.0,\n        \"num_unique_values\": 6,\n        \"samples\": [\n          1273.0,\n          413.71563236449333,\n          2000.0\n        ],\n        \"semantic_type\": \"\",\n        \"description\": \"\"\n      }\n    },\n    {\n      \"column\": \"SSD\",\n      \"properties\": {\n        \"dtype\": \"number\",\n        \"std\": 478.7173484089547,\n        \"min\": 0.0,\n        \"max\": 1273.0,\n        \"num_unique_values\": 6,\n        \"samples\": [\n          1273.0,\n          186.25294579732915,\n          1024.0\n        ],\n        \"semantic_type\": \"\",\n        \"description\": \"\"\n      }\n    }\n  ]\n}"
            }
          },
          "metadata": {},
          "execution_count": 240
        }
      ]
    },
    {
      "cell_type": "markdown",
      "source": [
        "Exploratory Data Analysis"
      ],
      "metadata": {
        "id": "OeYuVkfR50PZ"
      }
    },
    {
      "cell_type": "code",
      "source": [
        "# Mengecek jumlah data duplikat pada data customer\n",
        "jumlah_duplikat = data_customer.duplicated().sum()\n",
        "# Menampilkan jumlah data duplikat\n",
        "print(\"Jumlah data duplikat:\", jumlah_duplikat)"
      ],
      "metadata": {
        "colab": {
          "base_uri": "https://localhost:8080/"
        },
        "id": "evEmAUCJszo7",
        "outputId": "c430ef18-c794-44c3-c0d1-56049124bc32"
      },
      "execution_count": null,
      "outputs": [
        {
          "output_type": "stream",
          "name": "stdout",
          "text": [
            "Jumlah data duplikat: 0\n"
          ]
        }
      ]
    },
    {
      "cell_type": "code",
      "source": [
        "# Ubah kolom Dt_Customer menjadi Years_Since_Registration\n",
        "data_customer['Dt_Customer'] = pd.to_datetime(data_customer['Dt_Customer'])\n",
        "current_year = datetime.now().year\n",
        "data_customer['Dt_Customer'] = current_year - data_customer['Dt_Customer'].dt.year\n",
        "data_customer.rename(columns={'Dt_Customer': 'Years_Since_Registration'}, inplace=True)\n",
        "# Ubah kolom Year_Birth menjadi Age\n",
        "data_customer['Year_Birth'] = current_year - data_customer['Year_Birth']\n",
        "data_customer.rename(columns={'Year_Birth': 'Age'}, inplace=True)"
      ],
      "metadata": {
        "id": "zD9Snnr7f-gg"
      },
      "execution_count": null,
      "outputs": []
    },
    {
      "cell_type": "code",
      "source": [
        "data_customer.info()"
      ],
      "metadata": {
        "colab": {
          "base_uri": "https://localhost:8080/"
        },
        "id": "ihwka8BJguFy",
        "outputId": "716fddbf-153c-4cc9-99c7-fd2bd894fb9b"
      },
      "execution_count": null,
      "outputs": [
        {
          "output_type": "stream",
          "name": "stdout",
          "text": [
            "<class 'pandas.core.frame.DataFrame'>\n",
            "RangeIndex: 2240 entries, 0 to 2239\n",
            "Data columns (total 9 columns):\n",
            " #   Column                    Non-Null Count  Dtype  \n",
            "---  ------                    --------------  -----  \n",
            " 0   ID                        2240 non-null   int64  \n",
            " 1   Age                       2240 non-null   int64  \n",
            " 2   Education                 2240 non-null   object \n",
            " 3   Income                    2216 non-null   float64\n",
            " 4   Years_Since_Registration  2240 non-null   int32  \n",
            " 5   Recency                   2240 non-null   int64  \n",
            " 6   NumWebPurchases           2240 non-null   int64  \n",
            " 7   NumStorePurchases         2240 non-null   int64  \n",
            " 8   NumWebVisitsMonth         2240 non-null   int64  \n",
            "dtypes: float64(1), int32(1), int64(6), object(1)\n",
            "memory usage: 148.9+ KB\n"
          ]
        }
      ]
    },
    {
      "cell_type": "code",
      "source": [
        "data_customer.head()"
      ],
      "metadata": {
        "colab": {
          "base_uri": "https://localhost:8080/",
          "height": 206
        },
        "id": "Ye2ymzS4lxqf",
        "outputId": "1891cdbe-32ce-4907-841d-7e95fed0ea60"
      },
      "execution_count": null,
      "outputs": [
        {
          "output_type": "execute_result",
          "data": {
            "text/plain": [
              "     ID  Age   Education   Income  Years_Since_Registration  Recency  \\\n",
              "0  5524   67  Graduation  58138.0                        12       58   \n",
              "1  2174   70  Graduation  46344.0                        10       38   \n",
              "2  4141   59  Graduation  71613.0                        11       26   \n",
              "3  6182   40  Graduation  26646.0                        10       26   \n",
              "4  5324   43         PhD  58293.0                        10       94   \n",
              "\n",
              "   NumWebPurchases  NumStorePurchases  NumWebVisitsMonth  \n",
              "0                8                  4                  7  \n",
              "1                1                  2                  5  \n",
              "2                8                 10                  4  \n",
              "3                2                  4                  6  \n",
              "4                5                  6                  5  "
            ],
            "text/html": [
              "\n",
              "  <div id=\"df-cc69af9b-e52f-489f-b7fc-9a25f62f05f3\" class=\"colab-df-container\">\n",
              "    <div>\n",
              "<style scoped>\n",
              "    .dataframe tbody tr th:only-of-type {\n",
              "        vertical-align: middle;\n",
              "    }\n",
              "\n",
              "    .dataframe tbody tr th {\n",
              "        vertical-align: top;\n",
              "    }\n",
              "\n",
              "    .dataframe thead th {\n",
              "        text-align: right;\n",
              "    }\n",
              "</style>\n",
              "<table border=\"1\" class=\"dataframe\">\n",
              "  <thead>\n",
              "    <tr style=\"text-align: right;\">\n",
              "      <th></th>\n",
              "      <th>ID</th>\n",
              "      <th>Age</th>\n",
              "      <th>Education</th>\n",
              "      <th>Income</th>\n",
              "      <th>Years_Since_Registration</th>\n",
              "      <th>Recency</th>\n",
              "      <th>NumWebPurchases</th>\n",
              "      <th>NumStorePurchases</th>\n",
              "      <th>NumWebVisitsMonth</th>\n",
              "    </tr>\n",
              "  </thead>\n",
              "  <tbody>\n",
              "    <tr>\n",
              "      <th>0</th>\n",
              "      <td>5524</td>\n",
              "      <td>67</td>\n",
              "      <td>Graduation</td>\n",
              "      <td>58138.0</td>\n",
              "      <td>12</td>\n",
              "      <td>58</td>\n",
              "      <td>8</td>\n",
              "      <td>4</td>\n",
              "      <td>7</td>\n",
              "    </tr>\n",
              "    <tr>\n",
              "      <th>1</th>\n",
              "      <td>2174</td>\n",
              "      <td>70</td>\n",
              "      <td>Graduation</td>\n",
              "      <td>46344.0</td>\n",
              "      <td>10</td>\n",
              "      <td>38</td>\n",
              "      <td>1</td>\n",
              "      <td>2</td>\n",
              "      <td>5</td>\n",
              "    </tr>\n",
              "    <tr>\n",
              "      <th>2</th>\n",
              "      <td>4141</td>\n",
              "      <td>59</td>\n",
              "      <td>Graduation</td>\n",
              "      <td>71613.0</td>\n",
              "      <td>11</td>\n",
              "      <td>26</td>\n",
              "      <td>8</td>\n",
              "      <td>10</td>\n",
              "      <td>4</td>\n",
              "    </tr>\n",
              "    <tr>\n",
              "      <th>3</th>\n",
              "      <td>6182</td>\n",
              "      <td>40</td>\n",
              "      <td>Graduation</td>\n",
              "      <td>26646.0</td>\n",
              "      <td>10</td>\n",
              "      <td>26</td>\n",
              "      <td>2</td>\n",
              "      <td>4</td>\n",
              "      <td>6</td>\n",
              "    </tr>\n",
              "    <tr>\n",
              "      <th>4</th>\n",
              "      <td>5324</td>\n",
              "      <td>43</td>\n",
              "      <td>PhD</td>\n",
              "      <td>58293.0</td>\n",
              "      <td>10</td>\n",
              "      <td>94</td>\n",
              "      <td>5</td>\n",
              "      <td>6</td>\n",
              "      <td>5</td>\n",
              "    </tr>\n",
              "  </tbody>\n",
              "</table>\n",
              "</div>\n",
              "    <div class=\"colab-df-buttons\">\n",
              "\n",
              "  <div class=\"colab-df-container\">\n",
              "    <button class=\"colab-df-convert\" onclick=\"convertToInteractive('df-cc69af9b-e52f-489f-b7fc-9a25f62f05f3')\"\n",
              "            title=\"Convert this dataframe to an interactive table.\"\n",
              "            style=\"display:none;\">\n",
              "\n",
              "  <svg xmlns=\"http://www.w3.org/2000/svg\" height=\"24px\" viewBox=\"0 -960 960 960\">\n",
              "    <path d=\"M120-120v-720h720v720H120Zm60-500h600v-160H180v160Zm220 220h160v-160H400v160Zm0 220h160v-160H400v160ZM180-400h160v-160H180v160Zm440 0h160v-160H620v160ZM180-180h160v-160H180v160Zm440 0h160v-160H620v160Z\"/>\n",
              "  </svg>\n",
              "    </button>\n",
              "\n",
              "  <style>\n",
              "    .colab-df-container {\n",
              "      display:flex;\n",
              "      gap: 12px;\n",
              "    }\n",
              "\n",
              "    .colab-df-convert {\n",
              "      background-color: #E8F0FE;\n",
              "      border: none;\n",
              "      border-radius: 50%;\n",
              "      cursor: pointer;\n",
              "      display: none;\n",
              "      fill: #1967D2;\n",
              "      height: 32px;\n",
              "      padding: 0 0 0 0;\n",
              "      width: 32px;\n",
              "    }\n",
              "\n",
              "    .colab-df-convert:hover {\n",
              "      background-color: #E2EBFA;\n",
              "      box-shadow: 0px 1px 2px rgba(60, 64, 67, 0.3), 0px 1px 3px 1px rgba(60, 64, 67, 0.15);\n",
              "      fill: #174EA6;\n",
              "    }\n",
              "\n",
              "    .colab-df-buttons div {\n",
              "      margin-bottom: 4px;\n",
              "    }\n",
              "\n",
              "    [theme=dark] .colab-df-convert {\n",
              "      background-color: #3B4455;\n",
              "      fill: #D2E3FC;\n",
              "    }\n",
              "\n",
              "    [theme=dark] .colab-df-convert:hover {\n",
              "      background-color: #434B5C;\n",
              "      box-shadow: 0px 1px 3px 1px rgba(0, 0, 0, 0.15);\n",
              "      filter: drop-shadow(0px 1px 2px rgba(0, 0, 0, 0.3));\n",
              "      fill: #FFFFFF;\n",
              "    }\n",
              "  </style>\n",
              "\n",
              "    <script>\n",
              "      const buttonEl =\n",
              "        document.querySelector('#df-cc69af9b-e52f-489f-b7fc-9a25f62f05f3 button.colab-df-convert');\n",
              "      buttonEl.style.display =\n",
              "        google.colab.kernel.accessAllowed ? 'block' : 'none';\n",
              "\n",
              "      async function convertToInteractive(key) {\n",
              "        const element = document.querySelector('#df-cc69af9b-e52f-489f-b7fc-9a25f62f05f3');\n",
              "        const dataTable =\n",
              "          await google.colab.kernel.invokeFunction('convertToInteractive',\n",
              "                                                    [key], {});\n",
              "        if (!dataTable) return;\n",
              "\n",
              "        const docLinkHtml = 'Like what you see? Visit the ' +\n",
              "          '<a target=\"_blank\" href=https://colab.research.google.com/notebooks/data_table.ipynb>data table notebook</a>'\n",
              "          + ' to learn more about interactive tables.';\n",
              "        element.innerHTML = '';\n",
              "        dataTable['output_type'] = 'display_data';\n",
              "        await google.colab.output.renderOutput(dataTable, element);\n",
              "        const docLink = document.createElement('div');\n",
              "        docLink.innerHTML = docLinkHtml;\n",
              "        element.appendChild(docLink);\n",
              "      }\n",
              "    </script>\n",
              "  </div>\n",
              "\n",
              "\n",
              "<div id=\"df-b2427ccb-e4e2-47a4-8b16-0ffc2baf9942\">\n",
              "  <button class=\"colab-df-quickchart\" onclick=\"quickchart('df-b2427ccb-e4e2-47a4-8b16-0ffc2baf9942')\"\n",
              "            title=\"Suggest charts\"\n",
              "            style=\"display:none;\">\n",
              "\n",
              "<svg xmlns=\"http://www.w3.org/2000/svg\" height=\"24px\"viewBox=\"0 0 24 24\"\n",
              "     width=\"24px\">\n",
              "    <g>\n",
              "        <path d=\"M19 3H5c-1.1 0-2 .9-2 2v14c0 1.1.9 2 2 2h14c1.1 0 2-.9 2-2V5c0-1.1-.9-2-2-2zM9 17H7v-7h2v7zm4 0h-2V7h2v10zm4 0h-2v-4h2v4z\"/>\n",
              "    </g>\n",
              "</svg>\n",
              "  </button>\n",
              "\n",
              "<style>\n",
              "  .colab-df-quickchart {\n",
              "      --bg-color: #E8F0FE;\n",
              "      --fill-color: #1967D2;\n",
              "      --hover-bg-color: #E2EBFA;\n",
              "      --hover-fill-color: #174EA6;\n",
              "      --disabled-fill-color: #AAA;\n",
              "      --disabled-bg-color: #DDD;\n",
              "  }\n",
              "\n",
              "  [theme=dark] .colab-df-quickchart {\n",
              "      --bg-color: #3B4455;\n",
              "      --fill-color: #D2E3FC;\n",
              "      --hover-bg-color: #434B5C;\n",
              "      --hover-fill-color: #FFFFFF;\n",
              "      --disabled-bg-color: #3B4455;\n",
              "      --disabled-fill-color: #666;\n",
              "  }\n",
              "\n",
              "  .colab-df-quickchart {\n",
              "    background-color: var(--bg-color);\n",
              "    border: none;\n",
              "    border-radius: 50%;\n",
              "    cursor: pointer;\n",
              "    display: none;\n",
              "    fill: var(--fill-color);\n",
              "    height: 32px;\n",
              "    padding: 0;\n",
              "    width: 32px;\n",
              "  }\n",
              "\n",
              "  .colab-df-quickchart:hover {\n",
              "    background-color: var(--hover-bg-color);\n",
              "    box-shadow: 0 1px 2px rgba(60, 64, 67, 0.3), 0 1px 3px 1px rgba(60, 64, 67, 0.15);\n",
              "    fill: var(--button-hover-fill-color);\n",
              "  }\n",
              "\n",
              "  .colab-df-quickchart-complete:disabled,\n",
              "  .colab-df-quickchart-complete:disabled:hover {\n",
              "    background-color: var(--disabled-bg-color);\n",
              "    fill: var(--disabled-fill-color);\n",
              "    box-shadow: none;\n",
              "  }\n",
              "\n",
              "  .colab-df-spinner {\n",
              "    border: 2px solid var(--fill-color);\n",
              "    border-color: transparent;\n",
              "    border-bottom-color: var(--fill-color);\n",
              "    animation:\n",
              "      spin 1s steps(1) infinite;\n",
              "  }\n",
              "\n",
              "  @keyframes spin {\n",
              "    0% {\n",
              "      border-color: transparent;\n",
              "      border-bottom-color: var(--fill-color);\n",
              "      border-left-color: var(--fill-color);\n",
              "    }\n",
              "    20% {\n",
              "      border-color: transparent;\n",
              "      border-left-color: var(--fill-color);\n",
              "      border-top-color: var(--fill-color);\n",
              "    }\n",
              "    30% {\n",
              "      border-color: transparent;\n",
              "      border-left-color: var(--fill-color);\n",
              "      border-top-color: var(--fill-color);\n",
              "      border-right-color: var(--fill-color);\n",
              "    }\n",
              "    40% {\n",
              "      border-color: transparent;\n",
              "      border-right-color: var(--fill-color);\n",
              "      border-top-color: var(--fill-color);\n",
              "    }\n",
              "    60% {\n",
              "      border-color: transparent;\n",
              "      border-right-color: var(--fill-color);\n",
              "    }\n",
              "    80% {\n",
              "      border-color: transparent;\n",
              "      border-right-color: var(--fill-color);\n",
              "      border-bottom-color: var(--fill-color);\n",
              "    }\n",
              "    90% {\n",
              "      border-color: transparent;\n",
              "      border-bottom-color: var(--fill-color);\n",
              "    }\n",
              "  }\n",
              "</style>\n",
              "\n",
              "  <script>\n",
              "    async function quickchart(key) {\n",
              "      const quickchartButtonEl =\n",
              "        document.querySelector('#' + key + ' button');\n",
              "      quickchartButtonEl.disabled = true;  // To prevent multiple clicks.\n",
              "      quickchartButtonEl.classList.add('colab-df-spinner');\n",
              "      try {\n",
              "        const charts = await google.colab.kernel.invokeFunction(\n",
              "            'suggestCharts', [key], {});\n",
              "      } catch (error) {\n",
              "        console.error('Error during call to suggestCharts:', error);\n",
              "      }\n",
              "      quickchartButtonEl.classList.remove('colab-df-spinner');\n",
              "      quickchartButtonEl.classList.add('colab-df-quickchart-complete');\n",
              "    }\n",
              "    (() => {\n",
              "      let quickchartButtonEl =\n",
              "        document.querySelector('#df-b2427ccb-e4e2-47a4-8b16-0ffc2baf9942 button');\n",
              "      quickchartButtonEl.style.display =\n",
              "        google.colab.kernel.accessAllowed ? 'block' : 'none';\n",
              "    })();\n",
              "  </script>\n",
              "</div>\n",
              "    </div>\n",
              "  </div>\n"
            ],
            "application/vnd.google.colaboratory.intrinsic+json": {
              "type": "dataframe",
              "variable_name": "data_customer",
              "summary": "{\n  \"name\": \"data_customer\",\n  \"rows\": 2240,\n  \"fields\": [\n    {\n      \"column\": \"ID\",\n      \"properties\": {\n        \"dtype\": \"number\",\n        \"std\": 3246,\n        \"min\": 0,\n        \"max\": 11191,\n        \"num_unique_values\": 2240,\n        \"samples\": [\n          2607,\n          7247,\n          5802\n        ],\n        \"semantic_type\": \"\",\n        \"description\": \"\"\n      }\n    },\n    {\n      \"column\": \"Age\",\n      \"properties\": {\n        \"dtype\": \"number\",\n        \"std\": 11,\n        \"min\": 28,\n        \"max\": 131,\n        \"num_unique_values\": 59,\n        \"samples\": [\n          67,\n          57,\n          69\n        ],\n        \"semantic_type\": \"\",\n        \"description\": \"\"\n      }\n    },\n    {\n      \"column\": \"Education\",\n      \"properties\": {\n        \"dtype\": \"category\",\n        \"num_unique_values\": 5,\n        \"samples\": [\n          \"PhD\",\n          \"2n Cycle\",\n          \"Master\"\n        ],\n        \"semantic_type\": \"\",\n        \"description\": \"\"\n      }\n    },\n    {\n      \"column\": \"Income\",\n      \"properties\": {\n        \"dtype\": \"number\",\n        \"std\": 25173.076660901403,\n        \"min\": 1730.0,\n        \"max\": 666666.0,\n        \"num_unique_values\": 1974,\n        \"samples\": [\n          53154.0,\n          63211.0,\n          18988.0\n        ],\n        \"semantic_type\": \"\",\n        \"description\": \"\"\n      }\n    },\n    {\n      \"column\": \"Years_Since_Registration\",\n      \"properties\": {\n        \"dtype\": \"int32\",\n        \"num_unique_values\": 3,\n        \"samples\": [\n          12,\n          10,\n          11\n        ],\n        \"semantic_type\": \"\",\n        \"description\": \"\"\n      }\n    },\n    {\n      \"column\": \"Recency\",\n      \"properties\": {\n        \"dtype\": \"number\",\n        \"std\": 28,\n        \"min\": 0,\n        \"max\": 99,\n        \"num_unique_values\": 100,\n        \"samples\": [\n          78,\n          87,\n          65\n        ],\n        \"semantic_type\": \"\",\n        \"description\": \"\"\n      }\n    },\n    {\n      \"column\": \"NumWebPurchases\",\n      \"properties\": {\n        \"dtype\": \"number\",\n        \"std\": 2,\n        \"min\": 0,\n        \"max\": 27,\n        \"num_unique_values\": 15,\n        \"samples\": [\n          0,\n          10,\n          8\n        ],\n        \"semantic_type\": \"\",\n        \"description\": \"\"\n      }\n    },\n    {\n      \"column\": \"NumStorePurchases\",\n      \"properties\": {\n        \"dtype\": \"number\",\n        \"std\": 3,\n        \"min\": 0,\n        \"max\": 13,\n        \"num_unique_values\": 14,\n        \"samples\": [\n          12,\n          13,\n          4\n        ],\n        \"semantic_type\": \"\",\n        \"description\": \"\"\n      }\n    },\n    {\n      \"column\": \"NumWebVisitsMonth\",\n      \"properties\": {\n        \"dtype\": \"number\",\n        \"std\": 2,\n        \"min\": 0,\n        \"max\": 20,\n        \"num_unique_values\": 16,\n        \"samples\": [\n          7,\n          5,\n          9\n        ],\n        \"semantic_type\": \"\",\n        \"description\": \"\"\n      }\n    }\n  ]\n}"
            }
          },
          "metadata": {},
          "execution_count": 244
        }
      ]
    },
    {
      "cell_type": "code",
      "source": [
        "# Mengecek jumlah data duplikat pada data laptop\n",
        "jumlah_duplikat = data_laptop.duplicated().sum()\n",
        "# Menampilkan jumlah data duplikat\n",
        "print(\"Jumlah data duplikat:\", jumlah_duplikat)"
      ],
      "metadata": {
        "id": "L4DxqJLt1eap",
        "colab": {
          "base_uri": "https://localhost:8080/"
        },
        "outputId": "3906077a-b4dc-481d-de1d-37b47b49ac35"
      },
      "execution_count": null,
      "outputs": [
        {
          "output_type": "stream",
          "name": "stdout",
          "text": [
            "Jumlah data duplikat: 1\n"
          ]
        }
      ]
    },
    {
      "cell_type": "code",
      "source": [
        "## Handling Duplicates\n",
        "# menghapus baris yang merupakan duplikat pada data laptop\n",
        "data_laptop.drop_duplicates(inplace=True)"
      ],
      "metadata": {
        "id": "nCRS5Nx8hw_l"
      },
      "execution_count": null,
      "outputs": []
    },
    {
      "cell_type": "code",
      "source": [
        "# Mengecek jumlah data duplikat pada data laptop\n",
        "jumlah_duplikat = data_laptop.duplicated().sum()\n",
        "# Menampilkan jumlah data duplikat\n",
        "print(\"Jumlah data duplikat:\", jumlah_duplikat)"
      ],
      "metadata": {
        "colab": {
          "base_uri": "https://localhost:8080/"
        },
        "id": "XsE5wAmpiPQb",
        "outputId": "32b946a8-89af-4e0f-bbcf-4280b8af3de0"
      },
      "execution_count": null,
      "outputs": [
        {
          "output_type": "stream",
          "name": "stdout",
          "text": [
            "Jumlah data duplikat: 0\n"
          ]
        }
      ]
    },
    {
      "cell_type": "code",
      "source": [
        "#Handling Typo pada kolom Education\n",
        "#Disini saya menganggap Basic pada education itu sama dengan Graduation, dan untuk 2n Cycle sama dengan Master\n",
        "data_customer['Education'] = data_customer['Education'].replace({\n",
        "    'Basic': 'Graduation',\n",
        "    '2n Cycle': 'Master'\n",
        "})"
      ],
      "metadata": {
        "id": "EpBkWsnmmW-K"
      },
      "execution_count": null,
      "outputs": []
    },
    {
      "cell_type": "code",
      "source": [
        "# Cek jumlah missing value pada data customer\n",
        "data_customer.isnull().sum()"
      ],
      "metadata": {
        "colab": {
          "base_uri": "https://localhost:8080/"
        },
        "id": "YgQxcmxYs3CP",
        "outputId": "89560bfd-3582-4658-b099-326b7d872dcb"
      },
      "execution_count": null,
      "outputs": [
        {
          "output_type": "execute_result",
          "data": {
            "text/plain": [
              "ID                           0\n",
              "Age                          0\n",
              "Education                    0\n",
              "Income                      24\n",
              "Years_Since_Registration     0\n",
              "Recency                      0\n",
              "NumWebPurchases              0\n",
              "NumStorePurchases            0\n",
              "NumWebVisitsMonth            0\n",
              "dtype: int64"
            ]
          },
          "metadata": {},
          "execution_count": 249
        }
      ]
    },
    {
      "cell_type": "code",
      "source": [
        "##Handling Missing Value pada data customer kolom income\n",
        "#Membuat dictionary yang berisi median income untuk setiap kategori pendidikan (karena terdapat outlier pada kolom income)\n",
        "median_income_by_education = data_customer.groupby('Education')['Income'].median().to_dict()\n",
        "\n",
        "# Mengisi missing value dengan median income berdasarkan education\n",
        "data_customer['Income'] = data_customer.apply(lambda row: median_income_by_education[row['Education']] if pd.isna(row['Income']) else row['Income'], axis=1)\n"
      ],
      "metadata": {
        "id": "dY7-rK1suqdZ"
      },
      "execution_count": null,
      "outputs": []
    },
    {
      "cell_type": "code",
      "source": [
        "# Cek jumlah missing value\n",
        "data_customer.isnull().sum()"
      ],
      "metadata": {
        "colab": {
          "base_uri": "https://localhost:8080/"
        },
        "id": "D2qootdNu3DU",
        "outputId": "0c35124d-8004-4c94-a8bb-a3f933f7f8b6"
      },
      "execution_count": null,
      "outputs": [
        {
          "output_type": "execute_result",
          "data": {
            "text/plain": [
              "ID                          0\n",
              "Age                         0\n",
              "Education                   0\n",
              "Income                      0\n",
              "Years_Since_Registration    0\n",
              "Recency                     0\n",
              "NumWebPurchases             0\n",
              "NumStorePurchases           0\n",
              "NumWebVisitsMonth           0\n",
              "dtype: int64"
            ]
          },
          "metadata": {},
          "execution_count": 251
        }
      ]
    },
    {
      "cell_type": "code",
      "source": [
        "# Cek jumlah missing value pada data laptop\n",
        "data_laptop.isnull().sum()"
      ],
      "metadata": {
        "id": "-N2msgAZ1r5g",
        "colab": {
          "base_uri": "https://localhost:8080/"
        },
        "outputId": "037e28af-b87d-42cd-af94-8a0715d87c0f"
      },
      "execution_count": null,
      "outputs": [
        {
          "output_type": "execute_result",
          "data": {
            "text/plain": [
              "Company        0\n",
              "TypeName       0\n",
              "Ram            0\n",
              "Weight         0\n",
              "Price          0\n",
              "TouchScreen    0\n",
              "Ips            0\n",
              "Ppi            0\n",
              "Cpu_brand      0\n",
              "HDD            0\n",
              "SSD            0\n",
              "Gpu_brand      0\n",
              "Os             0\n",
              "dtype: int64"
            ]
          },
          "metadata": {},
          "execution_count": 252
        }
      ]
    },
    {
      "cell_type": "markdown",
      "source": [
        "Mengecek Outliers pada Data Customer"
      ],
      "metadata": {
        "id": "iQrIysMJkGFx"
      }
    },
    {
      "cell_type": "code",
      "source": [
        "# Identifikasi outlier dengan boxplot atau metode lainnya\n",
        "# untuk Income:\n",
        "data_customer.boxplot(column=['Income'])\n",
        "Q1 = data_customer['Income'].quantile(0.25)\n",
        "Q3 = data_customer['Income'].quantile(0.75)\n",
        "IQR = Q3 - Q1\n",
        "lower_bound = Q1 - 1.5 * IQR\n",
        "upper_bound = Q3 + 1.5 * IQR\n",
        "# Count outliers\n",
        "outliers_count = data_customer[(data_customer['Income'] < lower_bound) | (data_customer['Income'] > upper_bound)].shape[0]\n",
        "print(\"Jumlah nilai Income outlier:\", outliers_count)"
      ],
      "metadata": {
        "colab": {
          "base_uri": "https://localhost:8080/",
          "height": 447
        },
        "id": "8LWqlpBZvGwE",
        "outputId": "30d7c443-6b96-4193-c209-01e4bb7fd84c"
      },
      "execution_count": null,
      "outputs": [
        {
          "output_type": "stream",
          "name": "stdout",
          "text": [
            "Jumlah nilai Income outlier: 8\n"
          ]
        },
        {
          "output_type": "display_data",
          "data": {
            "text/plain": [
              "<Figure size 640x480 with 1 Axes>"
            ],
            "image/png": "[encoded data removed]"
          },
          "metadata": {}
        }
      ]
    },
    {
      "cell_type": "code",
      "source": [
        "data_customer.boxplot(column=['Recency'])\n",
        "Q1 = data_customer['Recency'].quantile(0.25)\n",
        "Q3 = data_customer['Recency'].quantile(0.75)\n",
        "IQR = Q3 - Q1\n",
        "lower_bound = Q1 - 1.5 * IQR\n",
        "upper_bound = Q3 + 1.5 * IQR\n",
        "# Count outliers\n",
        "outliers_count = data_customer[(data_customer['Recency'] < lower_bound) | (data_customer['Recency'] > upper_bound)].shape[0]\n",
        "print(\"Jumlah nilai Recency outlier:\", outliers_count)"
      ],
      "metadata": {
        "colab": {
          "base_uri": "https://localhost:8080/",
          "height": 447
        },
        "id": "E6z9rm04v51n",
        "outputId": "7258a1b9-cf97-4301-ba3d-d3718e8c9a6b"
      },
      "execution_count": null,
      "outputs": [
        {
          "output_type": "stream",
          "name": "stdout",
          "text": [
            "Jumlah nilai Recency outlier: 0\n"
          ]
        },
        {
          "output_type": "display_data",
          "data": {
            "text/plain": [
              "<Figure size 640x480 with 1 Axes>"
            ],
            "image/png": "[encoded data removed]"
          },
          "metadata": {}
        }
      ]
    },
    {
      "cell_type": "code",
      "source": [
        "data_customer.boxplot(column=['NumWebPurchases'])\n",
        "Q1 = data_customer['NumWebPurchases'].quantile(0.25)\n",
        "Q3 = data_customer['NumWebPurchases'].quantile(0.75)\n",
        "IQR = Q3 - Q1\n",
        "lower_bound = Q1 - 1.5 * IQR\n",
        "upper_bound = Q3 + 1.5 * IQR\n",
        "# Count outliers\n",
        "outliers_count = data_customer[(data_customer['NumWebPurchases'] < lower_bound) | (data_customer['NumWebPurchases'] > upper_bound)].shape[0]\n",
        "print(\"Jumlah nilai NumWebPurchases outlier:\", outliers_count)"
      ],
      "metadata": {
        "colab": {
          "base_uri": "https://localhost:8080/",
          "height": 447
        },
        "id": "oJhhZbgxvvCs",
        "outputId": "bd7abeaa-d76c-413c-c10b-b87565298353"
      },
      "execution_count": null,
      "outputs": [
        {
          "output_type": "stream",
          "name": "stdout",
          "text": [
            "Jumlah nilai NumWebPurchases outlier: 4\n"
          ]
        },
        {
          "output_type": "display_data",
          "data": {
            "text/plain": [
              "<Figure size 640x480 with 1 Axes>"
            ],
            "image/png": "[encoded data removed]"
          },
          "metadata": {}
        }
      ]
    },
    {
      "cell_type": "code",
      "source": [
        "data_customer.boxplot(column=['Age'])\n",
        "Q1 = data_customer['Age'].quantile(0.25)\n",
        "Q3 = data_customer['Age'].quantile(0.75)\n",
        "IQR = Q3 - Q1\n",
        "lower_bound = Q1 - 1.5 * IQR\n",
        "upper_bound = Q3 + 1.5 * IQR\n",
        "# Count outliers\n",
        "outliers_count = data_customer[(data_customer['Age'] < lower_bound) | (data_customer['Age'] > upper_bound)].shape[0]\n",
        "print(\"Jumlah nilai Age outlier:\", outliers_count)"
      ],
      "metadata": {
        "id": "6ZwcIMZdwsiA",
        "colab": {
          "base_uri": "https://localhost:8080/",
          "height": 447
        },
        "outputId": "a21a2223-6a58-4ca4-85ec-dd354be81115"
      },
      "execution_count": null,
      "outputs": [
        {
          "output_type": "stream",
          "name": "stdout",
          "text": [
            "Jumlah nilai Age outlier: 3\n"
          ]
        },
        {
          "output_type": "display_data",
          "data": {
            "text/plain": [
              "<Figure size 640x480 with 1 Axes>"
            ],
            "image/png": "[encoded data removed]"
          },
          "metadata": {}
        }
      ]
    },
    {
      "cell_type": "code",
      "source": [
        "data_customer.boxplot(column=['NumStorePurchases'])\n",
        "Q1 = data_customer['NumStorePurchases'].quantile(0.25)\n",
        "Q3 = data_customer['NumStorePurchases'].quantile(0.75)\n",
        "IQR = Q3 - Q1\n",
        "lower_bound = Q1 - 1.5 * IQR\n",
        "upper_bound = Q3 + 1.5 * IQR\n",
        "# Count outliers\n",
        "outliers_count = data_customer[(data_customer['NumStorePurchases'] < lower_bound) | (data_customer['NumStorePurchases'] > upper_bound)].shape[0]\n",
        "print(\"Jumlah nilai NumStorePurchases outlier:\", outliers_count)"
      ],
      "metadata": {
        "colab": {
          "base_uri": "https://localhost:8080/",
          "height": 447
        },
        "id": "j1xJigiRvv57",
        "outputId": "325366db-3ba4-4e00-8977-bbab5997ed82"
      },
      "execution_count": null,
      "outputs": [
        {
          "output_type": "stream",
          "name": "stdout",
          "text": [
            "Jumlah nilai NumStorePurchases outlier: 0\n"
          ]
        },
        {
          "output_type": "display_data",
          "data": {
            "text/plain": [
              "<Figure size 640x480 with 1 Axes>"
            ],
            "image/png": "[encoded data removed]"
          },
          "metadata": {}
        }
      ]
    },
    {
      "cell_type": "code",
      "source": [
        "data_customer.boxplot(column=['NumWebVisitsMonth'])\n",
        "Q1 = data_customer['NumWebVisitsMonth'].quantile(0.25)\n",
        "Q3 = data_customer['NumWebVisitsMonth'].quantile(0.75)\n",
        "IQR = Q3 - Q1\n",
        "lower_bound = Q1 - 1.5 * IQR\n",
        "upper_bound = Q3 + 1.5 * IQR\n",
        "# Count outliers\n",
        "outliers_count = data_customer[(data_customer['NumWebVisitsMonth'] < lower_bound) | (data_customer['NumWebVisitsMonth'] > upper_bound)].shape[0]\n",
        "print(\"Jumlah nilai NumWebVisitsMonth outlier:\", outliers_count)"
      ],
      "metadata": {
        "colab": {
          "base_uri": "https://localhost:8080/",
          "height": 447
        },
        "id": "zxUs9_KEv1U-",
        "outputId": "e8c7da96-1e15-466a-fbcf-2dddfc1fe65d"
      },
      "execution_count": null,
      "outputs": [
        {
          "output_type": "stream",
          "name": "stdout",
          "text": [
            "Jumlah nilai NumWebVisitsMonth outlier: 8\n"
          ]
        },
        {
          "output_type": "display_data",
          "data": {
            "text/plain": [
              "<Figure size 640x480 with 1 Axes>"
            ],
            "image/png": "[encoded data removed]"
          },
          "metadata": {}
        }
      ]
    },
    {
      "cell_type": "markdown",
      "source": [
        "Mengecek Outlier pada Data Laptop"
      ],
      "metadata": {
        "id": "pTnLkNbDjv5j"
      }
    },
    {
      "cell_type": "code",
      "source": [
        "# Identifikasi outlier dengan boxplot atau metode lainnya\n",
        "# untuk Price:\n",
        "data_laptop.boxplot(column=['Price'])\n",
        "Q1 = data_laptop['Price'].quantile(0.25)\n",
        "Q3 = data_laptop['Price'].quantile(0.75)\n",
        "IQR = Q3 - Q1\n",
        "lower_bound = Q1 - 1.5 * IQR\n",
        "upper_bound = Q3 + 1.5 * IQR\n",
        "# Count outliers\n",
        "outliers_count = data_laptop[(data_laptop['Price'] < lower_bound) | (data_laptop['Price'] > upper_bound)].shape[0]\n",
        "print(\"Jumlah nilai Price outlier:\", outliers_count)\n"
      ],
      "metadata": {
        "id": "KGaRR1YUxJKE",
        "colab": {
          "base_uri": "https://localhost:8080/",
          "height": 447
        },
        "outputId": "81a96fcc-9590-49d9-e0db-dd749cc6139a"
      },
      "execution_count": null,
      "outputs": [
        {
          "output_type": "stream",
          "name": "stdout",
          "text": [
            "Jumlah nilai Price outlier: 1\n"
          ]
        },
        {
          "output_type": "display_data",
          "data": {
            "text/plain": [
              "<Figure size 640x480 with 1 Axes>"
            ],
            "image/png": "[encoded data removed]"
          },
          "metadata": {}
        }
      ]
    },
    {
      "cell_type": "code",
      "source": [
        "##Handling Outlier pada Data Laptop kolom Price\n",
        "#Karena jumlah outlier hanya satu sehingga saya memutuskan untuk drop baris outlier tersebut karena tidak terlalu berpengaruh pada data\n",
        "data_laptop = data_laptop[(data_laptop['Price'] >= lower_bound) & (data_laptop['Price'] <= upper_bound)]"
      ],
      "metadata": {
        "id": "IhjlcUMPj3nl"
      },
      "execution_count": null,
      "outputs": []
    },
    {
      "cell_type": "code",
      "source": [
        "#cek Outlier setelah handling\n",
        "# untuk Price:\n",
        "data_laptop.boxplot(column=['Price'])\n",
        "Q1 = data_laptop['Price'].quantile(0.25)\n",
        "Q3 = data_laptop['Price'].quantile(0.75)\n",
        "IQR = Q3 - Q1\n",
        "lower_bound = Q1 - 1.5 * IQR\n",
        "upper_bound = Q3 + 1.5 * IQR\n",
        "# Count outliers\n",
        "outliers_count = data_laptop[(data_laptop['Price'] < lower_bound) | (data_laptop['Price'] > upper_bound)].shape[0]\n",
        "print(\"Jumlah nilai Price outlier:\", outliers_count)"
      ],
      "metadata": {
        "colab": {
          "base_uri": "https://localhost:8080/",
          "height": 447
        },
        "id": "aNj9Jxya4EJE",
        "outputId": "464a6c29-fb16-4253-8829-ecac47bc7aab"
      },
      "execution_count": null,
      "outputs": [
        {
          "output_type": "stream",
          "name": "stdout",
          "text": [
            "Jumlah nilai Price outlier: 0\n"
          ]
        },
        {
          "output_type": "display_data",
          "data": {
            "text/plain": [
              "<Figure size 640x480 with 1 Axes>"
            ],
            "image/png": "[encoded data removed]"
          },
          "metadata": {}
        }
      ]
    },
    {
      "cell_type": "code",
      "source": [
        "data_laptop.info()"
      ],
      "metadata": {
        "colab": {
          "base_uri": "https://localhost:8080/"
        },
        "id": "mzyV0quM1lSC",
        "outputId": "0c403acb-c6a6-4960-a7bb-ce921734fe6d"
      },
      "execution_count": null,
      "outputs": [
        {
          "output_type": "stream",
          "name": "stdout",
          "text": [
            "<class 'pandas.core.frame.DataFrame'>\n",
            "Index: 1271 entries, 0 to 1272\n",
            "Data columns (total 13 columns):\n",
            " #   Column       Non-Null Count  Dtype  \n",
            "---  ------       --------------  -----  \n",
            " 0   Company      1271 non-null   object \n",
            " 1   TypeName     1271 non-null   object \n",
            " 2   Ram          1271 non-null   int64  \n",
            " 3   Weight       1271 non-null   float64\n",
            " 4   Price        1271 non-null   float64\n",
            " 5   TouchScreen  1271 non-null   int64  \n",
            " 6   Ips          1271 non-null   int64  \n",
            " 7   Ppi          1271 non-null   float64\n",
            " 8   Cpu_brand    1271 non-null   object \n",
            " 9   HDD          1271 non-null   int64  \n",
            " 10  SSD          1271 non-null   int64  \n",
            " 11  Gpu_brand    1271 non-null   object \n",
            " 12  Os           1271 non-null   object \n",
            "dtypes: float64(3), int64(5), object(5)\n",
            "memory usage: 139.0+ KB\n"
          ]
        }
      ]
    },
    {
      "cell_type": "code",
      "source": [
        "data_customer.info()"
      ],
      "metadata": {
        "colab": {
          "base_uri": "https://localhost:8080/"
        },
        "id": "th2lkpdzHQ0y",
        "outputId": "7253cc22-7a22-4eaf-a97e-a00908f362ec"
      },
      "execution_count": null,
      "outputs": [
        {
          "output_type": "stream",
          "name": "stdout",
          "text": [
            "<class 'pandas.core.frame.DataFrame'>\n",
            "RangeIndex: 2240 entries, 0 to 2239\n",
            "Data columns (total 9 columns):\n",
            " #   Column                    Non-Null Count  Dtype  \n",
            "---  ------                    --------------  -----  \n",
            " 0   ID                        2240 non-null   int64  \n",
            " 1   Age                       2240 non-null   int64  \n",
            " 2   Education                 2240 non-null   object \n",
            " 3   Income                    2240 non-null   float64\n",
            " 4   Years_Since_Registration  2240 non-null   int32  \n",
            " 5   Recency                   2240 non-null   int64  \n",
            " 6   NumWebPurchases           2240 non-null   int64  \n",
            " 7   NumStorePurchases         2240 non-null   int64  \n",
            " 8   NumWebVisitsMonth         2240 non-null   int64  \n",
            "dtypes: float64(1), int32(1), int64(6), object(1)\n",
            "memory usage: 148.9+ KB\n"
          ]
        }
      ]
    },
    {
      "cell_type": "markdown",
      "source": [
        "No. 1"
      ],
      "metadata": {
        "id": "808vby8wxJyY"
      }
    },
    {
      "cell_type": "markdown",
      "source": [
        "Clustering Data"
      ],
      "metadata": {
        "id": "iE9ilodflI_J"
      }
    },
    {
      "cell_type": "code",
      "source": [
        "# Memilih fitur untuk clustering\n",
        "features = ['Age', 'Education', 'Income', 'Years_Since_Registration', 'Recency', 'NumWebPurchases', 'NumStorePurchases', 'NumWebVisitsMonth']\n",
        "X = data_customer[features]\n"
      ],
      "metadata": {
        "id": "rzKtPwOi0K6G"
      },
      "execution_count": null,
      "outputs": []
    },
    {
      "cell_type": "code",
      "source": [
        "#Preparation\n",
        "#mengubah fitur kategorik (Education) menjadi matriks one-hot\n",
        "encoder = OneHotEncoder()\n",
        "encoder.fit(X.select_dtypes(include=\"object\"))\n",
        "X_onehot = pd.DataFrame(encoder.transform(X.select_dtypes(include=\"object\")).toarray(),columns=encoder.get_feature_names_out())\n",
        "\n",
        "X_preprocessed = pd.concat([X.select_dtypes(exclude=\"object\"), X_onehot],axis=1)\n",
        "\n",
        "# Standarisasi fitur\n",
        "scaler = StandardScaler()\n",
        "scaler.fit(X_preprocessed)\n",
        "X_scaled = pd.DataFrame(scaler.transform(X_preprocessed),columns=X_preprocessed.columns)\n",
        "\n",
        "X_scaled.head()"
      ],
      "metadata": {
        "id": "kBSezaOYvFky",
        "colab": {
          "base_uri": "https://localhost:8080/",
          "height": 226
        },
        "outputId": "d8f15d9d-090a-4cbc-d8d7-89659d5dc2ef"
      },
      "execution_count": null,
      "outputs": [
        {
          "output_type": "execute_result",
          "data": {
            "text/plain": [
              "        Age    Income  Years_Since_Registration   Recency  NumWebPurchases  \\\n",
              "0  0.985345  0.235822                  1.502225  0.307039         1.409304   \n",
              "1  1.235733 -0.235307                 -1.420036 -0.383664        -1.110409   \n",
              "2  0.317643  0.774101                  0.041094 -0.798086         1.409304   \n",
              "3 -1.268149 -1.022173                 -1.420036 -0.798086        -0.750450   \n",
              "4 -1.017761  0.242014                 -1.420036  1.550305         0.329427   \n",
              "\n",
              "   NumStorePurchases  NumWebVisitsMonth  Education_Graduation  \\\n",
              "0          -0.550785           0.693904              0.946941   \n",
              "1          -1.166125          -0.130463              0.946941   \n",
              "2           1.295237          -0.542647              0.946941   \n",
              "3          -0.550785           0.281720              0.946941   \n",
              "4           0.064556          -0.130463             -1.056032   \n",
              "\n",
              "   Education_Master  Education_PhD  \n",
              "0         -0.586286      -0.526385  \n",
              "1         -0.586286      -0.526385  \n",
              "2         -0.586286      -0.526385  \n",
              "3         -0.586286      -0.526385  \n",
              "4         -0.586286       1.899751  "
            ],
            "text/html": [
              "\n",
              "  <div id=\"df-9128d75b-55ce-45bc-9355-4d493918636c\" class=\"colab-df-container\">\n",
              "    <div>\n",
              "<style scoped>\n",
              "    .dataframe tbody tr th:only-of-type {\n",
              "        vertical-align: middle;\n",
              "    }\n",
              "\n",
              "    .dataframe tbody tr th {\n",
              "        vertical-align: top;\n",
              "    }\n",
              "\n",
              "    .dataframe thead th {\n",
              "        text-align: right;\n",
              "    }\n",
              "</style>\n",
              "<table border=\"1\" class=\"dataframe\">\n",
              "  <thead>\n",
              "    <tr style=\"text-align: right;\">\n",
              "      <th></th>\n",
              "      <th>Age</th>\n",
              "      <th>Income</th>\n",
              "      <th>Years_Since_Registration</th>\n",
              "      <th>Recency</th>\n",
              "      <th>NumWebPurchases</th>\n",
              "      <th>NumStorePurchases</th>\n",
              "      <th>NumWebVisitsMonth</th>\n",
              "      <th>Education_Graduation</th>\n",
              "      <th>Education_Master</th>\n",
              "      <th>Education_PhD</th>\n",
              "    </tr>\n",
              "  </thead>\n",
              "  <tbody>\n",
              "    <tr>\n",
              "      <th>0</th>\n",
              "      <td>0.985345</td>\n",
              "      <td>0.235822</td>\n",
              "      <td>1.502225</td>\n",
              "      <td>0.307039</td>\n",
              "      <td>1.409304</td>\n",
              "      <td>-0.550785</td>\n",
              "      <td>0.693904</td>\n",
              "      <td>0.946941</td>\n",
              "      <td>-0.586286</td>\n",
              "      <td>-0.526385</td>\n",
              "    </tr>\n",
              "    <tr>\n",
              "      <th>1</th>\n",
              "      <td>1.235733</td>\n",
              "      <td>-0.235307</td>\n",
              "      <td>-1.420036</td>\n",
              "      <td>-0.383664</td>\n",
              "      <td>-1.110409</td>\n",
              "      <td>-1.166125</td>\n",
              "      <td>-0.130463</td>\n",
              "      <td>0.946941</td>\n",
              "      <td>-0.586286</td>\n",
              "      <td>-0.526385</td>\n",
              "    </tr>\n",
              "    <tr>\n",
              "      <th>2</th>\n",
              "      <td>0.317643</td>\n",
              "      <td>0.774101</td>\n",
              "      <td>0.041094</td>\n",
              "      <td>-0.798086</td>\n",
              "      <td>1.409304</td>\n",
              "      <td>1.295237</td>\n",
              "      <td>-0.542647</td>\n",
              "      <td>0.946941</td>\n",
              "      <td>-0.586286</td>\n",
              "      <td>-0.526385</td>\n",
              "    </tr>\n",
              "    <tr>\n",
              "      <th>3</th>\n",
              "      <td>-1.268149</td>\n",
              "      <td>-1.022173</td>\n",
              "      <td>-1.420036</td>\n",
              "      <td>-0.798086</td>\n",
              "      <td>-0.750450</td>\n",
              "      <td>-0.550785</td>\n",
              "      <td>0.281720</td>\n",
              "      <td>0.946941</td>\n",
              "      <td>-0.586286</td>\n",
              "      <td>-0.526385</td>\n",
              "    </tr>\n",
              "    <tr>\n",
              "      <th>4</th>\n",
              "      <td>-1.017761</td>\n",
              "      <td>0.242014</td>\n",
              "      <td>-1.420036</td>\n",
              "      <td>1.550305</td>\n",
              "      <td>0.329427</td>\n",
              "      <td>0.064556</td>\n",
              "      <td>-0.130463</td>\n",
              "      <td>-1.056032</td>\n",
              "      <td>-0.586286</td>\n",
              "      <td>1.899751</td>\n",
              "    </tr>\n",
              "  </tbody>\n",
              "</table>\n",
              "</div>\n",
              "    <div class=\"colab-df-buttons\">\n",
              "\n",
              "  <div class=\"colab-df-container\">\n",
              "    <button class=\"colab-df-convert\" onclick=\"convertToInteractive('df-9128d75b-55ce-45bc-9355-4d493918636c')\"\n",
              "            title=\"Convert this dataframe to an interactive table.\"\n",
              "            style=\"display:none;\">\n",
              "\n",
              "  <svg xmlns=\"http://www.w3.org/2000/svg\" height=\"24px\" viewBox=\"0 -960 960 960\">\n",
              "    <path d=\"M120-120v-720h720v720H120Zm60-500h600v-160H180v160Zm220 220h160v-160H400v160Zm0 220h160v-160H400v160ZM180-400h160v-160H180v160Zm440 0h160v-160H620v160ZM180-180h160v-160H180v160Zm440 0h160v-160H620v160Z\"/>\n",
              "  </svg>\n",
              "    </button>\n",
              "\n",
              "  <style>\n",
              "    .colab-df-container {\n",
              "      display:flex;\n",
              "      gap: 12px;\n",
              "    }\n",
              "\n",
              "    .colab-df-convert {\n",
              "      background-color: #E8F0FE;\n",
              "      border: none;\n",
              "      border-radius: 50%;\n",
              "      cursor: pointer;\n",
              "      display: none;\n",
              "      fill: #1967D2;\n",
              "      height: 32px;\n",
              "      padding: 0 0 0 0;\n",
              "      width: 32px;\n",
              "    }\n",
              "\n",
              "    .colab-df-convert:hover {\n",
              "      background-color: #E2EBFA;\n",
              "      box-shadow: 0px 1px 2px rgba(60, 64, 67, 0.3), 0px 1px 3px 1px rgba(60, 64, 67, 0.15);\n",
              "      fill: #174EA6;\n",
              "    }\n",
              "\n",
              "    .colab-df-buttons div {\n",
              "      margin-bottom: 4px;\n",
              "    }\n",
              "\n",
              "    [theme=dark] .colab-df-convert {\n",
              "      background-color: #3B4455;\n",
              "      fill: #D2E3FC;\n",
              "    }\n",
              "\n",
              "    [theme=dark] .colab-df-convert:hover {\n",
              "      background-color: #434B5C;\n",
              "      box-shadow: 0px 1px 3px 1px rgba(0, 0, 0, 0.15);\n",
              "      filter: drop-shadow(0px 1px 2px rgba(0, 0, 0, 0.3));\n",
              "      fill: #FFFFFF;\n",
              "    }\n",
              "  </style>\n",
              "\n",
              "    <script>\n",
              "      const buttonEl =\n",
              "        document.querySelector('#df-9128d75b-55ce-45bc-9355-4d493918636c button.colab-df-convert');\n",
              "      buttonEl.style.display =\n",
              "        google.colab.kernel.accessAllowed ? 'block' : 'none';\n",
              "\n",
              "      async function convertToInteractive(key) {\n",
              "        const element = document.querySelector('#df-9128d75b-55ce-45bc-9355-4d493918636c');\n",
              "        const dataTable =\n",
              "          await google.colab.kernel.invokeFunction('convertToInteractive',\n",
              "                                                    [key], {});\n",
              "        if (!dataTable) return;\n",
              "\n",
              "        const docLinkHtml = 'Like what you see? Visit the ' +\n",
              "          '<a target=\"_blank\" href=https://colab.research.google.com/notebooks/data_table.ipynb>data table notebook</a>'\n",
              "          + ' to learn more about interactive tables.';\n",
              "        element.innerHTML = '';\n",
              "        dataTable['output_type'] = 'display_data';\n",
              "        await google.colab.output.renderOutput(dataTable, element);\n",
              "        const docLink = document.createElement('div');\n",
              "        docLink.innerHTML = docLinkHtml;\n",
              "        element.appendChild(docLink);\n",
              "      }\n",
              "    </script>\n",
              "  </div>\n",
              "\n",
              "\n",
              "<div id=\"df-4640a0b3-a15e-499b-ab45-27843fe1c3ba\">\n",
              "  <button class=\"colab-df-quickchart\" onclick=\"quickchart('df-4640a0b3-a15e-499b-ab45-27843fe1c3ba')\"\n",
              "            title=\"Suggest charts\"\n",
              "            style=\"display:none;\">\n",
              "\n",
              "<svg xmlns=\"http://www.w3.org/2000/svg\" height=\"24px\"viewBox=\"0 0 24 24\"\n",
              "     width=\"24px\">\n",
              "    <g>\n",
              "        <path d=\"M19 3H5c-1.1 0-2 .9-2 2v14c0 1.1.9 2 2 2h14c1.1 0 2-.9 2-2V5c0-1.1-.9-2-2-2zM9 17H7v-7h2v7zm4 0h-2V7h2v10zm4 0h-2v-4h2v4z\"/>\n",
              "    </g>\n",
              "</svg>\n",
              "  </button>\n",
              "\n",
              "<style>\n",
              "  .colab-df-quickchart {\n",
              "      --bg-color: #E8F0FE;\n",
              "      --fill-color: #1967D2;\n",
              "      --hover-bg-color: #E2EBFA;\n",
              "      --hover-fill-color: #174EA6;\n",
              "      --disabled-fill-color: #AAA;\n",
              "      --disabled-bg-color: #DDD;\n",
              "  }\n",
              "\n",
              "  [theme=dark] .colab-df-quickchart {\n",
              "      --bg-color: #3B4455;\n",
              "      --fill-color: #D2E3FC;\n",
              "      --hover-bg-color: #434B5C;\n",
              "      --hover-fill-color: #FFFFFF;\n",
              "      --disabled-bg-color: #3B4455;\n",
              "      --disabled-fill-color: #666;\n",
              "  }\n",
              "\n",
              "  .colab-df-quickchart {\n",
              "    background-color: var(--bg-color);\n",
              "    border: none;\n",
              "    border-radius: 50%;\n",
              "    cursor: pointer;\n",
              "    display: none;\n",
              "    fill: var(--fill-color);\n",
              "    height: 32px;\n",
              "    padding: 0;\n",
              "    width: 32px;\n",
              "  }\n",
              "\n",
              "  .colab-df-quickchart:hover {\n",
              "    background-color: var(--hover-bg-color);\n",
              "    box-shadow: 0 1px 2px rgba(60, 64, 67, 0.3), 0 1px 3px 1px rgba(60, 64, 67, 0.15);\n",
              "    fill: var(--button-hover-fill-color);\n",
              "  }\n",
              "\n",
              "  .colab-df-quickchart-complete:disabled,\n",
              "  .colab-df-quickchart-complete:disabled:hover {\n",
              "    background-color: var(--disabled-bg-color);\n",
              "    fill: var(--disabled-fill-color);\n",
              "    box-shadow: none;\n",
              "  }\n",
              "\n",
              "  .colab-df-spinner {\n",
              "    border: 2px solid var(--fill-color);\n",
              "    border-color: transparent;\n",
              "    border-bottom-color: var(--fill-color);\n",
              "    animation:\n",
              "      spin 1s steps(1) infinite;\n",
              "  }\n",
              "\n",
              "  @keyframes spin {\n",
              "    0% {\n",
              "      border-color: transparent;\n",
              "      border-bottom-color: var(--fill-color);\n",
              "      border-left-color: var(--fill-color);\n",
              "    }\n",
              "    20% {\n",
              "      border-color: transparent;\n",
              "      border-left-color: var(--fill-color);\n",
              "      border-top-color: var(--fill-color);\n",
              "    }\n",
              "    30% {\n",
              "      border-color: transparent;\n",
              "      border-left-color: var(--fill-color);\n",
              "      border-top-color: var(--fill-color);\n",
              "      border-right-color: var(--fill-color);\n",
              "    }\n",
              "    40% {\n",
              "      border-color: transparent;\n",
              "      border-right-color: var(--fill-color);\n",
              "      border-top-color: var(--fill-color);\n",
              "    }\n",
              "    60% {\n",
              "      border-color: transparent;\n",
              "      border-right-color: var(--fill-color);\n",
              "    }\n",
              "    80% {\n",
              "      border-color: transparent;\n",
              "      border-right-color: var(--fill-color);\n",
              "      border-bottom-color: var(--fill-color);\n",
              "    }\n",
              "    90% {\n",
              "      border-color: transparent;\n",
              "      border-bottom-color: var(--fill-color);\n",
              "    }\n",
              "  }\n",
              "</style>\n",
              "\n",
              "  <script>\n",
              "    async function quickchart(key) {\n",
              "      const quickchartButtonEl =\n",
              "        document.querySelector('#' + key + ' button');\n",
              "      quickchartButtonEl.disabled = true;  // To prevent multiple clicks.\n",
              "      quickchartButtonEl.classList.add('colab-df-spinner');\n",
              "      try {\n",
              "        const charts = await google.colab.kernel.invokeFunction(\n",
              "            'suggestCharts', [key], {});\n",
              "      } catch (error) {\n",
              "        console.error('Error during call to suggestCharts:', error);\n",
              "      }\n",
              "      quickchartButtonEl.classList.remove('colab-df-spinner');\n",
              "      quickchartButtonEl.classList.add('colab-df-quickchart-complete');\n",
              "    }\n",
              "    (() => {\n",
              "      let quickchartButtonEl =\n",
              "        document.querySelector('#df-4640a0b3-a15e-499b-ab45-27843fe1c3ba button');\n",
              "      quickchartButtonEl.style.display =\n",
              "        google.colab.kernel.accessAllowed ? 'block' : 'none';\n",
              "    })();\n",
              "  </script>\n",
              "</div>\n",
              "    </div>\n",
              "  </div>\n"
            ],
            "application/vnd.google.colaboratory.intrinsic+json": {
              "type": "dataframe",
              "variable_name": "X_scaled",
              "summary": "{\n  \"name\": \"X_scaled\",\n  \"rows\": 2240,\n  \"fields\": [\n    {\n      \"column\": \"Age\",\n      \"properties\": {\n        \"dtype\": \"number\",\n        \"std\": 1.000223289050455,\n        \"min\": -2.2697021819446377,\n        \"max\": 6.326960174096842,\n        \"num_unique_values\": 59,\n        \"samples\": [\n          0.9853447295662141,\n          0.15071731635830335,\n          1.1522702122077961\n        ],\n        \"semantic_type\": \"\",\n        \"description\": \"\"\n      }\n    },\n    {\n      \"column\": \"Income\",\n      \"properties\": {\n        \"dtype\": \"number\",\n        \"std\": 1.000223289050455,\n        \"min\": -2.017479519163199,\n        \"max\": 24.54437693536752,\n        \"num_unique_values\": 1975,\n        \"samples\": [\n          0.03672856449866918,\n          0.43847037177518217,\n          0.27468978016399564\n        ],\n        \"semantic_type\": \"\",\n        \"description\": \"\"\n      }\n    },\n    {\n      \"column\": \"Years_Since_Registration\",\n      \"properties\": {\n        \"dtype\": \"number\",\n        \"std\": 1.000223289050455,\n        \"min\": -1.4200363387067347,\n        \"max\": 1.502224937088473,\n        \"num_unique_values\": 3,\n        \"samples\": [\n          1.502224937088473,\n          -1.4200363387067347,\n          0.04109429919086907\n        ],\n        \"semantic_type\": \"\",\n        \"description\": \"\"\n      }\n    },\n    {\n      \"column\": \"Recency\",\n      \"properties\": {\n        \"dtype\": \"number\",\n        \"std\": 1.000223289050455,\n        \"min\": -1.696000712049594,\n        \"max\": 1.7229813151684228,\n        \"num_unique_values\": 100,\n        \"samples\": [\n          0.9977427033342982,\n          1.3085592512632087,\n          0.5487854674369828\n        ],\n        \"semantic_type\": \"\",\n        \"description\": \"\"\n      }\n    },\n    {\n      \"column\": \"NumWebPurchases\",\n      \"properties\": {\n        \"dtype\": \"number\",\n        \"std\": 1.000223289050455,\n        \"min\": -1.4703684178201437,\n        \"max\": 8.248525779968084,\n        \"num_unique_values\": 15,\n        \"samples\": [\n          -1.4703684178201437,\n          2.129222025805126,\n          1.409303937080072\n        ],\n        \"semantic_type\": \"\",\n        \"description\": \"\"\n      }\n    },\n    {\n      \"column\": \"NumStorePurchases\",\n      \"properties\": {\n        \"dtype\": \"number\",\n        \"std\": 1.0002232890504552,\n        \"min\": -1.7814660156759023,\n        \"max\": 2.2182479686326775,\n        \"num_unique_values\": 14,\n        \"samples\": [\n          1.910577662147402,\n          2.2182479686326775,\n          -0.5507847897348009\n        ],\n        \"semantic_type\": \"\",\n        \"description\": \"\"\n      }\n    },\n    {\n      \"column\": \"NumWebVisitsMonth\",\n      \"properties\": {\n        \"dtype\": \"number\",\n        \"std\": 1.000223289050455,\n        \"min\": -2.191381498507264,\n        \"max\": 6.052290609404856,\n        \"num_unique_values\": 16,\n        \"samples\": [\n          0.6939037392619777,\n          -0.13046347152923427,\n          1.5182709500531897\n        ],\n        \"semantic_type\": \"\",\n        \"description\": \"\"\n      }\n    },\n    {\n      \"column\": \"Education_Graduation\",\n      \"properties\": {\n        \"dtype\": \"number\",\n        \"std\": 1.0002232890504552,\n        \"min\": -1.0560317332914777,\n        \"max\": 0.9469412409446868,\n        \"num_unique_values\": 2,\n        \"samples\": [\n          -1.0560317332914777,\n          0.9469412409446868\n        ],\n        \"semantic_type\": \"\",\n        \"description\": \"\"\n      }\n    },\n    {\n      \"column\": \"Education_Master\",\n      \"properties\": {\n        \"dtype\": \"number\",\n        \"std\": 1.000223289050455,\n        \"min\": -0.5862859829036082,\n        \"max\": 1.7056522399656457,\n        \"num_unique_values\": 2,\n        \"samples\": [\n          1.7056522399656457,\n          -0.5862859829036082\n        ],\n        \"semantic_type\": \"\",\n        \"description\": \"\"\n      }\n    },\n    {\n      \"column\": \"Education_PhD\",\n      \"properties\": {\n        \"dtype\": \"number\",\n        \"std\": 1.000223289050455,\n        \"min\": -0.5263848001326771,\n        \"max\": 1.8997509041825422,\n        \"num_unique_values\": 2,\n        \"samples\": [\n          1.8997509041825422,\n          -0.5263848001326771\n        ],\n        \"semantic_type\": \"\",\n        \"description\": \"\"\n      }\n    }\n  ]\n}"
            }
          },
          "metadata": {},
          "execution_count": 265
        }
      ]
    },
    {
      "cell_type": "code",
      "source": [
        "##Metode Elbow untuk menentukan jumlah cluster optimal\n",
        "# sum of squared distances\n",
        "ssd = []\n",
        "\n",
        "# may take a longer time to run (takes up to approximately 6 min)\n",
        "for k in range(1, 20):\n",
        "    model = KMeans(n_clusters=k, random_state=11)\n",
        "    print(f\"Clustering with n_clusters={k}\")\n",
        "    start = time()\n",
        "    model.fit(X_scaled)\n",
        "    print(f\"Done clustering in {time()-start:.3f}s\")\n",
        "\n",
        "    ssd.append(model.inertia_)"
      ],
      "metadata": {
        "colab": {
          "base_uri": "https://localhost:8080/"
        },
        "id": "xbn8ycgW1U-M",
        "outputId": "886b8222-ae67-4e67-e125-51e6bbc91ce1"
      },
      "execution_count": null,
      "outputs": [
        {
          "output_type": "stream",
          "name": "stdout",
          "text": [
            "Clustering with n_clusters=1\n"
          ]
        },
        {
          "output_type": "stream",
          "name": "stderr",
          "text": [
            "/usr/local/lib/python3.10/dist-packages/sklearn/cluster/_kmeans.py:870: FutureWarning: The default value of `n_init` will change from 10 to 'auto' in 1.4. Set the value of `n_init` explicitly to suppress the warning\n",
            "  warnings.warn(\n"
          ]
        },
        {
          "output_type": "stream",
          "name": "stdout",
          "text": [
            "Done clustering in 0.591s\n",
            "Clustering with n_clusters=2\n",
            "Done clustering in 0.161s\n",
            "Clustering with n_clusters=3\n"
          ]
        },
        {
          "output_type": "stream",
          "name": "stderr",
          "text": [
            "/usr/local/lib/python3.10/dist-packages/sklearn/cluster/_kmeans.py:870: FutureWarning: The default value of `n_init` will change from 10 to 'auto' in 1.4. Set the value of `n_init` explicitly to suppress the warning\n",
            "  warnings.warn(\n",
            "/usr/local/lib/python3.10/dist-packages/sklearn/cluster/_kmeans.py:870: FutureWarning: The default value of `n_init` will change from 10 to 'auto' in 1.4. Set the value of `n_init` explicitly to suppress the warning\n",
            "  warnings.warn(\n"
          ]
        },
        {
          "output_type": "stream",
          "name": "stdout",
          "text": [
            "Done clustering in 0.542s\n",
            "Clustering with n_clusters=4\n"
          ]
        },
        {
          "output_type": "stream",
          "name": "stderr",
          "text": [
            "/usr/local/lib/python3.10/dist-packages/sklearn/cluster/_kmeans.py:870: FutureWarning: The default value of `n_init` will change from 10 to 'auto' in 1.4. Set the value of `n_init` explicitly to suppress the warning\n",
            "  warnings.warn(\n"
          ]
        },
        {
          "output_type": "stream",
          "name": "stdout",
          "text": [
            "Done clustering in 0.396s\n",
            "Clustering with n_clusters=5\n"
          ]
        },
        {
          "output_type": "stream",
          "name": "stderr",
          "text": [
            "/usr/local/lib/python3.10/dist-packages/sklearn/cluster/_kmeans.py:870: FutureWarning: The default value of `n_init` will change from 10 to 'auto' in 1.4. Set the value of `n_init` explicitly to suppress the warning\n",
            "  warnings.warn(\n"
          ]
        },
        {
          "output_type": "stream",
          "name": "stdout",
          "text": [
            "Done clustering in 0.393s\n",
            "Clustering with n_clusters=6\n"
          ]
        },
        {
          "output_type": "stream",
          "name": "stderr",
          "text": [
            "/usr/local/lib/python3.10/dist-packages/sklearn/cluster/_kmeans.py:870: FutureWarning: The default value of `n_init` will change from 10 to 'auto' in 1.4. Set the value of `n_init` explicitly to suppress the warning\n",
            "  warnings.warn(\n"
          ]
        },
        {
          "output_type": "stream",
          "name": "stdout",
          "text": [
            "Done clustering in 0.613s\n",
            "Clustering with n_clusters=7\n"
          ]
        },
        {
          "output_type": "stream",
          "name": "stderr",
          "text": [
            "/usr/local/lib/python3.10/dist-packages/sklearn/cluster/_kmeans.py:870: FutureWarning: The default value of `n_init` will change from 10 to 'auto' in 1.4. Set the value of `n_init` explicitly to suppress the warning\n",
            "  warnings.warn(\n"
          ]
        },
        {
          "output_type": "stream",
          "name": "stdout",
          "text": [
            "Done clustering in 0.537s\n",
            "Clustering with n_clusters=8\n"
          ]
        },
        {
          "output_type": "stream",
          "name": "stderr",
          "text": [
            "/usr/local/lib/python3.10/dist-packages/sklearn/cluster/_kmeans.py:870: FutureWarning: The default value of `n_init` will change from 10 to 'auto' in 1.4. Set the value of `n_init` explicitly to suppress the warning\n",
            "  warnings.warn(\n"
          ]
        },
        {
          "output_type": "stream",
          "name": "stdout",
          "text": [
            "Done clustering in 1.078s\n",
            "Clustering with n_clusters=9\n"
          ]
        },
        {
          "output_type": "stream",
          "name": "stderr",
          "text": [
            "/usr/local/lib/python3.10/dist-packages/sklearn/cluster/_kmeans.py:870: FutureWarning: The default value of `n_init` will change from 10 to 'auto' in 1.4. Set the value of `n_init` explicitly to suppress the warning\n",
            "  warnings.warn(\n"
          ]
        },
        {
          "output_type": "stream",
          "name": "stdout",
          "text": [
            "Done clustering in 1.844s\n",
            "Clustering with n_clusters=10\n"
          ]
        },
        {
          "output_type": "stream",
          "name": "stderr",
          "text": [
            "/usr/local/lib/python3.10/dist-packages/sklearn/cluster/_kmeans.py:870: FutureWarning: The default value of `n_init` will change from 10 to 'auto' in 1.4. Set the value of `n_init` explicitly to suppress the warning\n",
            "  warnings.warn(\n"
          ]
        },
        {
          "output_type": "stream",
          "name": "stdout",
          "text": [
            "Done clustering in 0.429s\n",
            "Clustering with n_clusters=11\n"
          ]
        },
        {
          "output_type": "stream",
          "name": "stderr",
          "text": [
            "/usr/local/lib/python3.10/dist-packages/sklearn/cluster/_kmeans.py:870: FutureWarning: The default value of `n_init` will change from 10 to 'auto' in 1.4. Set the value of `n_init` explicitly to suppress the warning\n",
            "  warnings.warn(\n"
          ]
        },
        {
          "output_type": "stream",
          "name": "stdout",
          "text": [
            "Done clustering in 0.637s\n",
            "Clustering with n_clusters=12\n"
          ]
        },
        {
          "output_type": "stream",
          "name": "stderr",
          "text": [
            "/usr/local/lib/python3.10/dist-packages/sklearn/cluster/_kmeans.py:870: FutureWarning: The default value of `n_init` will change from 10 to 'auto' in 1.4. Set the value of `n_init` explicitly to suppress the warning\n",
            "  warnings.warn(\n"
          ]
        },
        {
          "output_type": "stream",
          "name": "stdout",
          "text": [
            "Done clustering in 0.557s\n",
            "Clustering with n_clusters=13\n"
          ]
        },
        {
          "output_type": "stream",
          "name": "stderr",
          "text": [
            "/usr/local/lib/python3.10/dist-packages/sklearn/cluster/_kmeans.py:870: FutureWarning: The default value of `n_init` will change from 10 to 'auto' in 1.4. Set the value of `n_init` explicitly to suppress the warning\n",
            "  warnings.warn(\n"
          ]
        },
        {
          "output_type": "stream",
          "name": "stdout",
          "text": [
            "Done clustering in 0.633s\n",
            "Clustering with n_clusters=14\n"
          ]
        },
        {
          "output_type": "stream",
          "name": "stderr",
          "text": [
            "/usr/local/lib/python3.10/dist-packages/sklearn/cluster/_kmeans.py:870: FutureWarning: The default value of `n_init` will change from 10 to 'auto' in 1.4. Set the value of `n_init` explicitly to suppress the warning\n",
            "  warnings.warn(\n"
          ]
        },
        {
          "output_type": "stream",
          "name": "stdout",
          "text": [
            "Done clustering in 0.828s\n",
            "Clustering with n_clusters=15\n"
          ]
        },
        {
          "output_type": "stream",
          "name": "stderr",
          "text": [
            "/usr/local/lib/python3.10/dist-packages/sklearn/cluster/_kmeans.py:870: FutureWarning: The default value of `n_init` will change from 10 to 'auto' in 1.4. Set the value of `n_init` explicitly to suppress the warning\n",
            "  warnings.warn(\n"
          ]
        },
        {
          "output_type": "stream",
          "name": "stdout",
          "text": [
            "Done clustering in 0.883s\n",
            "Clustering with n_clusters=16\n"
          ]
        },
        {
          "output_type": "stream",
          "name": "stderr",
          "text": [
            "/usr/local/lib/python3.10/dist-packages/sklearn/cluster/_kmeans.py:870: FutureWarning: The default value of `n_init` will change from 10 to 'auto' in 1.4. Set the value of `n_init` explicitly to suppress the warning\n",
            "  warnings.warn(\n"
          ]
        },
        {
          "output_type": "stream",
          "name": "stdout",
          "text": [
            "Done clustering in 0.540s\n",
            "Clustering with n_clusters=17\n"
          ]
        },
        {
          "output_type": "stream",
          "name": "stderr",
          "text": [
            "/usr/local/lib/python3.10/dist-packages/sklearn/cluster/_kmeans.py:870: FutureWarning: The default value of `n_init` will change from 10 to 'auto' in 1.4. Set the value of `n_init` explicitly to suppress the warning\n",
            "  warnings.warn(\n"
          ]
        },
        {
          "output_type": "stream",
          "name": "stdout",
          "text": [
            "Done clustering in 0.840s\n",
            "Clustering with n_clusters=18\n"
          ]
        },
        {
          "output_type": "stream",
          "name": "stderr",
          "text": [
            "/usr/local/lib/python3.10/dist-packages/sklearn/cluster/_kmeans.py:870: FutureWarning: The default value of `n_init` will change from 10 to 'auto' in 1.4. Set the value of `n_init` explicitly to suppress the warning\n",
            "  warnings.warn(\n"
          ]
        },
        {
          "output_type": "stream",
          "name": "stdout",
          "text": [
            "Done clustering in 1.153s\n",
            "Clustering with n_clusters=19\n"
          ]
        },
        {
          "output_type": "stream",
          "name": "stderr",
          "text": [
            "/usr/local/lib/python3.10/dist-packages/sklearn/cluster/_kmeans.py:870: FutureWarning: The default value of `n_init` will change from 10 to 'auto' in 1.4. Set the value of `n_init` explicitly to suppress the warning\n",
            "  warnings.warn(\n"
          ]
        },
        {
          "output_type": "stream",
          "name": "stdout",
          "text": [
            "Done clustering in 0.595s\n"
          ]
        }
      ]
    },
    {
      "cell_type": "code",
      "source": [
        "plt.figure(figsize=(9, 5))\n",
        "sns.lineplot(x=range(1, 20), y=ssd)\n",
        "sns.scatterplot(x=range(1, 20), y=ssd)\n",
        "plt.xticks(range(1, 20))\n",
        "plt.show()"
      ],
      "metadata": {
        "colab": {
          "base_uri": "https://localhost:8080/",
          "height": 445
        },
        "id": "5Ba1nUju5Bnh",
        "outputId": "14c5291e-9da9-45b6-a346-ca05e46e6d37"
      },
      "execution_count": null,
      "outputs": [
        {
          "output_type": "display_data",
          "data": {
            "text/plain": [
              "<Figure size 900x500 with 1 Axes>"
            ],
            "image/png": "[encoded data removed]"
          },
          "metadata": {}
        }
      ]
    },
    {
      "cell_type": "code",
      "source": [
        "# Menentukan jumlah cluster berdasarkan hasil metode elbow dapat dilihat membentuk siku pada cluster ke-4\n",
        "k = 4"
      ],
      "metadata": {
        "id": "Nk2oBUyQ4Rwk"
      },
      "execution_count": null,
      "outputs": []
    },
    {
      "cell_type": "code",
      "source": [
        "# Membuat model KMeans\n",
        "kmeans = KMeans(n_clusters=k, random_state=42)\n",
        "\n",
        "start = time()\n",
        "kmeans.fit(X_scaled)\n",
        "print(f\"Done fitting kMeans in {time()-start:.3f}s\")"
      ],
      "metadata": {
        "colab": {
          "base_uri": "https://localhost:8080/"
        },
        "id": "tyoDijl9zPVY",
        "outputId": "89128316-2a99-45be-89f3-da40ae88b530"
      },
      "execution_count": null,
      "outputs": [
        {
          "output_type": "stream",
          "name": "stderr",
          "text": [
            "/usr/local/lib/python3.10/dist-packages/sklearn/cluster/_kmeans.py:870: FutureWarning: The default value of `n_init` will change from 10 to 'auto' in 1.4. Set the value of `n_init` explicitly to suppress the warning\n",
            "  warnings.warn(\n"
          ]
        },
        {
          "output_type": "stream",
          "name": "stdout",
          "text": [
            "Done fitting kMeans in 0.645s\n"
          ]
        }
      ]
    },
    {
      "cell_type": "code",
      "source": [
        "#membuat kolom baru pada data X yang merepresentasikan cluster dari model\n",
        "X = X.assign(\n",
        "    clusters_of_4=kmeans.predict(X_scaled),\n",
        ")\n",
        "with pd.option_context(\"display.max_columns\", None):\n",
        "    display(X.head())"
      ],
      "metadata": {
        "colab": {
          "base_uri": "https://localhost:8080/",
          "height": 206
        },
        "id": "cbpuBRdf1-LY",
        "outputId": "2c8e9f95-fdd4-466e-e4ca-74fb9fca4c25"
      },
      "execution_count": null,
      "outputs": [
        {
          "output_type": "display_data",
          "data": {
            "text/plain": [
              "   Age   Education   Income  Years_Since_Registration  Recency  \\\n",
              "0   67  Graduation  58138.0                        12       58   \n",
              "1   70  Graduation  46344.0                        10       38   \n",
              "2   59  Graduation  71613.0                        11       26   \n",
              "3   40  Graduation  26646.0                        10       26   \n",
              "4   43         PhD  58293.0                        10       94   \n",
              "\n",
              "   NumWebPurchases  NumStorePurchases  NumWebVisitsMonth  clusters_of_4  \n",
              "0                8                  4                  7              2  \n",
              "1                1                  2                  5              0  \n",
              "2                8                 10                  4              2  \n",
              "3                2                  4                  6              0  \n",
              "4                5                  6                  5              1  "
            ],
            "text/html": [
              "\n",
              "  <div id=\"df-9c6fea22-ce7c-4031-9c9e-b7da82ca471f\" class=\"colab-df-container\">\n",
              "    <div>\n",
              "<style scoped>\n",
              "    .dataframe tbody tr th:only-of-type {\n",
              "        vertical-align: middle;\n",
              "    }\n",
              "\n",
              "    .dataframe tbody tr th {\n",
              "        vertical-align: top;\n",
              "    }\n",
              "\n",
              "    .dataframe thead th {\n",
              "        text-align: right;\n",
              "    }\n",
              "</style>\n",
              "<table border=\"1\" class=\"dataframe\">\n",
              "  <thead>\n",
              "    <tr style=\"text-align: right;\">\n",
              "      <th></th>\n",
              "      <th>Age</th>\n",
              "      <th>Education</th>\n",
              "      <th>Income</th>\n",
              "      <th>Years_Since_Registration</th>\n",
              "      <th>Recency</th>\n",
              "      <th>NumWebPurchases</th>\n",
              "      <th>NumStorePurchases</th>\n",
              "      <th>NumWebVisitsMonth</th>\n",
              "      <th>clusters_of_4</th>\n",
              "    </tr>\n",
              "  </thead>\n",
              "  <tbody>\n",
              "    <tr>\n",
              "      <th>0</th>\n",
              "      <td>67</td>\n",
              "      <td>Graduation</td>\n",
              "      <td>58138.0</td>\n",
              "      <td>12</td>\n",
              "      <td>58</td>\n",
              "      <td>8</td>\n",
              "      <td>4</td>\n",
              "      <td>7</td>\n",
              "      <td>2</td>\n",
              "    </tr>\n",
              "    <tr>\n",
              "      <th>1</th>\n",
              "      <td>70</td>\n",
              "      <td>Graduation</td>\n",
              "      <td>46344.0</td>\n",
              "      <td>10</td>\n",
              "      <td>38</td>\n",
              "      <td>1</td>\n",
              "      <td>2</td>\n",
              "      <td>5</td>\n",
              "      <td>0</td>\n",
              "    </tr>\n",
              "    <tr>\n",
              "      <th>2</th>\n",
              "      <td>59</td>\n",
              "      <td>Graduation</td>\n",
              "      <td>71613.0</td>\n",
              "      <td>11</td>\n",
              "      <td>26</td>\n",
              "      <td>8</td>\n",
              "      <td>10</td>\n",
              "      <td>4</td>\n",
              "      <td>2</td>\n",
              "    </tr>\n",
              "    <tr>\n",
              "      <th>3</th>\n",
              "      <td>40</td>\n",
              "      <td>Graduation</td>\n",
              "      <td>26646.0</td>\n",
              "      <td>10</td>\n",
              "      <td>26</td>\n",
              "      <td>2</td>\n",
              "      <td>4</td>\n",
              "      <td>6</td>\n",
              "      <td>0</td>\n",
              "    </tr>\n",
              "    <tr>\n",
              "      <th>4</th>\n",
              "      <td>43</td>\n",
              "      <td>PhD</td>\n",
              "      <td>58293.0</td>\n",
              "      <td>10</td>\n",
              "      <td>94</td>\n",
              "      <td>5</td>\n",
              "      <td>6</td>\n",
              "      <td>5</td>\n",
              "      <td>1</td>\n",
              "    </tr>\n",
              "  </tbody>\n",
              "</table>\n",
              "</div>\n",
              "    <div class=\"colab-df-buttons\">\n",
              "\n",
              "  <div class=\"colab-df-container\">\n",
              "    <button class=\"colab-df-convert\" onclick=\"convertToInteractive('df-9c6fea22-ce7c-4031-9c9e-b7da82ca471f')\"\n",
              "            title=\"Convert this dataframe to an interactive table.\"\n",
              "            style=\"display:none;\">\n",
              "\n",
              "  <svg xmlns=\"http://www.w3.org/2000/svg\" height=\"24px\" viewBox=\"0 -960 960 960\">\n",
              "    <path d=\"M120-120v-720h720v720H120Zm60-500h600v-160H180v160Zm220 220h160v-160H400v160Zm0 220h160v-160H400v160ZM180-400h160v-160H180v160Zm440 0h160v-160H620v160ZM180-180h160v-160H180v160Zm440 0h160v-160H620v160Z\"/>\n",
              "  </svg>\n",
              "    </button>\n",
              "\n",
              "  <style>\n",
              "    .colab-df-container {\n",
              "      display:flex;\n",
              "      gap: 12px;\n",
              "    }\n",
              "\n",
              "    .colab-df-convert {\n",
              "      background-color: #E8F0FE;\n",
              "      border: none;\n",
              "      border-radius: 50%;\n",
              "      cursor: pointer;\n",
              "      display: none;\n",
              "      fill: #1967D2;\n",
              "      height: 32px;\n",
              "      padding: 0 0 0 0;\n",
              "      width: 32px;\n",
              "    }\n",
              "\n",
              "    .colab-df-convert:hover {\n",
              "      background-color: #E2EBFA;\n",
              "      box-shadow: 0px 1px 2px rgba(60, 64, 67, 0.3), 0px 1px 3px 1px rgba(60, 64, 67, 0.15);\n",
              "      fill: #174EA6;\n",
              "    }\n",
              "\n",
              "    .colab-df-buttons div {\n",
              "      margin-bottom: 4px;\n",
              "    }\n",
              "\n",
              "    [theme=dark] .colab-df-convert {\n",
              "      background-color: #3B4455;\n",
              "      fill: #D2E3FC;\n",
              "    }\n",
              "\n",
              "    [theme=dark] .colab-df-convert:hover {\n",
              "      background-color: #434B5C;\n",
              "      box-shadow: 0px 1px 3px 1px rgba(0, 0, 0, 0.15);\n",
              "      filter: drop-shadow(0px 1px 2px rgba(0, 0, 0, 0.3));\n",
              "      fill: #FFFFFF;\n",
              "    }\n",
              "  </style>\n",
              "\n",
              "    <script>\n",
              "      const buttonEl =\n",
              "        document.querySelector('#df-9c6fea22-ce7c-4031-9c9e-b7da82ca471f button.colab-df-convert');\n",
              "      buttonEl.style.display =\n",
              "        google.colab.kernel.accessAllowed ? 'block' : 'none';\n",
              "\n",
              "      async function convertToInteractive(key) {\n",
              "        const element = document.querySelector('#df-9c6fea22-ce7c-4031-9c9e-b7da82ca471f');\n",
              "        const dataTable =\n",
              "          await google.colab.kernel.invokeFunction('convertToInteractive',\n",
              "                                                    [key], {});\n",
              "        if (!dataTable) return;\n",
              "\n",
              "        const docLinkHtml = 'Like what you see? Visit the ' +\n",
              "          '<a target=\"_blank\" href=https://colab.research.google.com/notebooks/data_table.ipynb>data table notebook</a>'\n",
              "          + ' to learn more about interactive tables.';\n",
              "        element.innerHTML = '';\n",
              "        dataTable['output_type'] = 'display_data';\n",
              "        await google.colab.output.renderOutput(dataTable, element);\n",
              "        const docLink = document.createElement('div');\n",
              "        docLink.innerHTML = docLinkHtml;\n",
              "        element.appendChild(docLink);\n",
              "      }\n",
              "    </script>\n",
              "  </div>\n",
              "\n",
              "\n",
              "<div id=\"df-a06289ac-332c-4071-8447-e8f2850ae5fd\">\n",
              "  <button class=\"colab-df-quickchart\" onclick=\"quickchart('df-a06289ac-332c-4071-8447-e8f2850ae5fd')\"\n",
              "            title=\"Suggest charts\"\n",
              "            style=\"display:none;\">\n",
              "\n",
              "<svg xmlns=\"http://www.w3.org/2000/svg\" height=\"24px\"viewBox=\"0 0 24 24\"\n",
              "     width=\"24px\">\n",
              "    <g>\n",
              "        <path d=\"M19 3H5c-1.1 0-2 .9-2 2v14c0 1.1.9 2 2 2h14c1.1 0 2-.9 2-2V5c0-1.1-.9-2-2-2zM9 17H7v-7h2v7zm4 0h-2V7h2v10zm4 0h-2v-4h2v4z\"/>\n",
              "    </g>\n",
              "</svg>\n",
              "  </button>\n",
              "\n",
              "<style>\n",
              "  .colab-df-quickchart {\n",
              "      --bg-color: #E8F0FE;\n",
              "      --fill-color: #1967D2;\n",
              "      --hover-bg-color: #E2EBFA;\n",
              "      --hover-fill-color: #174EA6;\n",
              "      --disabled-fill-color: #AAA;\n",
              "      --disabled-bg-color: #DDD;\n",
              "  }\n",
              "\n",
              "  [theme=dark] .colab-df-quickchart {\n",
              "      --bg-color: #3B4455;\n",
              "      --fill-color: #D2E3FC;\n",
              "      --hover-bg-color: #434B5C;\n",
              "      --hover-fill-color: #FFFFFF;\n",
              "      --disabled-bg-color: #3B4455;\n",
              "      --disabled-fill-color: #666;\n",
              "  }\n",
              "\n",
              "  .colab-df-quickchart {\n",
              "    background-color: var(--bg-color);\n",
              "    border: none;\n",
              "    border-radius: 50%;\n",
              "    cursor: pointer;\n",
              "    display: none;\n",
              "    fill: var(--fill-color);\n",
              "    height: 32px;\n",
              "    padding: 0;\n",
              "    width: 32px;\n",
              "  }\n",
              "\n",
              "  .colab-df-quickchart:hover {\n",
              "    background-color: var(--hover-bg-color);\n",
              "    box-shadow: 0 1px 2px rgba(60, 64, 67, 0.3), 0 1px 3px 1px rgba(60, 64, 67, 0.15);\n",
              "    fill: var(--button-hover-fill-color);\n",
              "  }\n",
              "\n",
              "  .colab-df-quickchart-complete:disabled,\n",
              "  .colab-df-quickchart-complete:disabled:hover {\n",
              "    background-color: var(--disabled-bg-color);\n",
              "    fill: var(--disabled-fill-color);\n",
              "    box-shadow: none;\n",
              "  }\n",
              "\n",
              "  .colab-df-spinner {\n",
              "    border: 2px solid var(--fill-color);\n",
              "    border-color: transparent;\n",
              "    border-bottom-color: var(--fill-color);\n",
              "    animation:\n",
              "      spin 1s steps(1) infinite;\n",
              "  }\n",
              "\n",
              "  @keyframes spin {\n",
              "    0% {\n",
              "      border-color: transparent;\n",
              "      border-bottom-color: var(--fill-color);\n",
              "      border-left-color: var(--fill-color);\n",
              "    }\n",
              "    20% {\n",
              "      border-color: transparent;\n",
              "      border-left-color: var(--fill-color);\n",
              "      border-top-color: var(--fill-color);\n",
              "    }\n",
              "    30% {\n",
              "      border-color: transparent;\n",
              "      border-left-color: var(--fill-color);\n",
              "      border-top-color: var(--fill-color);\n",
              "      border-right-color: var(--fill-color);\n",
              "    }\n",
              "    40% {\n",
              "      border-color: transparent;\n",
              "      border-right-color: var(--fill-color);\n",
              "      border-top-color: var(--fill-color);\n",
              "    }\n",
              "    60% {\n",
              "      border-color: transparent;\n",
              "      border-right-color: var(--fill-color);\n",
              "    }\n",
              "    80% {\n",
              "      border-color: transparent;\n",
              "      border-right-color: var(--fill-color);\n",
              "      border-bottom-color: var(--fill-color);\n",
              "    }\n",
              "    90% {\n",
              "      border-color: transparent;\n",
              "      border-bottom-color: var(--fill-color);\n",
              "    }\n",
              "  }\n",
              "</style>\n",
              "\n",
              "  <script>\n",
              "    async function quickchart(key) {\n",
              "      const quickchartButtonEl =\n",
              "        document.querySelector('#' + key + ' button');\n",
              "      quickchartButtonEl.disabled = true;  // To prevent multiple clicks.\n",
              "      quickchartButtonEl.classList.add('colab-df-spinner');\n",
              "      try {\n",
              "        const charts = await google.colab.kernel.invokeFunction(\n",
              "            'suggestCharts', [key], {});\n",
              "      } catch (error) {\n",
              "        console.error('Error during call to suggestCharts:', error);\n",
              "      }\n",
              "      quickchartButtonEl.classList.remove('colab-df-spinner');\n",
              "      quickchartButtonEl.classList.add('colab-df-quickchart-complete');\n",
              "    }\n",
              "    (() => {\n",
              "      let quickchartButtonEl =\n",
              "        document.querySelector('#df-a06289ac-332c-4071-8447-e8f2850ae5fd button');\n",
              "      quickchartButtonEl.style.display =\n",
              "        google.colab.kernel.accessAllowed ? 'block' : 'none';\n",
              "    })();\n",
              "  </script>\n",
              "</div>\n",
              "    </div>\n",
              "  </div>\n"
            ],
            "application/vnd.google.colaboratory.intrinsic+json": {
              "type": "dataframe",
              "summary": "{\n  \"name\": \"    display(X\",\n  \"rows\": 5,\n  \"fields\": [\n    {\n      \"column\": \"Age\",\n      \"properties\": {\n        \"dtype\": \"number\",\n        \"std\": 13,\n        \"min\": 40,\n        \"max\": 70,\n        \"num_unique_values\": 5,\n        \"samples\": [\n          70,\n          43,\n          59\n        ],\n        \"semantic_type\": \"\",\n        \"description\": \"\"\n      }\n    },\n    {\n      \"column\": \"Education\",\n      \"properties\": {\n        \"dtype\": \"category\",\n        \"num_unique_values\": 2,\n        \"samples\": [\n          \"PhD\",\n          \"Graduation\"\n        ],\n        \"semantic_type\": \"\",\n        \"description\": \"\"\n      }\n    },\n    {\n      \"column\": \"Income\",\n      \"properties\": {\n        \"dtype\": \"number\",\n        \"std\": 16856.36736369969,\n        \"min\": 26646.0,\n        \"max\": 71613.0,\n        \"num_unique_values\": 5,\n        \"samples\": [\n          46344.0,\n          58293.0\n        ],\n        \"semantic_type\": \"\",\n        \"description\": \"\"\n      }\n    },\n    {\n      \"column\": \"Years_Since_Registration\",\n      \"properties\": {\n        \"dtype\": \"int32\",\n        \"num_unique_values\": 3,\n        \"samples\": [\n          12,\n          10\n        ],\n        \"semantic_type\": \"\",\n        \"description\": \"\"\n      }\n    },\n    {\n      \"column\": \"Recency\",\n      \"properties\": {\n        \"dtype\": \"number\",\n        \"std\": 28,\n        \"min\": 26,\n        \"max\": 94,\n        \"num_unique_values\": 4,\n        \"samples\": [\n          38,\n          94\n        ],\n        \"semantic_type\": \"\",\n        \"description\": \"\"\n      }\n    },\n    {\n      \"column\": \"NumWebPurchases\",\n      \"properties\": {\n        \"dtype\": \"number\",\n        \"std\": 3,\n        \"min\": 1,\n        \"max\": 8,\n        \"num_unique_values\": 4,\n        \"samples\": [\n          1,\n          5\n        ],\n        \"semantic_type\": \"\",\n        \"description\": \"\"\n      }\n    },\n    {\n      \"column\": \"NumStorePurchases\",\n      \"properties\": {\n        \"dtype\": \"number\",\n        \"std\": 3,\n        \"min\": 2,\n        \"max\": 10,\n        \"num_unique_values\": 4,\n        \"samples\": [\n          2,\n          6\n        ],\n        \"semantic_type\": \"\",\n        \"description\": \"\"\n      }\n    },\n    {\n      \"column\": \"NumWebVisitsMonth\",\n      \"properties\": {\n        \"dtype\": \"number\",\n        \"std\": 1,\n        \"min\": 4,\n        \"max\": 7,\n        \"num_unique_values\": 4,\n        \"samples\": [\n          5,\n          6\n        ],\n        \"semantic_type\": \"\",\n        \"description\": \"\"\n      }\n    },\n    {\n      \"column\": \"clusters_of_4\",\n      \"properties\": {\n        \"dtype\": \"int32\",\n        \"num_unique_values\": 3,\n        \"samples\": [\n          2,\n          0\n        ],\n        \"semantic_type\": \"\",\n        \"description\": \"\"\n      }\n    }\n  ]\n}"
            }
          },
          "metadata": {}
        }
      ]
    },
    {
      "cell_type": "code",
      "source": [
        "# Plot distribusi jumlah data di setiap cluster\n",
        "plt.figure(figsize=(8, 4))\n",
        "sns.countplot(x='clusters_of_4', data=X, palette=\"Paired\")\n",
        "plt.title(\"Cluster Cardinality\")\n",
        "plt.show()"
      ],
      "metadata": {
        "colab": {
          "base_uri": "https://localhost:8080/",
          "height": 517
        },
        "id": "wySky-eA27JJ",
        "outputId": "d6fa6b2d-b3f0-4c57-9a75-165669cedf29"
      },
      "execution_count": null,
      "outputs": [
        {
          "output_type": "stream",
          "name": "stderr",
          "text": [
            "<ipython-input-273-b1fe7f0bc0ae>:3: FutureWarning: \n",
            "\n",
            "Passing `palette` without assigning `hue` is deprecated and will be removed in v0.14.0. Assign the `x` variable to `hue` and set `legend=False` for the same effect.\n",
            "\n",
            "  sns.countplot(x='clusters_of_4', data=X, palette=\"Paired\")\n"
          ]
        },
        {
          "output_type": "display_data",
          "data": {
            "text/plain": [
              "<Figure size 800x400 with 1 Axes>"
            ],
            "image/png": "[encoded data removed]"
          },
          "metadata": {}
        }
      ]
    },
    {
      "cell_type": "code",
      "source": [
        "# Melakukan clustering\n",
        "data_customer['Cluster'] = kmeans.fit_predict(X_scaled)\n",
        "\n",
        "# Menampilkan hasil clustering\n",
        "print(data_customer[['ID', 'Cluster']])"
      ],
      "metadata": {
        "colab": {
          "base_uri": "https://localhost:8080/"
        },
        "id": "2H99UFRXzS3I",
        "outputId": "0bbfa719-7b30-4a8b-9f03-95a65d726ca3"
      },
      "execution_count": null,
      "outputs": [
        {
          "output_type": "stream",
          "name": "stderr",
          "text": [
            "/usr/local/lib/python3.10/dist-packages/sklearn/cluster/_kmeans.py:870: FutureWarning: The default value of `n_init` will change from 10 to 'auto' in 1.4. Set the value of `n_init` explicitly to suppress the warning\n",
            "  warnings.warn(\n"
          ]
        },
        {
          "output_type": "stream",
          "name": "stdout",
          "text": [
            "         ID  Cluster\n",
            "0      5524        2\n",
            "1      2174        0\n",
            "2      4141        2\n",
            "3      6182        0\n",
            "4      5324        1\n",
            "...     ...      ...\n",
            "2235  10870        2\n",
            "2236   4001        1\n",
            "2237   7270        2\n",
            "2238   8235        3\n",
            "2239   9405        1\n",
            "\n",
            "[2240 rows x 2 columns]\n"
          ]
        }
      ]
    },
    {
      "cell_type": "code",
      "source": [
        "# Menghitung jumlah entri di setiap klaster\n",
        "cluster_counts = data_customer['Cluster'].value_counts()\n",
        "cluster_counts"
      ],
      "metadata": {
        "colab": {
          "base_uri": "https://localhost:8080/"
        },
        "id": "rhMFuOSACe1k",
        "outputId": "b1050f61-1ddf-45a2-fc31-47467494144c"
      },
      "execution_count": null,
      "outputs": [
        {
          "output_type": "execute_result",
          "data": {
            "text/plain": [
              "Cluster\n",
              "0    595\n",
              "2    590\n",
              "3    572\n",
              "1    483\n",
              "Name: count, dtype: int64"
            ]
          },
          "metadata": {},
          "execution_count": 275
        }
      ]
    },
    {
      "cell_type": "code",
      "source": [
        "# Misalnya, untuk fitur 'Education', hitung jumlah masing-masing nilai dalam setiap cluster\n",
        "education_counts = data_customer.groupby(['Cluster', 'Education']).size().unstack(fill_value=0)\n",
        "\n",
        "# Tampilkan deskripsi statistik untuk fitur 'Education' dalam setiap cluster\n",
        "print(education_counts)\n"
      ],
      "metadata": {
        "colab": {
          "base_uri": "https://localhost:8080/"
        },
        "id": "37E7HYMDjOgh",
        "outputId": "b5b11789-719e-4641-8633-feca1099f2de"
      },
      "execution_count": null,
      "outputs": [
        {
          "output_type": "stream",
          "name": "stdout",
          "text": [
            "Education  Graduation  Master  PhD\n",
            "Cluster                           \n",
            "0                 591       1    3\n",
            "1                   0       0  483\n",
            "2                 590       0    0\n",
            "3                   0     572    0\n"
          ]
        }
      ]
    },
    {
      "cell_type": "code",
      "source": [
        "# Buat bar plot untuk fitur 'Education' dalam setiap cluster\n",
        "plt.figure(figsize=(8, 4))\n",
        "sns.countplot(x='Education', hue='Cluster', data=data_customer)\n",
        "plt.title('Distribution of Education by Cluster')\n",
        "plt.xlabel('Education')\n",
        "plt.ylabel('Count')\n",
        "plt.show()"
      ],
      "metadata": {
        "colab": {
          "base_uri": "https://localhost:8080/",
          "height": 410
        },
        "id": "DHdyp_B3jPar",
        "outputId": "1a3a24c6-d6a3-4e79-b949-b74ef5ab2f50"
      },
      "execution_count": null,
      "outputs": [
        {
          "output_type": "display_data",
          "data": {
            "text/plain": [
              "<Figure size 800x400 with 1 Axes>"
            ],
            "image/png": "[encoded data removed]"
          },
          "metadata": {}
        }
      ]
    },
    {
      "cell_type": "code",
      "source": [
        "segmentation_table = data_customer.groupby('Cluster').agg({'Age': ['mean', 'count'],\n",
        "                                                          'Income': ['mean', 'count'],\n",
        "                                                          'Years_Since_Registration': ['mean', 'count'],\n",
        "                                                          'Recency': ['mean', 'count'],\n",
        "                                                          'NumWebPurchases': ['mean', 'count'],\n",
        "                                                          'NumStorePurchases': ['mean', 'count'],\n",
        "                                                          'NumWebVisitsMonth': ['mean', 'count']})\n",
        "# Menampilkan tabel segmentasi pelanggan\n",
        "segmentation_table"
      ],
      "metadata": {
        "colab": {
          "base_uri": "https://localhost:8080/",
          "height": 237
        },
        "id": "KmAKM33nlYjJ",
        "outputId": "6f7bfd68-adbf-416e-efb5-b6b00a7029f7"
      },
      "execution_count": null,
      "outputs": [
        {
          "output_type": "execute_result",
          "data": {
            "text/plain": [
              "               Age              Income       Years_Since_Registration        \\\n",
              "              mean count          mean count                     mean count   \n",
              "Cluster                                                                       \n",
              "0        51.421849   595  32716.526050   595                10.996639   595   \n",
              "1        57.898551   483  56450.207039   483                10.942029   483   \n",
              "2        56.661017   590  69562.379661   590                10.979661   590   \n",
              "3        55.321678   572  51104.576923   572                10.963287   572   \n",
              "\n",
              "           Recency       NumWebPurchases       NumStorePurchases        \\\n",
              "              mean count            mean count              mean count   \n",
              "Cluster                                                                  \n",
              "0        50.258824   595        2.342857   595          3.201681   595   \n",
              "1        48.426501   483        4.449275   483          6.097308   483   \n",
              "2        49.622034   590        5.693220   590          8.171186   590   \n",
              "3        47.961538   572        3.930070   572          5.767483   572   \n",
              "\n",
              "        NumWebVisitsMonth        \n",
              "                     mean count  \n",
              "Cluster                          \n",
              "0                6.852101   595  \n",
              "1                5.169772   483  \n",
              "2                3.947458   590  \n",
              "3                5.255245   572  "
            ],
            "text/html": [
              "\n",
              "  <div id=\"df-92b7a57b-b236-41e4-98ce-d66003e9795c\" class=\"colab-df-container\">\n",
              "    <div>\n",
              "<style scoped>\n",
              "    .dataframe tbody tr th:only-of-type {\n",
              "        vertical-align: middle;\n",
              "    }\n",
              "\n",
              "    .dataframe tbody tr th {\n",
              "        vertical-align: top;\n",
              "    }\n",
              "\n",
              "    .dataframe thead tr th {\n",
              "        text-align: left;\n",
              "    }\n",
              "\n",
              "    .dataframe thead tr:last-of-type th {\n",
              "        text-align: right;\n",
              "    }\n",
              "</style>\n",
              "<table border=\"1\" class=\"dataframe\">\n",
              "  <thead>\n",
              "    <tr>\n",
              "      <th></th>\n",
              "      <th colspan=\"2\" halign=\"left\">Age</th>\n",
              "      <th colspan=\"2\" halign=\"left\">Income</th>\n",
              "      <th colspan=\"2\" halign=\"left\">Years_Since_Registration</th>\n",
              "      <th colspan=\"2\" halign=\"left\">Recency</th>\n",
              "      <th colspan=\"2\" halign=\"left\">NumWebPurchases</th>\n",
              "      <th colspan=\"2\" halign=\"left\">NumStorePurchases</th>\n",
              "      <th colspan=\"2\" halign=\"left\">NumWebVisitsMonth</th>\n",
              "    </tr>\n",
              "    <tr>\n",
              "      <th></th>\n",
              "      <th>mean</th>\n",
              "      <th>count</th>\n",
              "      <th>mean</th>\n",
              "      <th>count</th>\n",
              "      <th>mean</th>\n",
              "      <th>count</th>\n",
              "      <th>mean</th>\n",
              "      <th>count</th>\n",
              "      <th>mean</th>\n",
              "      <th>count</th>\n",
              "      <th>mean</th>\n",
              "      <th>count</th>\n",
              "      <th>mean</th>\n",
              "      <th>count</th>\n",
              "    </tr>\n",
              "    <tr>\n",
              "      <th>Cluster</th>\n",
              "      <th></th>\n",
              "      <th></th>\n",
              "      <th></th>\n",
              "      <th></th>\n",
              "      <th></th>\n",
              "      <th></th>\n",
              "      <th></th>\n",
              "      <th></th>\n",
              "      <th></th>\n",
              "      <th></th>\n",
              "      <th></th>\n",
              "      <th></th>\n",
              "      <th></th>\n",
              "      <th></th>\n",
              "    </tr>\n",
              "  </thead>\n",
              "  <tbody>\n",
              "    <tr>\n",
              "      <th>0</th>\n",
              "      <td>51.421849</td>\n",
              "      <td>595</td>\n",
              "      <td>32716.526050</td>\n",
              "      <td>595</td>\n",
              "      <td>10.996639</td>\n",
              "      <td>595</td>\n",
              "      <td>50.258824</td>\n",
              "      <td>595</td>\n",
              "      <td>2.342857</td>\n",
              "      <td>595</td>\n",
              "      <td>3.201681</td>\n",
              "      <td>595</td>\n",
              "      <td>6.852101</td>\n",
              "      <td>595</td>\n",
              "    </tr>\n",
              "    <tr>\n",
              "      <th>1</th>\n",
              "      <td>57.898551</td>\n",
              "      <td>483</td>\n",
              "      <td>56450.207039</td>\n",
              "      <td>483</td>\n",
              "      <td>10.942029</td>\n",
              "      <td>483</td>\n",
              "      <td>48.426501</td>\n",
              "      <td>483</td>\n",
              "      <td>4.449275</td>\n",
              "      <td>483</td>\n",
              "      <td>6.097308</td>\n",
              "      <td>483</td>\n",
              "      <td>5.169772</td>\n",
              "      <td>483</td>\n",
              "    </tr>\n",
              "    <tr>\n",
              "      <th>2</th>\n",
              "      <td>56.661017</td>\n",
              "      <td>590</td>\n",
              "      <td>69562.379661</td>\n",
              "      <td>590</td>\n",
              "      <td>10.979661</td>\n",
              "      <td>590</td>\n",
              "      <td>49.622034</td>\n",
              "      <td>590</td>\n",
              "      <td>5.693220</td>\n",
              "      <td>590</td>\n",
              "      <td>8.171186</td>\n",
              "      <td>590</td>\n",
              "      <td>3.947458</td>\n",
              "      <td>590</td>\n",
              "    </tr>\n",
              "    <tr>\n",
              "      <th>3</th>\n",
              "      <td>55.321678</td>\n",
              "      <td>572</td>\n",
              "      <td>51104.576923</td>\n",
              "      <td>572</td>\n",
              "      <td>10.963287</td>\n",
              "      <td>572</td>\n",
              "      <td>47.961538</td>\n",
              "      <td>572</td>\n",
              "      <td>3.930070</td>\n",
              "      <td>572</td>\n",
              "      <td>5.767483</td>\n",
              "      <td>572</td>\n",
              "      <td>5.255245</td>\n",
              "      <td>572</td>\n",
              "    </tr>\n",
              "  </tbody>\n",
              "</table>\n",
              "</div>\n",
              "    <div class=\"colab-df-buttons\">\n",
              "\n",
              "  <div class=\"colab-df-container\">\n",
              "    <button class=\"colab-df-convert\" onclick=\"convertToInteractive('df-92b7a57b-b236-41e4-98ce-d66003e9795c')\"\n",
              "            title=\"Convert this dataframe to an interactive table.\"\n",
              "            style=\"display:none;\">\n",
              "\n",
              "  <svg xmlns=\"http://www.w3.org/2000/svg\" height=\"24px\" viewBox=\"0 -960 960 960\">\n",
              "    <path d=\"M120-120v-720h720v720H120Zm60-500h600v-160H180v160Zm220 220h160v-160H400v160Zm0 220h160v-160H400v160ZM180-400h160v-160H180v160Zm440 0h160v-160H620v160ZM180-180h160v-160H180v160Zm440 0h160v-160H620v160Z\"/>\n",
              "  </svg>\n",
              "    </button>\n",
              "\n",
              "  <style>\n",
              "    .colab-df-container {\n",
              "      display:flex;\n",
              "      gap: 12px;\n",
              "    }\n",
              "\n",
              "    .colab-df-convert {\n",
              "      background-color: #E8F0FE;\n",
              "      border: none;\n",
              "      border-radius: 50%;\n",
              "      cursor: pointer;\n",
              "      display: none;\n",
              "      fill: #1967D2;\n",
              "      height: 32px;\n",
              "      padding: 0 0 0 0;\n",
              "      width: 32px;\n",
              "    }\n",
              "\n",
              "    .colab-df-convert:hover {\n",
              "      background-color: #E2EBFA;\n",
              "      box-shadow: 0px 1px 2px rgba(60, 64, 67, 0.3), 0px 1px 3px 1px rgba(60, 64, 67, 0.15);\n",
              "      fill: #174EA6;\n",
              "    }\n",
              "\n",
              "    .colab-df-buttons div {\n",
              "      margin-bottom: 4px;\n",
              "    }\n",
              "\n",
              "    [theme=dark] .colab-df-convert {\n",
              "      background-color: #3B4455;\n",
              "      fill: #D2E3FC;\n",
              "    }\n",
              "\n",
              "    [theme=dark] .colab-df-convert:hover {\n",
              "      background-color: #434B5C;\n",
              "      box-shadow: 0px 1px 3px 1px rgba(0, 0, 0, 0.15);\n",
              "      filter: drop-shadow(0px 1px 2px rgba(0, 0, 0, 0.3));\n",
              "      fill: #FFFFFF;\n",
              "    }\n",
              "  </style>\n",
              "\n",
              "    <script>\n",
              "      const buttonEl =\n",
              "        document.querySelector('#df-92b7a57b-b236-41e4-98ce-d66003e9795c button.colab-df-convert');\n",
              "      buttonEl.style.display =\n",
              "        google.colab.kernel.accessAllowed ? 'block' : 'none';\n",
              "\n",
              "      async function convertToInteractive(key) {\n",
              "        const element = document.querySelector('#df-92b7a57b-b236-41e4-98ce-d66003e9795c');\n",
              "        const dataTable =\n",
              "          await google.colab.kernel.invokeFunction('convertToInteractive',\n",
              "                                                    [key], {});\n",
              "        if (!dataTable) return;\n",
              "\n",
              "        const docLinkHtml = 'Like what you see? Visit the ' +\n",
              "          '<a target=\"_blank\" href=https://colab.research.google.com/notebooks/data_table.ipynb>data table notebook</a>'\n",
              "          + ' to learn more about interactive tables.';\n",
              "        element.innerHTML = '';\n",
              "        dataTable['output_type'] = 'display_data';\n",
              "        await google.colab.output.renderOutput(dataTable, element);\n",
              "        const docLink = document.createElement('div');\n",
              "        docLink.innerHTML = docLinkHtml;\n",
              "        element.appendChild(docLink);\n",
              "      }\n",
              "    </script>\n",
              "  </div>\n",
              "\n",
              "\n",
              "<div id=\"df-1c3bdee2-7b01-42af-9249-e3531223aaa5\">\n",
              "  <button class=\"colab-df-quickchart\" onclick=\"quickchart('df-1c3bdee2-7b01-42af-9249-e3531223aaa5')\"\n",
              "            title=\"Suggest charts\"\n",
              "            style=\"display:none;\">\n",
              "\n",
              "<svg xmlns=\"http://www.w3.org/2000/svg\" height=\"24px\"viewBox=\"0 0 24 24\"\n",
              "     width=\"24px\">\n",
              "    <g>\n",
              "        <path d=\"M19 3H5c-1.1 0-2 .9-2 2v14c0 1.1.9 2 2 2h14c1.1 0 2-.9 2-2V5c0-1.1-.9-2-2-2zM9 17H7v-7h2v7zm4 0h-2V7h2v10zm4 0h-2v-4h2v4z\"/>\n",
              "    </g>\n",
              "</svg>\n",
              "  </button>\n",
              "\n",
              "<style>\n",
              "  .colab-df-quickchart {\n",
              "      --bg-color: #E8F0FE;\n",
              "      --fill-color: #1967D2;\n",
              "      --hover-bg-color: #E2EBFA;\n",
              "      --hover-fill-color: #174EA6;\n",
              "      --disabled-fill-color: #AAA;\n",
              "      --disabled-bg-color: #DDD;\n",
              "  }\n",
              "\n",
              "  [theme=dark] .colab-df-quickchart {\n",
              "      --bg-color: #3B4455;\n",
              "      --fill-color: #D2E3FC;\n",
              "      --hover-bg-color: #434B5C;\n",
              "      --hover-fill-color: #FFFFFF;\n",
              "      --disabled-bg-color: #3B4455;\n",
              "      --disabled-fill-color: #666;\n",
              "  }\n",
              "\n",
              "  .colab-df-quickchart {\n",
              "    background-color: var(--bg-color);\n",
              "    border: none;\n",
              "    border-radius: 50%;\n",
              "    cursor: pointer;\n",
              "    display: none;\n",
              "    fill: var(--fill-color);\n",
              "    height: 32px;\n",
              "    padding: 0;\n",
              "    width: 32px;\n",
              "  }\n",
              "\n",
              "  .colab-df-quickchart:hover {\n",
              "    background-color: var(--hover-bg-color);\n",
              "    box-shadow: 0 1px 2px rgba(60, 64, 67, 0.3), 0 1px 3px 1px rgba(60, 64, 67, 0.15);\n",
              "    fill: var(--button-hover-fill-color);\n",
              "  }\n",
              "\n",
              "  .colab-df-quickchart-complete:disabled,\n",
              "  .colab-df-quickchart-complete:disabled:hover {\n",
              "    background-color: var(--disabled-bg-color);\n",
              "    fill: var(--disabled-fill-color);\n",
              "    box-shadow: none;\n",
              "  }\n",
              "\n",
              "  .colab-df-spinner {\n",
              "    border: 2px solid var(--fill-color);\n",
              "    border-color: transparent;\n",
              "    border-bottom-color: var(--fill-color);\n",
              "    animation:\n",
              "      spin 1s steps(1) infinite;\n",
              "  }\n",
              "\n",
              "  @keyframes spin {\n",
              "    0% {\n",
              "      border-color: transparent;\n",
              "      border-bottom-color: var(--fill-color);\n",
              "      border-left-color: var(--fill-color);\n",
              "    }\n",
              "    20% {\n",
              "      border-color: transparent;\n",
              "      border-left-color: var(--fill-color);\n",
              "      border-top-color: var(--fill-color);\n",
              "    }\n",
              "    30% {\n",
              "      border-color: transparent;\n",
              "      border-left-color: var(--fill-color);\n",
              "      border-top-color: var(--fill-color);\n",
              "      border-right-color: var(--fill-color);\n",
              "    }\n",
              "    40% {\n",
              "      border-color: transparent;\n",
              "      border-right-color: var(--fill-color);\n",
              "      border-top-color: var(--fill-color);\n",
              "    }\n",
              "    60% {\n",
              "      border-color: transparent;\n",
              "      border-right-color: var(--fill-color);\n",
              "    }\n",
              "    80% {\n",
              "      border-color: transparent;\n",
              "      border-right-color: var(--fill-color);\n",
              "      border-bottom-color: var(--fill-color);\n",
              "    }\n",
              "    90% {\n",
              "      border-color: transparent;\n",
              "      border-bottom-color: var(--fill-color);\n",
              "    }\n",
              "  }\n",
              "</style>\n",
              "\n",
              "  <script>\n",
              "    async function quickchart(key) {\n",
              "      const quickchartButtonEl =\n",
              "        document.querySelector('#' + key + ' button');\n",
              "      quickchartButtonEl.disabled = true;  // To prevent multiple clicks.\n",
              "      quickchartButtonEl.classList.add('colab-df-spinner');\n",
              "      try {\n",
              "        const charts = await google.colab.kernel.invokeFunction(\n",
              "            'suggestCharts', [key], {});\n",
              "      } catch (error) {\n",
              "        console.error('Error during call to suggestCharts:', error);\n",
              "      }\n",
              "      quickchartButtonEl.classList.remove('colab-df-spinner');\n",
              "      quickchartButtonEl.classList.add('colab-df-quickchart-complete');\n",
              "    }\n",
              "    (() => {\n",
              "      let quickchartButtonEl =\n",
              "        document.querySelector('#df-1c3bdee2-7b01-42af-9249-e3531223aaa5 button');\n",
              "      quickchartButtonEl.style.display =\n",
              "        google.colab.kernel.accessAllowed ? 'block' : 'none';\n",
              "    })();\n",
              "  </script>\n",
              "</div>\n",
              "    </div>\n",
              "  </div>\n"
            ],
            "application/vnd.google.colaboratory.intrinsic+json": {
              "type": "dataframe",
              "variable_name": "segmentation_table",
              "summary": "{\n  \"name\": \"segmentation_table\",\n  \"rows\": 4,\n  \"fields\": [\n    {\n      \"column\": [\n        \"Cluster\",\n        \"\"\n      ],\n      \"properties\": {\n        \"dtype\": \"int32\",\n        \"num_unique_values\": 4,\n        \"samples\": [\n          1,\n          3,\n          0\n        ],\n        \"semantic_type\": \"\",\n        \"description\": \"\"\n      }\n    },\n    {\n      \"column\": [\n        \"Age\",\n        \"mean\"\n      ],\n      \"properties\": {\n        \"dtype\": \"number\",\n        \"std\": 2.80729425023944,\n        \"min\": 51.4218487394958,\n        \"max\": 57.89855072463768,\n        \"num_unique_values\": 4,\n        \"samples\": [\n          57.89855072463768,\n          55.32167832167832,\n          51.4218487394958\n        ],\n        \"semantic_type\": \"\",\n        \"description\": \"\"\n      }\n    },\n    {\n      \"column\": [\n        \"Age\",\n        \"count\"\n      ],\n      \"properties\": {\n        \"dtype\": \"number\",\n        \"std\": 52,\n        \"min\": 483,\n        \"max\": 595,\n        \"num_unique_values\": 4,\n        \"samples\": [\n          483,\n          572,\n          595\n        ],\n        \"semantic_type\": \"\",\n        \"description\": \"\"\n      }\n    },\n    {\n      \"column\": [\n        \"Income\",\n        \"mean\"\n      ],\n      \"properties\": {\n        \"dtype\": \"number\",\n        \"std\": 15275.85314198505,\n        \"min\": 32716.52605042017,\n        \"max\": 69562.37966101695,\n        \"num_unique_values\": 4,\n        \"samples\": [\n          56450.207039337474,\n          51104.57692307692,\n          32716.52605042017\n        ],\n        \"semantic_type\": \"\",\n        \"description\": \"\"\n      }\n    },\n    {\n      \"column\": [\n        \"Income\",\n        \"count\"\n      ],\n      \"properties\": {\n        \"dtype\": \"number\",\n        \"std\": 52,\n        \"min\": 483,\n        \"max\": 595,\n        \"num_unique_values\": 4,\n        \"samples\": [\n          483,\n          572,\n          595\n        ],\n        \"semantic_type\": \"\",\n        \"description\": \"\"\n      }\n    },\n    {\n      \"column\": [\n        \"Years_Since_Registration\",\n        \"mean\"\n      ],\n      \"properties\": {\n        \"dtype\": \"number\",\n        \"std\": 0.02330770064120964,\n        \"min\": 10.942028985507246,\n        \"max\": 10.996638655462185,\n        \"num_unique_values\": 4,\n        \"samples\": [\n          10.942028985507246,\n          10.963286713286713,\n          10.996638655462185\n        ],\n        \"semantic_type\": \"\",\n        \"description\": \"\"\n      }\n    },\n    {\n      \"column\": [\n        \"Years_Since_Registration\",\n        \"count\"\n      ],\n      \"properties\": {\n        \"dtype\": \"number\",\n        \"std\": 52,\n        \"min\": 483,\n        \"max\": 595,\n        \"num_unique_values\": 4,\n        \"samples\": [\n          483,\n          572,\n          595\n        ],\n        \"semantic_type\": \"\",\n        \"description\": \"\"\n      }\n    },\n    {\n      \"column\": [\n        \"Recency\",\n        \"mean\"\n      ],\n      \"properties\": {\n        \"dtype\": \"number\",\n        \"std\": 1.0584249129942653,\n        \"min\": 47.96153846153846,\n        \"max\": 50.258823529411764,\n        \"num_unique_values\": 4,\n        \"samples\": [\n          48.42650103519669,\n          47.96153846153846,\n          50.258823529411764\n        ],\n        \"semantic_type\": \"\",\n        \"description\": \"\"\n      }\n    },\n    {\n      \"column\": [\n        \"Recency\",\n        \"count\"\n      ],\n      \"properties\": {\n        \"dtype\": \"number\",\n        \"std\": 52,\n        \"min\": 483,\n        \"max\": 595,\n        \"num_unique_values\": 4,\n        \"samples\": [\n          483,\n          572,\n          595\n        ],\n        \"semantic_type\": \"\",\n        \"description\": \"\"\n      }\n    },\n    {\n      \"column\": [\n        \"NumWebPurchases\",\n        \"mean\"\n      ],\n      \"properties\": {\n        \"dtype\": \"number\",\n        \"std\": 1.3876493446179161,\n        \"min\": 2.342857142857143,\n        \"max\": 5.693220338983051,\n        \"num_unique_values\": 4,\n        \"samples\": [\n          4.449275362318841,\n          3.93006993006993,\n          2.342857142857143\n        ],\n        \"semantic_type\": \"\",\n        \"description\": \"\"\n      }\n    },\n    {\n      \"column\": [\n        \"NumWebPurchases\",\n        \"count\"\n      ],\n      \"properties\": {\n        \"dtype\": \"number\",\n        \"std\": 52,\n        \"min\": 483,\n        \"max\": 595,\n        \"num_unique_values\": 4,\n        \"samples\": [\n          483,\n          572,\n          595\n        ],\n        \"semantic_type\": \"\",\n        \"description\": \"\"\n      }\n    },\n    {\n      \"column\": [\n        \"NumStorePurchases\",\n        \"mean\"\n      ],\n      \"properties\": {\n        \"dtype\": \"number\",\n        \"std\": 2.0382086625191307,\n        \"min\": 3.2016806722689077,\n        \"max\": 8.171186440677966,\n        \"num_unique_values\": 4,\n        \"samples\": [\n          6.097308488612836,\n          5.7674825174825175,\n          3.2016806722689077\n        ],\n        \"semantic_type\": \"\",\n        \"description\": \"\"\n      }\n    },\n    {\n      \"column\": [\n        \"NumStorePurchases\",\n        \"count\"\n      ],\n      \"properties\": {\n        \"dtype\": \"number\",\n        \"std\": 52,\n        \"min\": 483,\n        \"max\": 595,\n        \"num_unique_values\": 4,\n        \"samples\": [\n          483,\n          572,\n          595\n        ],\n        \"semantic_type\": \"\",\n        \"description\": \"\"\n      }\n    },\n    {\n      \"column\": [\n        \"NumWebVisitsMonth\",\n        \"mean\"\n      ],\n      \"properties\": {\n        \"dtype\": \"number\",\n        \"std\": 1.191245734167248,\n        \"min\": 3.947457627118644,\n        \"max\": 6.852100840336134,\n        \"num_unique_values\": 4,\n        \"samples\": [\n          5.169772256728779,\n          5.255244755244755,\n          6.852100840336134\n        ],\n        \"semantic_type\": \"\",\n        \"description\": \"\"\n      }\n    },\n    {\n      \"column\": [\n        \"NumWebVisitsMonth\",\n        \"count\"\n      ],\n      \"properties\": {\n        \"dtype\": \"number\",\n        \"std\": 52,\n        \"min\": 483,\n        \"max\": 595,\n        \"num_unique_values\": 4,\n        \"samples\": [\n          483,\n          572,\n          595\n        ],\n        \"semantic_type\": \"\",\n        \"description\": \"\"\n      }\n    }\n  ]\n}"
            }
          },
          "metadata": {},
          "execution_count": 278
        }
      ]
    },
    {
      "cell_type": "code",
      "source": [
        "# Menyimpan tabel segmentasi ke dalam file CSV\n",
        "segmentation_table.to_csv('segmentation_table.csv')"
      ],
      "metadata": {
        "id": "NfBfdyYH3NI-"
      },
      "execution_count": null,
      "outputs": []
    },
    {
      "cell_type": "markdown",
      "source": [
        "No. 2"
      ],
      "metadata": {
        "id": "sse_IKva4SM5"
      }
    },
    {
      "cell_type": "code",
      "source": [
        "data_laptop.Company.value_counts().to_frame()"
      ],
      "metadata": {
        "colab": {
          "base_uri": "https://localhost:8080/",
          "height": 676
        },
        "id": "7yBzH6JZ4-KX",
        "outputId": "bde63162-bc69-47af-ec1d-ef80edb62634"
      },
      "execution_count": null,
      "outputs": [
        {
          "output_type": "execute_result",
          "data": {
            "text/plain": [
              "           count\n",
              "Company         \n",
              "Dell         291\n",
              "Lenovo       289\n",
              "HP           268\n",
              "Asus         151\n",
              "Acer         101\n",
              "MSI           54\n",
              "Toshiba       47\n",
              "Apple         21\n",
              "Samsung        8\n",
              "Mediacom       7\n",
              "Microsoft      6\n",
              "Razer          6\n",
              "Xiaomi         4\n",
              "Vero           4\n",
              "Chuwi          3\n",
              "Google         3\n",
              "Fujitsu        3\n",
              "LG             3\n",
              "Huawei         2"
            ],
            "text/html": [
              "\n",
              "  <div id=\"df-a6f4e32a-b761-4f30-9dea-5cefc7e692f2\" class=\"colab-df-container\">\n",
              "    <div>\n",
              "<style scoped>\n",
              "    .dataframe tbody tr th:only-of-type {\n",
              "        vertical-align: middle;\n",
              "    }\n",
              "\n",
              "    .dataframe tbody tr th {\n",
              "        vertical-align: top;\n",
              "    }\n",
              "\n",
              "    .dataframe thead th {\n",
              "        text-align: right;\n",
              "    }\n",
              "</style>\n",
              "<table border=\"1\" class=\"dataframe\">\n",
              "  <thead>\n",
              "    <tr style=\"text-align: right;\">\n",
              "      <th></th>\n",
              "      <th>count</th>\n",
              "    </tr>\n",
              "    <tr>\n",
              "      <th>Company</th>\n",
              "      <th></th>\n",
              "    </tr>\n",
              "  </thead>\n",
              "  <tbody>\n",
              "    <tr>\n",
              "      <th>Dell</th>\n",
              "      <td>291</td>\n",
              "    </tr>\n",
              "    <tr>\n",
              "      <th>Lenovo</th>\n",
              "      <td>289</td>\n",
              "    </tr>\n",
              "    <tr>\n",
              "      <th>HP</th>\n",
              "      <td>268</td>\n",
              "    </tr>\n",
              "    <tr>\n",
              "      <th>Asus</th>\n",
              "      <td>151</td>\n",
              "    </tr>\n",
              "    <tr>\n",
              "      <th>Acer</th>\n",
              "      <td>101</td>\n",
              "    </tr>\n",
              "    <tr>\n",
              "      <th>MSI</th>\n",
              "      <td>54</td>\n",
              "    </tr>\n",
              "    <tr>\n",
              "      <th>Toshiba</th>\n",
              "      <td>47</td>\n",
              "    </tr>\n",
              "    <tr>\n",
              "      <th>Apple</th>\n",
              "      <td>21</td>\n",
              "    </tr>\n",
              "    <tr>\n",
              "      <th>Samsung</th>\n",
              "      <td>8</td>\n",
              "    </tr>\n",
              "    <tr>\n",
              "      <th>Mediacom</th>\n",
              "      <td>7</td>\n",
              "    </tr>\n",
              "    <tr>\n",
              "      <th>Microsoft</th>\n",
              "      <td>6</td>\n",
              "    </tr>\n",
              "    <tr>\n",
              "      <th>Razer</th>\n",
              "      <td>6</td>\n",
              "    </tr>\n",
              "    <tr>\n",
              "      <th>Xiaomi</th>\n",
              "      <td>4</td>\n",
              "    </tr>\n",
              "    <tr>\n",
              "      <th>Vero</th>\n",
              "      <td>4</td>\n",
              "    </tr>\n",
              "    <tr>\n",
              "      <th>Chuwi</th>\n",
              "      <td>3</td>\n",
              "    </tr>\n",
              "    <tr>\n",
              "      <th>Google</th>\n",
              "      <td>3</td>\n",
              "    </tr>\n",
              "    <tr>\n",
              "      <th>Fujitsu</th>\n",
              "      <td>3</td>\n",
              "    </tr>\n",
              "    <tr>\n",
              "      <th>LG</th>\n",
              "      <td>3</td>\n",
              "    </tr>\n",
              "    <tr>\n",
              "      <th>Huawei</th>\n",
              "      <td>2</td>\n",
              "    </tr>\n",
              "  </tbody>\n",
              "</table>\n",
              "</div>\n",
              "    <div class=\"colab-df-buttons\">\n",
              "\n",
              "  <div class=\"colab-df-container\">\n",
              "    <button class=\"colab-df-convert\" onclick=\"convertToInteractive('df-a6f4e32a-b761-4f30-9dea-5cefc7e692f2')\"\n",
              "            title=\"Convert this dataframe to an interactive table.\"\n",
              "            style=\"display:none;\">\n",
              "\n",
              "  <svg xmlns=\"http://www.w3.org/2000/svg\" height=\"24px\" viewBox=\"0 -960 960 960\">\n",
              "    <path d=\"M120-120v-720h720v720H120Zm60-500h600v-160H180v160Zm220 220h160v-160H400v160Zm0 220h160v-160H400v160ZM180-400h160v-160H180v160Zm440 0h160v-160H620v160ZM180-180h160v-160H180v160Zm440 0h160v-160H620v160Z\"/>\n",
              "  </svg>\n",
              "    </button>\n",
              "\n",
              "  <style>\n",
              "    .colab-df-container {\n",
              "      display:flex;\n",
              "      gap: 12px;\n",
              "    }\n",
              "\n",
              "    .colab-df-convert {\n",
              "      background-color: #E8F0FE;\n",
              "      border: none;\n",
              "      border-radius: 50%;\n",
              "      cursor: pointer;\n",
              "      display: none;\n",
              "      fill: #1967D2;\n",
              "      height: 32px;\n",
              "      padding: 0 0 0 0;\n",
              "      width: 32px;\n",
              "    }\n",
              "\n",
              "    .colab-df-convert:hover {\n",
              "      background-color: #E2EBFA;\n",
              "      box-shadow: 0px 1px 2px rgba(60, 64, 67, 0.3), 0px 1px 3px 1px rgba(60, 64, 67, 0.15);\n",
              "      fill: #174EA6;\n",
              "    }\n",
              "\n",
              "    .colab-df-buttons div {\n",
              "      margin-bottom: 4px;\n",
              "    }\n",
              "\n",
              "    [theme=dark] .colab-df-convert {\n",
              "      background-color: #3B4455;\n",
              "      fill: #D2E3FC;\n",
              "    }\n",
              "\n",
              "    [theme=dark] .colab-df-convert:hover {\n",
              "      background-color: #434B5C;\n",
              "      box-shadow: 0px 1px 3px 1px rgba(0, 0, 0, 0.15);\n",
              "      filter: drop-shadow(0px 1px 2px rgba(0, 0, 0, 0.3));\n",
              "      fill: #FFFFFF;\n",
              "    }\n",
              "  </style>\n",
              "\n",
              "    <script>\n",
              "      const buttonEl =\n",
              "        document.querySelector('#df-a6f4e32a-b761-4f30-9dea-5cefc7e692f2 button.colab-df-convert');\n",
              "      buttonEl.style.display =\n",
              "        google.colab.kernel.accessAllowed ? 'block' : 'none';\n",
              "\n",
              "      async function convertToInteractive(key) {\n",
              "        const element = document.querySelector('#df-a6f4e32a-b761-4f30-9dea-5cefc7e692f2');\n",
              "        const dataTable =\n",
              "          await google.colab.kernel.invokeFunction('convertToInteractive',\n",
              "                                                    [key], {});\n",
              "        if (!dataTable) return;\n",
              "\n",
              "        const docLinkHtml = 'Like what you see? Visit the ' +\n",
              "          '<a target=\"_blank\" href=https://colab.research.google.com/notebooks/data_table.ipynb>data table notebook</a>'\n",
              "          + ' to learn more about interactive tables.';\n",
              "        element.innerHTML = '';\n",
              "        dataTable['output_type'] = 'display_data';\n",
              "        await google.colab.output.renderOutput(dataTable, element);\n",
              "        const docLink = document.createElement('div');\n",
              "        docLink.innerHTML = docLinkHtml;\n",
              "        element.appendChild(docLink);\n",
              "      }\n",
              "    </script>\n",
              "  </div>\n",
              "\n",
              "\n",
              "<div id=\"df-355fc632-0157-4fdc-ac3c-75fa894f7d46\">\n",
              "  <button class=\"colab-df-quickchart\" onclick=\"quickchart('df-355fc632-0157-4fdc-ac3c-75fa894f7d46')\"\n",
              "            title=\"Suggest charts\"\n",
              "            style=\"display:none;\">\n",
              "\n",
              "<svg xmlns=\"http://www.w3.org/2000/svg\" height=\"24px\"viewBox=\"0 0 24 24\"\n",
              "     width=\"24px\">\n",
              "    <g>\n",
              "        <path d=\"M19 3H5c-1.1 0-2 .9-2 2v14c0 1.1.9 2 2 2h14c1.1 0 2-.9 2-2V5c0-1.1-.9-2-2-2zM9 17H7v-7h2v7zm4 0h-2V7h2v10zm4 0h-2v-4h2v4z\"/>\n",
              "    </g>\n",
              "</svg>\n",
              "  </button>\n",
              "\n",
              "<style>\n",
              "  .colab-df-quickchart {\n",
              "      --bg-color: #E8F0FE;\n",
              "      --fill-color: #1967D2;\n",
              "      --hover-bg-color: #E2EBFA;\n",
              "      --hover-fill-color: #174EA6;\n",
              "      --disabled-fill-color: #AAA;\n",
              "      --disabled-bg-color: #DDD;\n",
              "  }\n",
              "\n",
              "  [theme=dark] .colab-df-quickchart {\n",
              "      --bg-color: #3B4455;\n",
              "      --fill-color: #D2E3FC;\n",
              "      --hover-bg-color: #434B5C;\n",
              "      --hover-fill-color: #FFFFFF;\n",
              "      --disabled-bg-color: #3B4455;\n",
              "      --disabled-fill-color: #666;\n",
              "  }\n",
              "\n",
              "  .colab-df-quickchart {\n",
              "    background-color: var(--bg-color);\n",
              "    border: none;\n",
              "    border-radius: 50%;\n",
              "    cursor: pointer;\n",
              "    display: none;\n",
              "    fill: var(--fill-color);\n",
              "    height: 32px;\n",
              "    padding: 0;\n",
              "    width: 32px;\n",
              "  }\n",
              "\n",
              "  .colab-df-quickchart:hover {\n",
              "    background-color: var(--hover-bg-color);\n",
              "    box-shadow: 0 1px 2px rgba(60, 64, 67, 0.3), 0 1px 3px 1px rgba(60, 64, 67, 0.15);\n",
              "    fill: var(--button-hover-fill-color);\n",
              "  }\n",
              "\n",
              "  .colab-df-quickchart-complete:disabled,\n",
              "  .colab-df-quickchart-complete:disabled:hover {\n",
              "    background-color: var(--disabled-bg-color);\n",
              "    fill: var(--disabled-fill-color);\n",
              "    box-shadow: none;\n",
              "  }\n",
              "\n",
              "  .colab-df-spinner {\n",
              "    border: 2px solid var(--fill-color);\n",
              "    border-color: transparent;\n",
              "    border-bottom-color: var(--fill-color);\n",
              "    animation:\n",
              "      spin 1s steps(1) infinite;\n",
              "  }\n",
              "\n",
              "  @keyframes spin {\n",
              "    0% {\n",
              "      border-color: transparent;\n",
              "      border-bottom-color: var(--fill-color);\n",
              "      border-left-color: var(--fill-color);\n",
              "    }\n",
              "    20% {\n",
              "      border-color: transparent;\n",
              "      border-left-color: var(--fill-color);\n",
              "      border-top-color: var(--fill-color);\n",
              "    }\n",
              "    30% {\n",
              "      border-color: transparent;\n",
              "      border-left-color: var(--fill-color);\n",
              "      border-top-color: var(--fill-color);\n",
              "      border-right-color: var(--fill-color);\n",
              "    }\n",
              "    40% {\n",
              "      border-color: transparent;\n",
              "      border-right-color: var(--fill-color);\n",
              "      border-top-color: var(--fill-color);\n",
              "    }\n",
              "    60% {\n",
              "      border-color: transparent;\n",
              "      border-right-color: var(--fill-color);\n",
              "    }\n",
              "    80% {\n",
              "      border-color: transparent;\n",
              "      border-right-color: var(--fill-color);\n",
              "      border-bottom-color: var(--fill-color);\n",
              "    }\n",
              "    90% {\n",
              "      border-color: transparent;\n",
              "      border-bottom-color: var(--fill-color);\n",
              "    }\n",
              "  }\n",
              "</style>\n",
              "\n",
              "  <script>\n",
              "    async function quickchart(key) {\n",
              "      const quickchartButtonEl =\n",
              "        document.querySelector('#' + key + ' button');\n",
              "      quickchartButtonEl.disabled = true;  // To prevent multiple clicks.\n",
              "      quickchartButtonEl.classList.add('colab-df-spinner');\n",
              "      try {\n",
              "        const charts = await google.colab.kernel.invokeFunction(\n",
              "            'suggestCharts', [key], {});\n",
              "      } catch (error) {\n",
              "        console.error('Error during call to suggestCharts:', error);\n",
              "      }\n",
              "      quickchartButtonEl.classList.remove('colab-df-spinner');\n",
              "      quickchartButtonEl.classList.add('colab-df-quickchart-complete');\n",
              "    }\n",
              "    (() => {\n",
              "      let quickchartButtonEl =\n",
              "        document.querySelector('#df-355fc632-0157-4fdc-ac3c-75fa894f7d46 button');\n",
              "      quickchartButtonEl.style.display =\n",
              "        google.colab.kernel.accessAllowed ? 'block' : 'none';\n",
              "    })();\n",
              "  </script>\n",
              "</div>\n",
              "    </div>\n",
              "  </div>\n"
            ],
            "application/vnd.google.colaboratory.intrinsic+json": {
              "type": "dataframe",
              "summary": "{\n  \"name\": \"data_laptop\",\n  \"rows\": 19,\n  \"fields\": [\n    {\n      \"column\": \"Company\",\n      \"properties\": {\n        \"dtype\": \"string\",\n        \"num_unique_values\": 19,\n        \"samples\": [\n          \"Dell\",\n          \"MSI\",\n          \"Razer\"\n        ],\n        \"semantic_type\": \"\",\n        \"description\": \"\"\n      }\n    },\n    {\n      \"column\": \"count\",\n      \"properties\": {\n        \"dtype\": \"number\",\n        \"std\": 103,\n        \"min\": 2,\n        \"max\": 291,\n        \"num_unique_values\": 14,\n        \"samples\": [\n          7,\n          4,\n          291\n        ],\n        \"semantic_type\": \"\",\n        \"description\": \"\"\n      }\n    }\n  ]\n}"
            }
          },
          "metadata": {},
          "execution_count": 50
        }
      ]
    },
    {
      "cell_type": "code",
      "source": [
        "sns.boxplot(x='TouchScreen',y='Price',data=data_laptop)"
      ],
      "metadata": {
        "colab": {
          "base_uri": "https://localhost:8080/",
          "height": 466
        },
        "id": "z7SU8XOg57nB",
        "outputId": "1c980a2b-7413-43cb-9338-946d5e883e55"
      },
      "execution_count": null,
      "outputs": [
        {
          "output_type": "execute_result",
          "data": {
            "text/plain": [
              "<Axes: xlabel='TouchScreen', ylabel='Price'>"
            ]
          },
          "metadata": {},
          "execution_count": 51
        },
        {
          "output_type": "display_data",
          "data": {
            "text/plain": [
              "<Figure size 640x480 with 1 Axes>"
            ],
            "image/png": "[encoded data removed]"
          },
          "metadata": {}
        }
      ]
    },
    {
      "cell_type": "code",
      "source": [
        "#fungsi regplot pada seaborn library untuk menentukan apakah fitur-fitur yang ada  berkorelasi negatif atau positif terhadap price\n",
        "#fitur Ram\n",
        "sns.regplot(x=data_laptop[\"Ram\"],y=data_laptop[\"Price\"],data=data_laptop)\n",
        "plt.ylim(0,)"
      ],
      "metadata": {
        "colab": {
          "base_uri": "https://localhost:8080/",
          "height": 466
        },
        "id": "uIUFB2ZQ62ej",
        "outputId": "f1b5d2eb-2e3a-4a01-cd61-8a6668776bee"
      },
      "execution_count": null,
      "outputs": [
        {
          "output_type": "execute_result",
          "data": {
            "text/plain": [
              "(0.0, 16.4874008138427)"
            ]
          },
          "metadata": {},
          "execution_count": 52
        },
        {
          "output_type": "display_data",
          "data": {
            "text/plain": [
              "<Figure size 640x480 with 1 Axes>"
            ],
            "image/png": "[encoded data removed]"
          },
          "metadata": {}
        }
      ]
    },
    {
      "cell_type": "code",
      "source": [
        "#fitur Weight\n",
        "sns.regplot(x=data_laptop[\"Weight\"],y=data_laptop[\"Price\"],data=data_laptop)\n",
        "plt.ylim(0,)"
      ],
      "metadata": {
        "colab": {
          "base_uri": "https://localhost:8080/",
          "height": 466
        },
        "id": "1qtVSPdB7LGQ",
        "outputId": "7e56335b-b7af-437f-8e01-704bdf5c7e6d"
      },
      "execution_count": null,
      "outputs": [
        {
          "output_type": "execute_result",
          "data": {
            "text/plain": [
              "(0.0, 12.760545874604611)"
            ]
          },
          "metadata": {},
          "execution_count": 53
        },
        {
          "output_type": "display_data",
          "data": {
            "text/plain": [
              "<Figure size 640x480 with 1 Axes>"
            ],
            "image/png": "[encoded data removed]"
          },
          "metadata": {}
        }
      ]
    },
    {
      "cell_type": "code",
      "source": [
        "#fitur TouchScreen\n",
        "sns.regplot(x=data_laptop[\"TouchScreen\"],y=data_laptop[\"Price\"],data=data_laptop)\n",
        "plt.ylim(0,)"
      ],
      "metadata": {
        "colab": {
          "base_uri": "https://localhost:8080/",
          "height": 466
        },
        "id": "kn3w1y9x7R_W",
        "outputId": "e82763f7-d1ed-463c-bcee-a99a666e6471"
      },
      "execution_count": null,
      "outputs": [
        {
          "output_type": "execute_result",
          "data": {
            "text/plain": [
              "(0.0, 12.760545874604611)"
            ]
          },
          "metadata": {},
          "execution_count": 54
        },
        {
          "output_type": "display_data",
          "data": {
            "text/plain": [
              "<Figure size 640x480 with 1 Axes>"
            ],
            "image/png": "[encoded data removed]"
          },
          "metadata": {}
        }
      ]
    },
    {
      "cell_type": "code",
      "source": [
        "#fitur Ppi\n",
        "sns.regplot(x=data_laptop[\"Ppi\"],y=data_laptop[\"Price\"],data=data_laptop)\n",
        "plt.ylim(0,)"
      ],
      "metadata": {
        "colab": {
          "base_uri": "https://localhost:8080/",
          "height": 466
        },
        "id": "kjsno2pz7fjD",
        "outputId": "3d8683fc-fb66-4a69-cb72-db3e226e7e20"
      },
      "execution_count": null,
      "outputs": [
        {
          "output_type": "execute_result",
          "data": {
            "text/plain": [
              "(0.0, 12.760545874604611)"
            ]
          },
          "metadata": {},
          "execution_count": 55
        },
        {
          "output_type": "display_data",
          "data": {
            "text/plain": [
              "<Figure size 640x480 with 1 Axes>"
            ],
            "image/png": "[encoded data removed]"
          },
          "metadata": {}
        }
      ]
    },
    {
      "cell_type": "code",
      "source": [
        "#fitur Ips\n",
        "sns.regplot(x=data_laptop[\"Ips\"],y=data_laptop[\"Price\"],data=data_laptop)\n",
        "plt.ylim(0,)"
      ],
      "metadata": {
        "colab": {
          "base_uri": "https://localhost:8080/",
          "height": 466
        },
        "id": "q78-9scf8mJe",
        "outputId": "4a29f6dc-2743-43d0-dd8b-09856e6dae0f"
      },
      "execution_count": null,
      "outputs": [
        {
          "output_type": "execute_result",
          "data": {
            "text/plain": [
              "(0.0, 12.760545874604611)"
            ]
          },
          "metadata": {},
          "execution_count": 56
        },
        {
          "output_type": "display_data",
          "data": {
            "text/plain": [
              "<Figure size 640x480 with 1 Axes>"
            ],
            "image/png": "[encoded data removed]"
          },
          "metadata": {}
        }
      ]
    },
    {
      "cell_type": "code",
      "source": [
        "#fitur HDD\n",
        "sns.regplot(x=data_laptop[\"HDD\"],y=data_laptop[\"Price\"],data=data_laptop)\n",
        "plt.ylim(0,)"
      ],
      "metadata": {
        "colab": {
          "base_uri": "https://localhost:8080/",
          "height": 466
        },
        "id": "rbXS8d9W7yDw",
        "outputId": "5c8ed87e-7d45-4f05-83eb-8a79e10298d2"
      },
      "execution_count": null,
      "outputs": [
        {
          "output_type": "execute_result",
          "data": {
            "text/plain": [
              "(0.0, 12.760545874604611)"
            ]
          },
          "metadata": {},
          "execution_count": 57
        },
        {
          "output_type": "display_data",
          "data": {
            "text/plain": [
              "<Figure size 640x480 with 1 Axes>"
            ],
            "image/png": "[encoded data removed]"
          },
          "metadata": {}
        }
      ]
    },
    {
      "cell_type": "code",
      "source": [
        "#fitur SSD\n",
        "sns.regplot(x=data_laptop[\"SSD\"],y=data_laptop[\"Price\"],data=data_laptop)\n",
        "plt.ylim(0,)"
      ],
      "metadata": {
        "colab": {
          "base_uri": "https://localhost:8080/",
          "height": 466
        },
        "id": "lA0RTcH072SX",
        "outputId": "01aa70bd-4b47-4594-d849-e886cfe2e379"
      },
      "execution_count": null,
      "outputs": [
        {
          "output_type": "execute_result",
          "data": {
            "text/plain": [
              "(0.0, 12.994419800994551)"
            ]
          },
          "metadata": {},
          "execution_count": 58
        },
        {
          "output_type": "display_data",
          "data": {
            "text/plain": [
              "<Figure size 640x480 with 1 Axes>"
            ],
            "image/png": "[encoded data removed]"
          },
          "metadata": {}
        }
      ]
    },
    {
      "cell_type": "code",
      "source": [
        "encoder = LabelEncoder()\n",
        "data_laptop['Company']=encoder.fit_transform(data_laptop['Company'])\n",
        "data_laptop['TypeName']=encoder.fit_transform(data_laptop['TypeName'])\n",
        "data_laptop['Cpu_brand']=encoder.fit_transform(data_laptop['Cpu_brand'])\n",
        "data_laptop['Gpu_brand']=encoder.fit_transform(data_laptop['Gpu_brand'])\n",
        "data_laptop['Os']=encoder.fit_transform(data_laptop['Os'])"
      ],
      "metadata": {
        "id": "CUovwvaCEsmy"
      },
      "execution_count": null,
      "outputs": []
    },
    {
      "cell_type": "code",
      "source": [
        "print(data_laptop.head(15))"
      ],
      "metadata": {
        "colab": {
          "base_uri": "https://localhost:8080/"
        },
        "id": "cCQdtVOtB63f",
        "outputId": "50c6463d-c303-430b-f46b-c31fd4e50b60"
      },
      "execution_count": null,
      "outputs": [
        {
          "output_type": "stream",
          "name": "stdout",
          "text": [
            "    Company  TypeName  Ram  Weight      Price  TouchScreen  Ips         Ppi  \\\n",
            "0         1         4    8    1.37  11.175755            0    1  226.983005   \n",
            "1         1         4    8    1.34  10.776777            0    0  127.677940   \n",
            "2         7         3    8    1.86  10.329931            0    0  141.211998   \n",
            "3         1         4   16    1.83  11.814476            0    1  220.534624   \n",
            "4         1         4    8    1.37  11.473101            0    1  226.983005   \n",
            "5         0         3    4    2.10   9.967026            0    0  100.454670   \n",
            "6         1         4   16    2.04  11.644108            0    1  220.534624   \n",
            "7         1         4    8    1.34  11.030615            0    0  127.677940   \n",
            "8         2         4   16    1.30  11.285443            0    0  157.350512   \n",
            "9         0         4    8    1.60  10.621952            0    1  157.350512   \n",
            "10        7         3    4    1.86   9.951658            0    0  100.454670   \n",
            "11        7         3    4    1.86   9.819076            0    0  141.211998   \n",
            "12        1         4   16    1.83  11.775302            0    1  220.534624   \n",
            "13        4         3    4    2.20  10.187967            0    0  141.211998   \n",
            "14        1         4    8    0.92  11.116331            0    1  226.415547   \n",
            "\n",
            "    Cpu_brand  HDD  SSD  Gpu_brand  Os  \n",
            "0           2    0  128          1   0  \n",
            "1           2    0    0          1   0  \n",
            "2           2    0  256          1   1  \n",
            "3           3    0  512          0   0  \n",
            "4           2    0  256          1   0  \n",
            "5           0  500    0          0   2  \n",
            "6           3    0    0          1   0  \n",
            "7           2    0    0          1   0  \n",
            "8           3    0  512          2   2  \n",
            "9           2    0  256          1   2  \n",
            "10          2  500    0          1   1  \n",
            "11          1  500    0          1   1  \n",
            "12          3    0  256          0   0  \n",
            "13          1    0  256          0   2  \n",
            "14          4    0  256          1   0  \n"
          ]
        }
      ]
    },
    {
      "cell_type": "code",
      "source": [
        "data_laptop.Company.value_counts().to_frame()"
      ],
      "metadata": {
        "id": "X3dlwMQiXfqa",
        "colab": {
          "base_uri": "https://localhost:8080/",
          "height": 676
        },
        "outputId": "3ba50c9c-dc1e-4474-d369-707bd5da9dc0"
      },
      "execution_count": null,
      "outputs": [
        {
          "output_type": "execute_result",
          "data": {
            "text/plain": [
              "         count\n",
              "Company       \n",
              "4          291\n",
              "10         289\n",
              "7          268\n",
              "2          151\n",
              "0          101\n",
              "11          54\n",
              "16          47\n",
              "1           21\n",
              "15           8\n",
              "12           7\n",
              "13           6\n",
              "14           6\n",
              "18           4\n",
              "17           4\n",
              "3            3\n",
              "6            3\n",
              "5            3\n",
              "9            3\n",
              "8            2"
            ],
            "text/html": [
              "\n",
              "  <div id=\"df-f65720a6-aba4-4983-bc55-afbcc68d7259\" class=\"colab-df-container\">\n",
              "    <div>\n",
              "<style scoped>\n",
              "    .dataframe tbody tr th:only-of-type {\n",
              "        vertical-align: middle;\n",
              "    }\n",
              "\n",
              "    .dataframe tbody tr th {\n",
              "        vertical-align: top;\n",
              "    }\n",
              "\n",
              "    .dataframe thead th {\n",
              "        text-align: right;\n",
              "    }\n",
              "</style>\n",
              "<table border=\"1\" class=\"dataframe\">\n",
              "  <thead>\n",
              "    <tr style=\"text-align: right;\">\n",
              "      <th></th>\n",
              "      <th>count</th>\n",
              "    </tr>\n",
              "    <tr>\n",
              "      <th>Company</th>\n",
              "      <th></th>\n",
              "    </tr>\n",
              "  </thead>\n",
              "  <tbody>\n",
              "    <tr>\n",
              "      <th>4</th>\n",
              "      <td>291</td>\n",
              "    </tr>\n",
              "    <tr>\n",
              "      <th>10</th>\n",
              "      <td>289</td>\n",
              "    </tr>\n",
              "    <tr>\n",
              "      <th>7</th>\n",
              "      <td>268</td>\n",
              "    </tr>\n",
              "    <tr>\n",
              "      <th>2</th>\n",
              "      <td>151</td>\n",
              "    </tr>\n",
              "    <tr>\n",
              "      <th>0</th>\n",
              "      <td>101</td>\n",
              "    </tr>\n",
              "    <tr>\n",
              "      <th>11</th>\n",
              "      <td>54</td>\n",
              "    </tr>\n",
              "    <tr>\n",
              "      <th>16</th>\n",
              "      <td>47</td>\n",
              "    </tr>\n",
              "    <tr>\n",
              "      <th>1</th>\n",
              "      <td>21</td>\n",
              "    </tr>\n",
              "    <tr>\n",
              "      <th>15</th>\n",
              "      <td>8</td>\n",
              "    </tr>\n",
              "    <tr>\n",
              "      <th>12</th>\n",
              "      <td>7</td>\n",
              "    </tr>\n",
              "    <tr>\n",
              "      <th>13</th>\n",
              "      <td>6</td>\n",
              "    </tr>\n",
              "    <tr>\n",
              "      <th>14</th>\n",
              "      <td>6</td>\n",
              "    </tr>\n",
              "    <tr>\n",
              "      <th>18</th>\n",
              "      <td>4</td>\n",
              "    </tr>\n",
              "    <tr>\n",
              "      <th>17</th>\n",
              "      <td>4</td>\n",
              "    </tr>\n",
              "    <tr>\n",
              "      <th>3</th>\n",
              "      <td>3</td>\n",
              "    </tr>\n",
              "    <tr>\n",
              "      <th>6</th>\n",
              "      <td>3</td>\n",
              "    </tr>\n",
              "    <tr>\n",
              "      <th>5</th>\n",
              "      <td>3</td>\n",
              "    </tr>\n",
              "    <tr>\n",
              "      <th>9</th>\n",
              "      <td>3</td>\n",
              "    </tr>\n",
              "    <tr>\n",
              "      <th>8</th>\n",
              "      <td>2</td>\n",
              "    </tr>\n",
              "  </tbody>\n",
              "</table>\n",
              "</div>\n",
              "    <div class=\"colab-df-buttons\">\n",
              "\n",
              "  <div class=\"colab-df-container\">\n",
              "    <button class=\"colab-df-convert\" onclick=\"convertToInteractive('df-f65720a6-aba4-4983-bc55-afbcc68d7259')\"\n",
              "            title=\"Convert this dataframe to an interactive table.\"\n",
              "            style=\"display:none;\">\n",
              "\n",
              "  <svg xmlns=\"http://www.w3.org/2000/svg\" height=\"24px\" viewBox=\"0 -960 960 960\">\n",
              "    <path d=\"M120-120v-720h720v720H120Zm60-500h600v-160H180v160Zm220 220h160v-160H400v160Zm0 220h160v-160H400v160ZM180-400h160v-160H180v160Zm440 0h160v-160H620v160ZM180-180h160v-160H180v160Zm440 0h160v-160H620v160Z\"/>\n",
              "  </svg>\n",
              "    </button>\n",
              "\n",
              "  <style>\n",
              "    .colab-df-container {\n",
              "      display:flex;\n",
              "      gap: 12px;\n",
              "    }\n",
              "\n",
              "    .colab-df-convert {\n",
              "      background-color: #E8F0FE;\n",
              "      border: none;\n",
              "      border-radius: 50%;\n",
              "      cursor: pointer;\n",
              "      display: none;\n",
              "      fill: #1967D2;\n",
              "      height: 32px;\n",
              "      padding: 0 0 0 0;\n",
              "      width: 32px;\n",
              "    }\n",
              "\n",
              "    .colab-df-convert:hover {\n",
              "      background-color: #E2EBFA;\n",
              "      box-shadow: 0px 1px 2px rgba(60, 64, 67, 0.3), 0px 1px 3px 1px rgba(60, 64, 67, 0.15);\n",
              "      fill: #174EA6;\n",
              "    }\n",
              "\n",
              "    .colab-df-buttons div {\n",
              "      margin-bottom: 4px;\n",
              "    }\n",
              "\n",
              "    [theme=dark] .colab-df-convert {\n",
              "      background-color: #3B4455;\n",
              "      fill: #D2E3FC;\n",
              "    }\n",
              "\n",
              "    [theme=dark] .colab-df-convert:hover {\n",
              "      background-color: #434B5C;\n",
              "      box-shadow: 0px 1px 3px 1px rgba(0, 0, 0, 0.15);\n",
              "      filter: drop-shadow(0px 1px 2px rgba(0, 0, 0, 0.3));\n",
              "      fill: #FFFFFF;\n",
              "    }\n",
              "  </style>\n",
              "\n",
              "    <script>\n",
              "      const buttonEl =\n",
              "        document.querySelector('#df-f65720a6-aba4-4983-bc55-afbcc68d7259 button.colab-df-convert');\n",
              "      buttonEl.style.display =\n",
              "        google.colab.kernel.accessAllowed ? 'block' : 'none';\n",
              "\n",
              "      async function convertToInteractive(key) {\n",
              "        const element = document.querySelector('#df-f65720a6-aba4-4983-bc55-afbcc68d7259');\n",
              "        const dataTable =\n",
              "          await google.colab.kernel.invokeFunction('convertToInteractive',\n",
              "                                                    [key], {});\n",
              "        if (!dataTable) return;\n",
              "\n",
              "        const docLinkHtml = 'Like what you see? Visit the ' +\n",
              "          '<a target=\"_blank\" href=https://colab.research.google.com/notebooks/data_table.ipynb>data table notebook</a>'\n",
              "          + ' to learn more about interactive tables.';\n",
              "        element.innerHTML = '';\n",
              "        dataTable['output_type'] = 'display_data';\n",
              "        await google.colab.output.renderOutput(dataTable, element);\n",
              "        const docLink = document.createElement('div');\n",
              "        docLink.innerHTML = docLinkHtml;\n",
              "        element.appendChild(docLink);\n",
              "      }\n",
              "    </script>\n",
              "  </div>\n",
              "\n",
              "\n",
              "<div id=\"df-bdcf8159-1348-4d5e-a7eb-1132db014f56\">\n",
              "  <button class=\"colab-df-quickchart\" onclick=\"quickchart('df-bdcf8159-1348-4d5e-a7eb-1132db014f56')\"\n",
              "            title=\"Suggest charts\"\n",
              "            style=\"display:none;\">\n",
              "\n",
              "<svg xmlns=\"http://www.w3.org/2000/svg\" height=\"24px\"viewBox=\"0 0 24 24\"\n",
              "     width=\"24px\">\n",
              "    <g>\n",
              "        <path d=\"M19 3H5c-1.1 0-2 .9-2 2v14c0 1.1.9 2 2 2h14c1.1 0 2-.9 2-2V5c0-1.1-.9-2-2-2zM9 17H7v-7h2v7zm4 0h-2V7h2v10zm4 0h-2v-4h2v4z\"/>\n",
              "    </g>\n",
              "</svg>\n",
              "  </button>\n",
              "\n",
              "<style>\n",
              "  .colab-df-quickchart {\n",
              "      --bg-color: #E8F0FE;\n",
              "      --fill-color: #1967D2;\n",
              "      --hover-bg-color: #E2EBFA;\n",
              "      --hover-fill-color: #174EA6;\n",
              "      --disabled-fill-color: #AAA;\n",
              "      --disabled-bg-color: #DDD;\n",
              "  }\n",
              "\n",
              "  [theme=dark] .colab-df-quickchart {\n",
              "      --bg-color: #3B4455;\n",
              "      --fill-color: #D2E3FC;\n",
              "      --hover-bg-color: #434B5C;\n",
              "      --hover-fill-color: #FFFFFF;\n",
              "      --disabled-bg-color: #3B4455;\n",
              "      --disabled-fill-color: #666;\n",
              "  }\n",
              "\n",
              "  .colab-df-quickchart {\n",
              "    background-color: var(--bg-color);\n",
              "    border: none;\n",
              "    border-radius: 50%;\n",
              "    cursor: pointer;\n",
              "    display: none;\n",
              "    fill: var(--fill-color);\n",
              "    height: 32px;\n",
              "    padding: 0;\n",
              "    width: 32px;\n",
              "  }\n",
              "\n",
              "  .colab-df-quickchart:hover {\n",
              "    background-color: var(--hover-bg-color);\n",
              "    box-shadow: 0 1px 2px rgba(60, 64, 67, 0.3), 0 1px 3px 1px rgba(60, 64, 67, 0.15);\n",
              "    fill: var(--button-hover-fill-color);\n",
              "  }\n",
              "\n",
              "  .colab-df-quickchart-complete:disabled,\n",
              "  .colab-df-quickchart-complete:disabled:hover {\n",
              "    background-color: var(--disabled-bg-color);\n",
              "    fill: var(--disabled-fill-color);\n",
              "    box-shadow: none;\n",
              "  }\n",
              "\n",
              "  .colab-df-spinner {\n",
              "    border: 2px solid var(--fill-color);\n",
              "    border-color: transparent;\n",
              "    border-bottom-color: var(--fill-color);\n",
              "    animation:\n",
              "      spin 1s steps(1) infinite;\n",
              "  }\n",
              "\n",
              "  @keyframes spin {\n",
              "    0% {\n",
              "      border-color: transparent;\n",
              "      border-bottom-color: var(--fill-color);\n",
              "      border-left-color: var(--fill-color);\n",
              "    }\n",
              "    20% {\n",
              "      border-color: transparent;\n",
              "      border-left-color: var(--fill-color);\n",
              "      border-top-color: var(--fill-color);\n",
              "    }\n",
              "    30% {\n",
              "      border-color: transparent;\n",
              "      border-left-color: var(--fill-color);\n",
              "      border-top-color: var(--fill-color);\n",
              "      border-right-color: var(--fill-color);\n",
              "    }\n",
              "    40% {\n",
              "      border-color: transparent;\n",
              "      border-right-color: var(--fill-color);\n",
              "      border-top-color: var(--fill-color);\n",
              "    }\n",
              "    60% {\n",
              "      border-color: transparent;\n",
              "      border-right-color: var(--fill-color);\n",
              "    }\n",
              "    80% {\n",
              "      border-color: transparent;\n",
              "      border-right-color: var(--fill-color);\n",
              "      border-bottom-color: var(--fill-color);\n",
              "    }\n",
              "    90% {\n",
              "      border-color: transparent;\n",
              "      border-bottom-color: var(--fill-color);\n",
              "    }\n",
              "  }\n",
              "</style>\n",
              "\n",
              "  <script>\n",
              "    async function quickchart(key) {\n",
              "      const quickchartButtonEl =\n",
              "        document.querySelector('#' + key + ' button');\n",
              "      quickchartButtonEl.disabled = true;  // To prevent multiple clicks.\n",
              "      quickchartButtonEl.classList.add('colab-df-spinner');\n",
              "      try {\n",
              "        const charts = await google.colab.kernel.invokeFunction(\n",
              "            'suggestCharts', [key], {});\n",
              "      } catch (error) {\n",
              "        console.error('Error during call to suggestCharts:', error);\n",
              "      }\n",
              "      quickchartButtonEl.classList.remove('colab-df-spinner');\n",
              "      quickchartButtonEl.classList.add('colab-df-quickchart-complete');\n",
              "    }\n",
              "    (() => {\n",
              "      let quickchartButtonEl =\n",
              "        document.querySelector('#df-bdcf8159-1348-4d5e-a7eb-1132db014f56 button');\n",
              "      quickchartButtonEl.style.display =\n",
              "        google.colab.kernel.accessAllowed ? 'block' : 'none';\n",
              "    })();\n",
              "  </script>\n",
              "</div>\n",
              "    </div>\n",
              "  </div>\n"
            ],
            "application/vnd.google.colaboratory.intrinsic+json": {
              "type": "dataframe",
              "summary": "{\n  \"name\": \"data_laptop\",\n  \"rows\": 19,\n  \"fields\": [\n    {\n      \"column\": \"Company\",\n      \"properties\": {\n        \"dtype\": \"number\",\n        \"std\": 5,\n        \"min\": 0,\n        \"max\": 18,\n        \"num_unique_values\": 19,\n        \"samples\": [\n          4,\n          11,\n          14\n        ],\n        \"semantic_type\": \"\",\n        \"description\": \"\"\n      }\n    },\n    {\n      \"column\": \"count\",\n      \"properties\": {\n        \"dtype\": \"number\",\n        \"std\": 103,\n        \"min\": 2,\n        \"max\": 291,\n        \"num_unique_values\": 14,\n        \"samples\": [\n          7,\n          4,\n          291\n        ],\n        \"semantic_type\": \"\",\n        \"description\": \"\"\n      }\n    }\n  ]\n}"
            }
          },
          "metadata": {},
          "execution_count": 61
        }
      ]
    },
    {
      "cell_type": "code",
      "source": [
        "#menggunakan metode corr() dari Pandas untuk menentukan fitur selain price yang paling berkorelasi dengan price\n",
        "data_laptop.corr()['Price'].sort_values()"
      ],
      "metadata": {
        "colab": {
          "base_uri": "https://localhost:8080/"
        },
        "id": "haCKfIYC9hMq",
        "outputId": "be164920-1f74-4f53-cff9-902c4b50bd21"
      },
      "execution_count": null,
      "outputs": [
        {
          "output_type": "execute_result",
          "data": {
            "text/plain": [
              "TypeName      -0.122832\n",
              "HDD           -0.095628\n",
              "Company        0.134289\n",
              "Weight         0.147534\n",
              "TouchScreen    0.189845\n",
              "Cpu_brand      0.201506\n",
              "Os             0.221005\n",
              "Ips            0.282006\n",
              "Gpu_brand      0.362384\n",
              "Ppi            0.477564\n",
              "SSD            0.655888\n",
              "Ram            0.678202\n",
              "Price          1.000000\n",
              "Name: Price, dtype: float64"
            ]
          },
          "metadata": {},
          "execution_count": 62
        }
      ]
    },
    {
      "cell_type": "code",
      "source": [
        "model_1 = sm.ols(formula='Price ~ Company + TypeName + Weight + TouchScreen + Ips + Cpu_brand + Gpu_brand + Ppi + SSD + HDD + Ram + Os', data=data_laptop).fit()"
      ],
      "metadata": {
        "id": "Id6Q3XlAG1Vd"
      },
      "execution_count": null,
      "outputs": []
    },
    {
      "cell_type": "code",
      "source": [
        "print(model_1.summary())"
      ],
      "metadata": {
        "colab": {
          "base_uri": "https://localhost:8080/"
        },
        "id": "20FuivhhHhAq",
        "outputId": "c3783451-c160-4ab8-d86d-447077af438a"
      },
      "execution_count": null,
      "outputs": [
        {
          "output_type": "stream",
          "name": "stdout",
          "text": [
            "                            OLS Regression Results                            \n",
            "==============================================================================\n",
            "Dep. Variable:                  Price   R-squared:                       0.638\n",
            "Model:                            OLS   Adj. R-squared:                  0.635\n",
            "Method:                 Least Squares   F-statistic:                     185.1\n",
            "Date:                Sun, 12 May 2024   Prob (F-statistic):          1.12e-267\n",
            "Time:                        07:16:28   Log-Likelihood:                -544.38\n",
            "No. Observations:                1271   AIC:                             1115.\n",
            "Df Residuals:                    1258   BIC:                             1182.\n",
            "Df Model:                          12                                         \n",
            "Covariance Type:            nonrobust                                         \n",
            "===============================================================================\n",
            "                  coef    std err          t      P>|t|      [0.025      0.975]\n",
            "-------------------------------------------------------------------------------\n",
            "Intercept       9.1005      0.096     94.732      0.000       8.912       9.289\n",
            "Company         0.0081      0.003      3.046      0.002       0.003       0.013\n",
            "TypeName        0.0392      0.011      3.661      0.000       0.018       0.060\n",
            "Weight          0.0469      0.024      1.964      0.050    5.48e-05       0.094\n",
            "TouchScreen     0.0499      0.040      1.239      0.216      -0.029       0.129\n",
            "Ips             0.0835      0.025      3.317      0.001       0.034       0.133\n",
            "Cpu_brand      -0.0207      0.012     -1.724      0.085      -0.044       0.003\n",
            "Gpu_brand       0.1583      0.019      8.164      0.000       0.120       0.196\n",
            "Ppi             0.0031      0.000      9.289      0.000       0.002       0.004\n",
            "SSD             0.0010   9.15e-05     10.542      0.000       0.001       0.001\n",
            "HDD          3.412e-05   2.72e-05      1.252      0.211   -1.93e-05    8.76e-05\n",
            "Ram             0.0441      0.003     13.412      0.000       0.038       0.051\n",
            "Os              0.1552      0.027      5.699      0.000       0.102       0.209\n",
            "==============================================================================\n",
            "Omnibus:                       14.687   Durbin-Watson:                   1.990\n",
            "Prob(Omnibus):                  0.001   Jarque-Bera (JB):               18.170\n",
            "Skew:                          -0.165   Prob(JB):                     0.000113\n",
            "Kurtosis:                       3.484   Cond. No.                     6.32e+03\n",
            "==============================================================================\n",
            "\n",
            "Notes:\n",
            "[1] Standard Errors assume that the covariance matrix of the errors is correctly specified.\n",
            "[2] The condition number is large, 6.32e+03. This might indicate that there are\n",
            "strong multicollinearity or other numerical problems.\n"
          ]
        }
      ]
    },
    {
      "cell_type": "code",
      "source": [
        "model_2 = sm.ols(formula='Price ~ Company + TypeName + Weight + TouchScreen + Ips + Cpu_brand + Gpu_brand + Ppi + SSD + HDD + Ram + Os', data=data_laptop).fit()"
      ],
      "metadata": {
        "id": "u15REMouMtzV"
      },
      "execution_count": null,
      "outputs": []
    },
    {
      "cell_type": "code",
      "source": [
        "print(model_2.summary())"
      ],
      "metadata": {
        "colab": {
          "base_uri": "https://localhost:8080/"
        },
        "id": "LkSa7uc4MyMJ",
        "outputId": "e8eeaf90-f4d4-4213-8006-44f8fba4d362"
      },
      "execution_count": null,
      "outputs": [
        {
          "output_type": "stream",
          "name": "stdout",
          "text": [
            "                            OLS Regression Results                            \n",
            "==============================================================================\n",
            "Dep. Variable:                  Price   R-squared:                       0.638\n",
            "Model:                            OLS   Adj. R-squared:                  0.635\n",
            "Method:                 Least Squares   F-statistic:                     185.1\n",
            "Date:                Sun, 12 May 2024   Prob (F-statistic):          1.12e-267\n",
            "Time:                        07:16:34   Log-Likelihood:                -544.38\n",
            "No. Observations:                1271   AIC:                             1115.\n",
            "Df Residuals:                    1258   BIC:                             1182.\n",
            "Df Model:                          12                                         \n",
            "Covariance Type:            nonrobust                                         \n",
            "===============================================================================\n",
            "                  coef    std err          t      P>|t|      [0.025      0.975]\n",
            "-------------------------------------------------------------------------------\n",
            "Intercept       9.1005      0.096     94.732      0.000       8.912       9.289\n",
            "Company         0.0081      0.003      3.046      0.002       0.003       0.013\n",
            "TypeName        0.0392      0.011      3.661      0.000       0.018       0.060\n",
            "Weight          0.0469      0.024      1.964      0.050    5.48e-05       0.094\n",
            "TouchScreen     0.0499      0.040      1.239      0.216      -0.029       0.129\n",
            "Ips             0.0835      0.025      3.317      0.001       0.034       0.133\n",
            "Cpu_brand      -0.0207      0.012     -1.724      0.085      -0.044       0.003\n",
            "Gpu_brand       0.1583      0.019      8.164      0.000       0.120       0.196\n",
            "Ppi             0.0031      0.000      9.289      0.000       0.002       0.004\n",
            "SSD             0.0010   9.15e-05     10.542      0.000       0.001       0.001\n",
            "HDD          3.412e-05   2.72e-05      1.252      0.211   -1.93e-05    8.76e-05\n",
            "Ram             0.0441      0.003     13.412      0.000       0.038       0.051\n",
            "Os              0.1552      0.027      5.699      0.000       0.102       0.209\n",
            "==============================================================================\n",
            "Omnibus:                       14.687   Durbin-Watson:                   1.990\n",
            "Prob(Omnibus):                  0.001   Jarque-Bera (JB):               18.170\n",
            "Skew:                          -0.165   Prob(JB):                     0.000113\n",
            "Kurtosis:                       3.484   Cond. No.                     6.32e+03\n",
            "==============================================================================\n",
            "\n",
            "Notes:\n",
            "[1] Standard Errors assume that the covariance matrix of the errors is correctly specified.\n",
            "[2] The condition number is large, 6.32e+03. This might indicate that there are\n",
            "strong multicollinearity or other numerical problems.\n"
          ]
        }
      ]
    },
    {
      "cell_type": "code",
      "source": [
        "model_3 = sm.ols(formula='Price ~ Company + TypeName + Weight + TouchScreen + Ips + Cpu_brand + Gpu_brand + Ppi + SSD + HDD + Ram + Os', data=data_laptop).fit()"
      ],
      "metadata": {
        "id": "T5mFk3L8M1PJ"
      },
      "execution_count": null,
      "outputs": []
    },
    {
      "cell_type": "code",
      "source": [
        "print(model_3.summary())"
      ],
      "metadata": {
        "colab": {
          "base_uri": "https://localhost:8080/"
        },
        "id": "EY7rpgAlM45K",
        "outputId": "dd9e4803-cedb-4715-c7ba-d72963c9cb19"
      },
      "execution_count": null,
      "outputs": [
        {
          "output_type": "stream",
          "name": "stdout",
          "text": [
            "                            OLS Regression Results                            \n",
            "==============================================================================\n",
            "Dep. Variable:                  Price   R-squared:                       0.638\n",
            "Model:                            OLS   Adj. R-squared:                  0.635\n",
            "Method:                 Least Squares   F-statistic:                     185.1\n",
            "Date:                Sun, 12 May 2024   Prob (F-statistic):          1.12e-267\n",
            "Time:                        07:16:40   Log-Likelihood:                -544.38\n",
            "No. Observations:                1271   AIC:                             1115.\n",
            "Df Residuals:                    1258   BIC:                             1182.\n",
            "Df Model:                          12                                         \n",
            "Covariance Type:            nonrobust                                         \n",
            "===============================================================================\n",
            "                  coef    std err          t      P>|t|      [0.025      0.975]\n",
            "-------------------------------------------------------------------------------\n",
            "Intercept       9.1005      0.096     94.732      0.000       8.912       9.289\n",
            "Company         0.0081      0.003      3.046      0.002       0.003       0.013\n",
            "TypeName        0.0392      0.011      3.661      0.000       0.018       0.060\n",
            "Weight          0.0469      0.024      1.964      0.050    5.48e-05       0.094\n",
            "TouchScreen     0.0499      0.040      1.239      0.216      -0.029       0.129\n",
            "Ips             0.0835      0.025      3.317      0.001       0.034       0.133\n",
            "Cpu_brand      -0.0207      0.012     -1.724      0.085      -0.044       0.003\n",
            "Gpu_brand       0.1583      0.019      8.164      0.000       0.120       0.196\n",
            "Ppi             0.0031      0.000      9.289      0.000       0.002       0.004\n",
            "SSD             0.0010   9.15e-05     10.542      0.000       0.001       0.001\n",
            "HDD          3.412e-05   2.72e-05      1.252      0.211   -1.93e-05    8.76e-05\n",
            "Ram             0.0441      0.003     13.412      0.000       0.038       0.051\n",
            "Os              0.1552      0.027      5.699      0.000       0.102       0.209\n",
            "==============================================================================\n",
            "Omnibus:                       14.687   Durbin-Watson:                   1.990\n",
            "Prob(Omnibus):                  0.001   Jarque-Bera (JB):               18.170\n",
            "Skew:                          -0.165   Prob(JB):                     0.000113\n",
            "Kurtosis:                       3.484   Cond. No.                     6.32e+03\n",
            "==============================================================================\n",
            "\n",
            "Notes:\n",
            "[1] Standard Errors assume that the covariance matrix of the errors is correctly specified.\n",
            "[2] The condition number is large, 6.32e+03. This might indicate that there are\n",
            "strong multicollinearity or other numerical problems.\n"
          ]
        }
      ]
    },
    {
      "cell_type": "code",
      "source": [
        "features =['Ram', 'Weight', 'TouchScreen', 'Ips', 'Ppi', 'SSD', 'Company','TypeName', 'HDD', 'Gpu_brand', 'Cpu_brand', 'Os']"
      ],
      "metadata": {
        "id": "TpXG_PPc8jUT"
      },
      "execution_count": null,
      "outputs": []
    },
    {
      "cell_type": "code",
      "source": [
        "lm = LinearRegression()\n",
        "x=data_laptop[features]\n",
        "y=data_laptop.Price\n",
        "lm.fit(x,y)\n",
        "lm.score(x,y)"
      ],
      "metadata": {
        "colab": {
          "base_uri": "https://localhost:8080/"
        },
        "id": "xSzUZLy1JSW_",
        "outputId": "e98adc34-2bd6-46d6-d8fd-cb095f0f6d23"
      },
      "execution_count": null,
      "outputs": [
        {
          "output_type": "execute_result",
          "data": {
            "text/plain": [
              "0.6384382416351971"
            ]
          },
          "metadata": {},
          "execution_count": 70
        }
      ]
    },
    {
      "cell_type": "code",
      "source": [
        "Input=[('scale',StandardScaler()),('polynomial', PolynomialFeatures(include_bias=False)),('model',LinearRegression())]"
      ],
      "metadata": {
        "id": "TzjlCSNyKlOA"
      },
      "execution_count": null,
      "outputs": []
    },
    {
      "cell_type": "code",
      "source": [
        "#membuat pipeline object untuk memprediksi 'price', fit object tsb menggunakan features di dalam list features, dan hitung R^2\n",
        "x=data_laptop[features]\n",
        "y=data_laptop.Price\n",
        "pipe=Pipeline(Input)\n",
        "pipe.fit(x,y)\n",
        "pipe.score(x,y)"
      ],
      "metadata": {
        "colab": {
          "base_uri": "https://localhost:8080/"
        },
        "id": "3x0hYwQ-I0NT",
        "outputId": "af0b6896-6ea6-4b1e-bc04-4a6c1091e76b"
      },
      "execution_count": null,
      "outputs": [
        {
          "output_type": "execute_result",
          "data": {
            "text/plain": [
              "0.8608062067704267"
            ]
          },
          "metadata": {},
          "execution_count": 72
        }
      ]
    },
    {
      "cell_type": "markdown",
      "source": [
        "Model Evaluation"
      ],
      "metadata": {
        "id": "tp_e_ahIL9vc"
      }
    },
    {
      "cell_type": "code",
      "source": [
        "from sklearn.model_selection import cross_val_score\n",
        "from sklearn.model_selection import train_test_split\n",
        "print(\"done\")"
      ],
      "metadata": {
        "colab": {
          "base_uri": "https://localhost:8080/"
        },
        "id": "Uc2n3druMAJi",
        "outputId": "478ccebe-6de6-4ff8-bc7a-b682abb12888"
      },
      "execution_count": null,
      "outputs": [
        {
          "output_type": "stream",
          "name": "stdout",
          "text": [
            "done\n"
          ]
        }
      ]
    },
    {
      "cell_type": "code",
      "source": [
        "x = data_laptop[features]\n",
        "y = data_laptop['Price']\n",
        "\n",
        "x_train, x_test, y_train, y_test = train_test_split(x, y, test_size=0.15, random_state=1)\n",
        "\n",
        "\n",
        "print(\"number of test samples:\", x_test.shape[0])\n",
        "print(\"number of training samples:\",x_train.shape[0])"
      ],
      "metadata": {
        "colab": {
          "base_uri": "https://localhost:8080/"
        },
        "id": "gGTToE10MEOa",
        "outputId": "3ef02ae5-5d06-4782-c8c5-c335cb87c759"
      },
      "execution_count": null,
      "outputs": [
        {
          "output_type": "stream",
          "name": "stdout",
          "text": [
            "number of test samples: 191\n",
            "number of training samples: 1080\n"
          ]
        }
      ]
    },
    {
      "cell_type": "code",
      "source": [
        "from sklearn.linear_model import Ridge"
      ],
      "metadata": {
        "id": "beoWibsHMbfS"
      },
      "execution_count": null,
      "outputs": []
    },
    {
      "cell_type": "code",
      "source": [
        "rm=Ridge(alpha=0.1)\n",
        "rm.fit(x_train,y_train)\n",
        "rm.score(x_test,y_test)"
      ],
      "metadata": {
        "colab": {
          "base_uri": "https://localhost:8080/"
        },
        "id": "dJ1PHXRVMcmd",
        "outputId": "3bf2db49-e463-4fda-8730-1e8d3fa513a1"
      },
      "execution_count": null,
      "outputs": [
        {
          "output_type": "execute_result",
          "data": {
            "text/plain": [
              "0.6399838469604546"
            ]
          },
          "metadata": {},
          "execution_count": 76
        }
      ]
    },
    {
      "cell_type": "code",
      "source": [
        "pr=PolynomialFeatures(degree=2) #second order polynomial\n",
        "x_train_pr=pr.fit_transform(x_train) #train data\n",
        "x_test_pr=pr.fit_transform(x_test) #test data\n",
        "\n",
        "rr=Ridge(alpha=0.1) #Regularization strength; must be a positive float. Regularization improves the conditioning of the problem and reduces the variance of the estimates. Larger values specify stronger regularization.\n",
        "rr.fit(x_train_pr,y_train)\n",
        "rr.score(x_test_pr,y_test)"
      ],
      "metadata": {
        "colab": {
          "base_uri": "https://localhost:8080/"
        },
        "id": "ppmDgk6WMhXv",
        "outputId": "7c3d1fb0-5470-443a-f3e3-a22b5c3c2ea6"
      },
      "execution_count": null,
      "outputs": [
        {
          "output_type": "execute_result",
          "data": {
            "text/plain": [
              "0.7319285000344417"
            ]
          },
          "metadata": {},
          "execution_count": 77
        }
      ]
    }
  ]
}